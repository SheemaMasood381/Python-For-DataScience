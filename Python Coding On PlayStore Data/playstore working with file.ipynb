{
 "cells": [
  {
   "cell_type": "markdown",
   "id": "c13a58ee",
   "metadata": {},
   "source": [
    "## PRACTISE for creating custom functions\n",
    "\n",
    "## creating my function to read csv and return df with header if present"
   ]
  },
  {
   "cell_type": "code",
   "execution_count": 1,
   "id": "e63d03b3",
   "metadata": {},
   "outputs": [],
   "source": [
    "def csv_reader(file_name , header = True):\n",
    "    import csv\n",
    "    file = list(csv.reader(open(file_name , encoding = \"UTF-8\")))\n",
    "    if header == True:\n",
    "        header = file[0]\n",
    "        data = file[1:]\n",
    "        return header , data\n",
    "    else:\n",
    "        return file"
   ]
  },
  {
   "cell_type": "code",
   "execution_count": 2,
   "id": "a7c887e6",
   "metadata": {},
   "outputs": [],
   "source": [
    "header , data = csv_reader(\"playstore - Copy.csv\" , header = True)"
   ]
  },
  {
   "cell_type": "code",
   "execution_count": 3,
   "id": "01538e83",
   "metadata": {},
   "outputs": [
    {
     "name": "stdout",
     "output_type": "stream",
     "text": [
      "13\n",
      "['App', 'Category', 'Rating', 'Reviews', 'Size', 'Installs', 'Type', 'Price', 'Content Rating', 'Genres', 'Last Updated', 'Current Ver', 'Android Ver']\n"
     ]
    }
   ],
   "source": [
    "print(len(header))\n",
    "print(header)"
   ]
  },
  {
   "cell_type": "code",
   "execution_count": 4,
   "id": "fa0fd3a3",
   "metadata": {},
   "outputs": [
    {
     "name": "stdout",
     "output_type": "stream",
     "text": [
      "10840\n",
      "['Heart mill', 'DATING', '3.3', '4631', '45M', '100,000+', 'Free', '0', 'Mature 17+', 'Dating', '4-Aug-18', '5.2.14', '5.0 and up']\n"
     ]
    }
   ],
   "source": [
    "print(len(data))\n",
    "print(data[555])"
   ]
  },
  {
   "cell_type": "code",
   "execution_count": 5,
   "id": "ef43ce4c",
   "metadata": {},
   "outputs": [
    {
     "data": {
      "text/plain": [
       "(list, list, str)"
      ]
     },
     "execution_count": 5,
     "metadata": {},
     "output_type": "execute_result"
    }
   ],
   "source": [
    "type(data) , type(data[99]) , type(data[99][5])"
   ]
  },
  {
   "cell_type": "code",
   "execution_count": 7,
   "id": "66a08745",
   "metadata": {},
   "outputs": [],
   "source": [
    "## funtion that takes file name and index of coulmn and returns value counts"
   ]
  },
  {
   "cell_type": "code",
   "execution_count": 8,
   "id": "97f21623",
   "metadata": {},
   "outputs": [
    {
     "name": "stdout",
     "output_type": "stream",
     "text": [
      "33\n"
     ]
    },
    {
     "data": {
      "text/plain": [
       "Counter({'FAMILY': 1972,\n",
       "         'GAME': 1144,\n",
       "         'TOOLS': 843,\n",
       "         'MEDICAL': 463,\n",
       "         'BUSINESS': 460,\n",
       "         'PRODUCTIVITY': 424,\n",
       "         'PERSONALIZATION': 392,\n",
       "         'COMMUNICATION': 387,\n",
       "         'SPORTS': 384,\n",
       "         'LIFESTYLE': 382,\n",
       "         'FINANCE': 366,\n",
       "         'HEALTH_AND_FITNESS': 341,\n",
       "         'PHOTOGRAPHY': 335,\n",
       "         'SOCIAL': 295,\n",
       "         'NEWS_AND_MAGAZINES': 283,\n",
       "         'SHOPPING': 260,\n",
       "         'TRAVEL_AND_LOCAL': 258,\n",
       "         'DATING': 234,\n",
       "         'BOOKS_AND_REFERENCE': 231,\n",
       "         'VIDEO_PLAYERS': 175,\n",
       "         'EDUCATION': 156,\n",
       "         'ENTERTAINMENT': 149,\n",
       "         'MAPS_AND_NAVIGATION': 137,\n",
       "         'FOOD_AND_DRINK': 127,\n",
       "         'HOUSE_AND_HOME': 88,\n",
       "         'AUTO_AND_VEHICLES': 85,\n",
       "         'LIBRARIES_AND_DEMO': 85,\n",
       "         'WEATHER': 82,\n",
       "         'ART_AND_DESIGN': 65,\n",
       "         'EVENTS': 64,\n",
       "         'COMICS': 60,\n",
       "         'PARENTING': 60,\n",
       "         'BEAUTY': 53})"
      ]
     },
     "execution_count": 8,
     "metadata": {},
     "output_type": "execute_result"
    }
   ],
   "source": [
    "def histogram(file_name, index):\n",
    "    from collections import Counter\n",
    "    column = []\n",
    "    for i in file_name:\n",
    "        column_value = i[index]\n",
    "        column.append(column_value)\n",
    "    histogram = Counter(column)\n",
    "    return histogram\n",
    "apps_category = histogram(data , 1)\n",
    "print(len(apps_category))\n",
    "apps_category"
   ]
  },
  {
   "cell_type": "markdown",
   "id": "448a70a1",
   "metadata": {},
   "source": [
    "## fx that creating a column from csv file"
   ]
  },
  {
   "cell_type": "code",
   "execution_count": 10,
   "id": "f05e7403",
   "metadata": {},
   "outputs": [],
   "source": [
    "def get_column(file_name, index):\n",
    "    column = []\n",
    "    for i in file_name:\n",
    "        col = i[index]\n",
    "        column.append(col)\n",
    "    return column"
   ]
  },
  {
   "cell_type": "markdown",
   "id": "be2192c3",
   "metadata": {},
   "source": [
    "# fx to find index for any value present in nested list"
   ]
  },
  {
   "cell_type": "code",
   "execution_count": 12,
   "id": "69c33e3e",
   "metadata": {},
   "outputs": [],
   "source": [
    "def find(file_name, index, point_value):\n",
    "    column = get_column(file_name , index)\n",
    "    index = column.index(point_value)\n",
    "    return index"
   ]
  },
  {
   "cell_type": "markdown",
   "id": "0a16aae9",
   "metadata": {},
   "source": [
    "# checking my fx for finding index for any value"
   ]
  },
  {
   "cell_type": "code",
   "execution_count": 13,
   "id": "431b99a4",
   "metadata": {},
   "outputs": [
    {
     "data": {
      "text/plain": [
       "10830"
      ]
     },
     "execution_count": 13,
     "metadata": {},
     "output_type": "execute_result"
    }
   ],
   "source": [
    "find(data , -2 , \"2.0.148.0\")"
   ]
  },
  {
   "cell_type": "markdown",
   "id": "2a103ea3",
   "metadata": {},
   "source": [
    "# finding the number of category of apps"
   ]
  },
  {
   "cell_type": "code",
   "execution_count": 14,
   "id": "5646dc64",
   "metadata": {},
   "outputs": [],
   "source": [
    "popular_apps_category = set()\n",
    "\n",
    "for i in data:\n",
    "    app_category = i[1]\n",
    "    installs = i[5]\n",
    "    ratings = float(i[2])\n",
    "    if installs == \"1,000,000,000+\" and ratings > 4:\n",
    "        popular_apps_category.add(app_category)"
   ]
  },
  {
   "cell_type": "code",
   "execution_count": 15,
   "id": "d0647e16",
   "metadata": {},
   "outputs": [
    {
     "data": {
      "text/plain": [
       "{'COMMUNICATION',\n",
       " 'ENTERTAINMENT',\n",
       " 'FAMILY',\n",
       " 'GAME',\n",
       " 'PHOTOGRAPHY',\n",
       " 'PRODUCTIVITY',\n",
       " 'SOCIAL',\n",
       " 'TOOLS',\n",
       " 'TRAVEL_AND_LOCAL',\n",
       " 'VIDEO_PLAYERS'}"
      ]
     },
     "execution_count": 15,
     "metadata": {},
     "output_type": "execute_result"
    }
   ],
   "source": [
    "popular_apps_category"
   ]
  },
  {
   "cell_type": "markdown",
   "id": "33d5a879",
   "metadata": {},
   "source": [
    "# practise datetime"
   ]
  },
  {
   "cell_type": "markdown",
   "id": "bb7b3c6a",
   "metadata": {},
   "source": [
    "## to find out the most recently updated apps"
   ]
  },
  {
   "cell_type": "code",
   "execution_count": 17,
   "id": "e7183348",
   "metadata": {},
   "outputs": [
    {
     "data": {
      "text/plain": [
       "datetime.datetime(2018, 7, 25, 0, 0)"
      ]
     },
     "execution_count": 17,
     "metadata": {},
     "output_type": "execute_result"
    }
   ],
   "source": [
    "from datetime import datetime\n",
    "update_dates =[]\n",
    "for i in data:\n",
    "    date_string = i[-3]\n",
    "    date_format = '%d-%b-%y'\n",
    "    parsed_date = datetime.strptime(date_string, date_format)\n",
    "parsed_date"
   ]
  },
  {
   "cell_type": "code",
   "execution_count": 18,
   "id": "d66a0afd",
   "metadata": {},
   "outputs": [],
   "source": [
    "from datetime import datetime\n",
    "year_of_update = []\n",
    "for i in data:\n",
    "    date_string = i[-3]\n",
    "    date_format = '%d-%b-%y'\n",
    "    parsed_date = datetime.strptime(date_string, date_format) \n",
    "    years = parsed_date.year\n",
    "    year_of_update.append(years)\n",
    "    i.append(years)\n",
    "    "
   ]
  },
  {
   "cell_type": "code",
   "execution_count": 19,
   "id": "15ca7be3",
   "metadata": {},
   "outputs": [
    {
     "name": "stdout",
     "output_type": "stream",
     "text": [
      "['Heart mill', 'DATING', '3.3', '4631', '45M', '100,000+', 'Free', '0', 'Mature 17+', 'Dating', '4-Aug-18', '5.2.14', '5.0 and up', 2018]\n",
      "['KTB Netbank', 'FINANCE', '3.8', '42644', '19M', '5,000,000+', 'Free', '0', 'Everyone', 'Finance', '28-Jun-18', '8.18', '4.2 and up', 2018]\n"
     ]
    }
   ],
   "source": [
    "print(data[555])\n",
    "print(data[1052])"
   ]
  },
  {
   "cell_type": "code",
   "execution_count": 20,
   "id": "cfa2a248",
   "metadata": {},
   "outputs": [
    {
     "name": "stdout",
     "output_type": "stream",
     "text": [
      "['App', 'Category', 'Rating', 'Reviews', 'Size', 'Installs', 'Type', 'Price', 'Content Rating', 'Genres', 'Last Updated', 'Current Ver', 'Android Ver', 'year_of_update']\n"
     ]
    }
   ],
   "source": [
    "# updating header\n",
    "header.append(\"year_of_update\")\n",
    "print(header)"
   ]
  },
  {
   "cell_type": "markdown",
   "id": "c821bb7a",
   "metadata": {},
   "source": [
    "## to find out most reviewed app\n",
    "### first we convert review column into integer to compare"
   ]
  },
  {
   "cell_type": "code",
   "execution_count": 21,
   "id": "08cc27a5",
   "metadata": {},
   "outputs": [],
   "source": [
    "header.append(\"review_activity\")\n",
    "for i in data:\n",
    "    rewiew_count = int(i[3])\n",
    "    app_category = i[1]\n",
    "    if rewiew_count >= 10000000:\n",
    "        i.append(\"most frequently reviewed\")\n",
    "    elif 10000000 > rewiew_count >= 1000000:\n",
    "        i.append(\"frequently reviewed\")\n",
    "    elif 1000000 > rewiew_count >= 100000:\n",
    "        i.append(\"commonly reviewed\")\n",
    "    elif 100000 > rewiew_count >= 10000:\n",
    "        i.append(\"less commonly reviewed\")\n",
    "    else:\n",
    "        i.append(\"rarely reviewed\")"
   ]
  },
  {
   "cell_type": "code",
   "execution_count": 22,
   "id": "797f7f85",
   "metadata": {},
   "outputs": [
    {
     "name": "stdout",
     "output_type": "stream",
     "text": [
      "['App', 'Category', 'Rating', 'Reviews', 'Size', 'Installs', 'Type', 'Price', 'Content Rating', 'Genres', 'Last Updated', 'Current Ver', 'Android Ver', 'year_of_update', 'review_activity']\n",
      "['Imgur: Find funny GIFs, memes & watch viral videos', 'ENTERTAINMENT', '4.3', '160164', '12M', '10,000,000+', 'Free', '0', 'Teen', 'Entertainment', '1-Aug-18', '4.2.0.8447', '5.0 and up', 2018, 'commonly reviewed']\n"
     ]
    }
   ],
   "source": [
    "print(header)\n",
    "print(data[1000])"
   ]
  },
  {
   "cell_type": "code",
   "execution_count": 23,
   "id": "44ec0e19",
   "metadata": {},
   "outputs": [],
   "source": [
    "popular_apps_category = {}       #need to work on this , for year \n",
    "                              #update if the next year is latest one\n",
    "\n",
    "for i in data:\n",
    "    app_category = i[1]\n",
    "    installs = i[5]\n",
    "    ratings = float(i[2])\n",
    "    user_ages = i[8]\n",
    "    year_of_update = i[-2]\n",
    "    review_activity = i[-1]\n",
    "    if installs == \"1,000,000,000+\" and ratings > 4:\n",
    "        if app_category not in popular_apps_category:\n",
    "            popular_apps_category[app_category] = [year_of_update , user_ages , review_activity, ratings]"
   ]
  },
  {
   "cell_type": "code",
   "execution_count": 24,
   "id": "c8eb5712",
   "metadata": {},
   "outputs": [
    {
     "data": {
      "text/plain": [
       "{'COMMUNICATION': [2018, 'Everyone', 'most frequently reviewed', 4.4],\n",
       " 'ENTERTAINMENT': [2018, 'Teen', 'frequently reviewed', 4.3],\n",
       " 'GAME': [2018, 'Everyone 10+', 'most frequently reviewed', 4.5],\n",
       " 'SOCIAL': [2018, 'Teen', 'most frequently reviewed', 4.1],\n",
       " 'PHOTOGRAPHY': [2018, 'Everyone', 'most frequently reviewed', 4.5],\n",
       " 'TRAVEL_AND_LOCAL': [2018, 'Everyone', 'frequently reviewed', 4.3],\n",
       " 'TOOLS': [2018, 'Everyone', 'frequently reviewed', 4.4],\n",
       " 'PRODUCTIVITY': [2018, 'Everyone', 'frequently reviewed', 4.4],\n",
       " 'VIDEO_PLAYERS': [2018, 'Teen', 'most frequently reviewed', 4.3],\n",
       " 'FAMILY': [2018, 'Teen', 'frequently reviewed', 4.3]}"
      ]
     },
     "execution_count": 24,
     "metadata": {},
     "output_type": "execute_result"
    }
   ],
   "source": [
    "popular_apps_category"
   ]
  },
  {
   "cell_type": "markdown",
   "id": "bbc1d74b",
   "metadata": {},
   "source": [
    "## problems:\n",
    "* when loop got the first key , it picked values from all respected column regardless of importance of any value\n",
    "* i made a list according to most downloaded apps which has more than 4 stars rating\n",
    "* but it is not necessary that all apps in that category got same ratings , i should update it with the average of ratings of all apps in that category\n",
    "* wese to data is till 2018 so year of update is right but i may encounter that some apps in the apps category are updated in 2019 , which is after the first row, so i have to update the year as the lestest year \n",
    "* review and age groups are well defined "
   ]
  },
  {
   "cell_type": "code",
   "execution_count": 25,
   "id": "53ce4902",
   "metadata": {},
   "outputs": [],
   "source": [
    "categories_ratings_avg = { }\n",
    "    \n",
    "categories_ratings = {}\n",
    "no_of_apps = {}\n",
    "\n",
    "for i in data:\n",
    "    category = i[1]\n",
    "    rating = i[2]\n",
    "    if category in categories_ratings:\n",
    "        if rating != \"NaN\":\n",
    "            categories_ratings[category] += float(rating)\n",
    "            no_of_apps[category] += 1\n",
    "    else:\n",
    "        if rating != \"NaN\":\n",
    "            categories_ratings[category] = float(rating)\n",
    "            no_of_apps[category] = 1\n",
    "\n",
    "categories_ratings_avg  = {}\n",
    "for category in categories_ratings:\n",
    "    \n",
    "    categories_ratings_avg[category] = [categories_ratings[category] / no_of_apps[category] , no_of_apps[category]]\n"
   ]
  },
  {
   "cell_type": "code",
   "execution_count": 26,
   "id": "463b492a",
   "metadata": {},
   "outputs": [
    {
     "data": {
      "text/plain": [
       "{'ART_AND_DESIGN': [4.358064516129031, 62],\n",
       " 'AUTO_AND_VEHICLES': [4.19041095890411, 73],\n",
       " 'BEAUTY': [4.278571428571428, 42],\n",
       " 'BOOKS_AND_REFERENCE': [4.346067415730338, 178],\n",
       " 'BUSINESS': [4.121452145214522, 303],\n",
       " 'COMICS': [4.155172413793104, 58],\n",
       " 'COMMUNICATION': [4.158536585365852, 328],\n",
       " 'DATING': [3.9707692307692306, 195],\n",
       " 'EDUCATION': [4.389032258064517, 155],\n",
       " 'ENTERTAINMENT': [4.126174496644294, 149],\n",
       " 'EVENTS': [4.435555555555557, 45],\n",
       " 'FINANCE': [4.131888544891644, 323],\n",
       " 'FOOD_AND_DRINK': [4.1669724770642205, 109],\n",
       " 'HEALTH_AND_FITNESS': [4.2771043771043775, 297],\n",
       " 'HOUSE_AND_HOME': [4.197368421052633, 76],\n",
       " 'LIBRARIES_AND_DEMO': [4.178461538461538, 65],\n",
       " 'LIFESTYLE': [4.094904458598724, 314],\n",
       " 'GAME': [4.2863263445761195, 1097],\n",
       " 'FAMILY': [4.192272467086437, 1747],\n",
       " 'MEDICAL': [4.18914285714286, 350],\n",
       " 'SOCIAL': [4.255598455598457, 259],\n",
       " 'SHOPPING': [4.259663865546221, 238],\n",
       " 'PHOTOGRAPHY': [4.192113564668767, 317],\n",
       " 'SPORTS': [4.223510971786835, 319],\n",
       " 'TRAVEL_AND_LOCAL': [4.10929203539823, 226],\n",
       " 'TOOLS': [4.047411444141691, 734],\n",
       " 'PERSONALIZATION': [4.335987261146501, 314],\n",
       " 'PRODUCTIVITY': [4.211396011396012, 351],\n",
       " 'PARENTING': [4.300000000000001, 50],\n",
       " 'WEATHER': [4.243999999999999, 75],\n",
       " 'VIDEO_PLAYERS': [4.063750000000001, 160],\n",
       " 'NEWS_AND_MAGAZINES': [4.1321888412017165, 233],\n",
       " 'MAPS_AND_NAVIGATION': [4.051612903225806, 124]}"
      ]
     },
     "execution_count": 26,
     "metadata": {},
     "output_type": "execute_result"
    }
   ],
   "source": [
    "categories_ratings_avg "
   ]
  },
  {
   "cell_type": "markdown",
   "id": "dd6805ed",
   "metadata": {},
   "source": [
    "# adding rewiews"
   ]
  },
  {
   "cell_type": "code",
   "execution_count": 30,
   "id": "6c68026e",
   "metadata": {},
   "outputs": [],
   "source": [
    "\n",
    "categories_ratings_avg = { }            \n",
    "    \n",
    "categories_ratings = {}\n",
    "categories_reviews = {}\n",
    "no_of_apps = {}\n",
    "\n",
    "for i in data:\n",
    "    review = i[3]\n",
    "    category = i[1]\n",
    "    rating = i[2]\n",
    "    if category in categories_ratings:\n",
    "        if rating != \"NaN\":\n",
    "            categories_ratings[category] += float(rating)\n",
    "            no_of_apps[category] += 1\n",
    "            categories_reviews[category] += int(review)\n",
    "    else:\n",
    "        if rating != \"NaN\":\n",
    "            categories_ratings[category] = float(rating)\n",
    "            no_of_apps[category] = 1\n",
    "            categories_reviews[category]  = int(review)\n",
    "            \n",
    "\n",
    "apps_data  = {}\n",
    "for category in categories_ratings:\n",
    "    apps_data[category] = [no_of_apps[category] , categories_ratings[category] / no_of_apps[category] ,\n",
    "                                        categories_reviews[category]/no_of_apps[category] ]                         "
   ]
  },
  {
   "cell_type": "code",
   "execution_count": 31,
   "id": "48f6a369",
   "metadata": {},
   "outputs": [
    {
     "data": {
      "text/plain": [
       "{'ART_AND_DESIGN': [62, 4.358064516129031, 27651.16129032258],\n",
       " 'AUTO_AND_VEHICLES': [73, 4.19041095890411, 15940.13698630137],\n",
       " 'BEAUTY': [42, 4.278571428571428, 9407.92857142857],\n",
       " 'BOOKS_AND_REFERENCE': [178, 4.346067415730338, 123363.25842696629],\n",
       " 'BUSINESS': [303, 4.121452145214522, 46053.08910891089],\n",
       " 'COMICS': [58, 4.155172413793104, 58309.39655172414],\n",
       " 'COMMUNICATION': [328, 4.158536585365852, 2486164.0213414636],\n",
       " 'DATING': [195, 3.9707692307692306, 37389.94358974359],\n",
       " 'EDUCATION': [155, 4.389032258064517, 255451.67741935485],\n",
       " 'ENTERTAINMENT': [149, 4.126174496644294, 397168.8187919463],\n",
       " 'EVENTS': [45, 4.435555555555557, 3568.6666666666665],\n",
       " 'FINANCE': [323, 4.131888544891644, 54335.622291021675],\n",
       " 'FOOD_AND_DRINK': [109, 4.1669724770642205, 81495.49541284403],\n",
       " 'HEALTH_AND_FITNESS': [297, 4.2771043771043775, 127587.95286195286],\n",
       " 'HOUSE_AND_HOME': [76, 4.197368421052633, 52315.84210526316],\n",
       " 'LIBRARIES_AND_DEMO': [65, 4.178461538461538, 15900.538461538461],\n",
       " 'LIFESTYLE': [314, 4.094904458598724, 41024.74203821656],\n",
       " 'GAME': [1097, 4.2863263445761195, 1445232.066545123],\n",
       " 'FAMILY': [1747, 4.192272467086437, 234815.7303949628],\n",
       " 'MEDICAL': [350, 4.18914285714286, 4530.348571428572],\n",
       " 'SOCIAL': [259, 4.255598455598457, 2398614.250965251],\n",
       " 'SHOPPING': [238, 4.259663865546221, 483365.68487394956],\n",
       " 'PHOTOGRAPHY': [317, 4.192113564668767, 673553.9652996846],\n",
       " 'SPORTS': [319, 4.223510971786835, 222036.263322884],\n",
       " 'TRAVEL_AND_LOCAL': [226, 4.10929203539823, 277069.78761061945],\n",
       " 'TOOLS': [734, 4.047411444141691, 372185.51498637605],\n",
       " 'PERSONALIZATION': [314, 4.335987261146501, 284540.8121019108],\n",
       " 'PRODUCTIVITY': [351, 4.211396011396012, 325118.85185185185],\n",
       " 'PARENTING': [50, 4.300000000000001, 19072.18],\n",
       " 'WEATHER': [75, 4.243999999999999, 194729.26666666666],\n",
       " 'VIDEO_PLAYERS': [160, 4.063750000000001, 689873.075],\n",
       " 'NEWS_AND_MAGAZINES': [233, 4.1321888412017165, 233475.96137339057],\n",
       " 'MAPS_AND_NAVIGATION': [124, 4.051612903225806, 247250.48387096773]}"
      ]
     },
     "execution_count": 31,
     "metadata": {},
     "output_type": "execute_result"
    }
   ],
   "source": [
    "apps_data"
   ]
  },
  {
   "cell_type": "markdown",
   "id": "8bfa4c53",
   "metadata": {},
   "source": [
    "# working on installs , clean and compare"
   ]
  },
  {
   "cell_type": "code",
   "execution_count": 34,
   "id": "5fd279fd",
   "metadata": {},
   "outputs": [
    {
     "ename": "KeyError",
     "evalue": "'ART_AND_DESIGN'",
     "output_type": "error",
     "traceback": [
      "\u001b[1;31m---------------------------------------------------------------------------\u001b[0m",
      "\u001b[1;31mKeyError\u001b[0m                                  Traceback (most recent call last)",
      "Cell \u001b[1;32mIn[34], line 16\u001b[0m\n\u001b[0;32m     14\u001b[0m         no_of_apps[category] \u001b[38;5;241m+\u001b[39m\u001b[38;5;241m=\u001b[39m \u001b[38;5;241m1\u001b[39m\n\u001b[0;32m     15\u001b[0m         categories_reviews[category] \u001b[38;5;241m+\u001b[39m\u001b[38;5;241m=\u001b[39m \u001b[38;5;28mint\u001b[39m(review)\n\u001b[1;32m---> 16\u001b[0m         installs[category] \u001b[38;5;241m+\u001b[39m\u001b[38;5;241m=\u001b[39m  \u001b[38;5;241m1\u001b[39m\n\u001b[0;32m     17\u001b[0m \u001b[38;5;28;01melse\u001b[39;00m:\n\u001b[0;32m     18\u001b[0m     \u001b[38;5;28;01mif\u001b[39;00m rating \u001b[38;5;241m!=\u001b[39m \u001b[38;5;124m\"\u001b[39m\u001b[38;5;124mNaN\u001b[39m\u001b[38;5;124m\"\u001b[39m:\n",
      "\u001b[1;31mKeyError\u001b[0m: 'ART_AND_DESIGN'"
     ]
    }
   ],
   "source": [
    "categories_ratings_avg = { }                        \n",
    "categories_ratings = {}\n",
    "categories_reviews = {}\n",
    "no_of_apps = {}\n",
    "installs = {}\n",
    "\n",
    "for i in data:\n",
    "    review = i[3]\n",
    "    category = i[1]\n",
    "    rating = i[2]\n",
    "    if category in categories_ratings:\n",
    "        if rating != \"NaN\":\n",
    "            categories_ratings[category] += float(rating)\n",
    "            no_of_apps[category] += 1\n",
    "            categories_reviews[category] += int(review)\n",
    "            installs[category] +=  1\n",
    "    else:\n",
    "        if rating != \"NaN\":\n",
    "            categories_ratings[category] = float(rating)\n",
    "            no_of_apps[category] = 1\n",
    "            categories_reviews[category]  = int(review)\n",
    "            \n",
    "\n",
    "categories_ratings_avg  = {}\n",
    "for category in categories_ratings:\n",
    "    categories_ratings_avg[category] = [no_of_apps[category] , categories_ratings[category] / no_of_apps[category] ,\n",
    "                                        categories_reviews[category]/no_of_apps[category] ]   "
   ]
  },
  {
   "cell_type": "markdown",
   "id": "573d189b",
   "metadata": {},
   "source": [
    "## checking and working"
   ]
  },
  {
   "cell_type": "code",
   "execution_count": 35,
   "id": "383407d1",
   "metadata": {},
   "outputs": [],
   "source": [
    "for key ,values in apps_data.items():\n",
    "    values[1] = round(values[1], 2)\n",
    "    values[2] = round(values[2], 2)\n",
    "    "
   ]
  },
  {
   "cell_type": "code",
   "execution_count": 36,
   "id": "9d3593d9",
   "metadata": {},
   "outputs": [
    {
     "data": {
      "text/plain": [
       "{'ART_AND_DESIGN': [62, 4.36, 27651.16],\n",
       " 'AUTO_AND_VEHICLES': [73, 4.19, 15940.14],\n",
       " 'BEAUTY': [42, 4.28, 9407.93],\n",
       " 'BOOKS_AND_REFERENCE': [178, 4.35, 123363.26],\n",
       " 'BUSINESS': [303, 4.12, 46053.09],\n",
       " 'COMICS': [58, 4.16, 58309.4],\n",
       " 'COMMUNICATION': [328, 4.16, 2486164.02],\n",
       " 'DATING': [195, 3.97, 37389.94],\n",
       " 'EDUCATION': [155, 4.39, 255451.68],\n",
       " 'ENTERTAINMENT': [149, 4.13, 397168.82],\n",
       " 'EVENTS': [45, 4.44, 3568.67],\n",
       " 'FINANCE': [323, 4.13, 54335.62],\n",
       " 'FOOD_AND_DRINK': [109, 4.17, 81495.5],\n",
       " 'HEALTH_AND_FITNESS': [297, 4.28, 127587.95],\n",
       " 'HOUSE_AND_HOME': [76, 4.2, 52315.84],\n",
       " 'LIBRARIES_AND_DEMO': [65, 4.18, 15900.54],\n",
       " 'LIFESTYLE': [314, 4.09, 41024.74],\n",
       " 'GAME': [1097, 4.29, 1445232.07],\n",
       " 'FAMILY': [1747, 4.19, 234815.73],\n",
       " 'MEDICAL': [350, 4.19, 4530.35],\n",
       " 'SOCIAL': [259, 4.26, 2398614.25],\n",
       " 'SHOPPING': [238, 4.26, 483365.68],\n",
       " 'PHOTOGRAPHY': [317, 4.19, 673553.97],\n",
       " 'SPORTS': [319, 4.22, 222036.26],\n",
       " 'TRAVEL_AND_LOCAL': [226, 4.11, 277069.79],\n",
       " 'TOOLS': [734, 4.05, 372185.51],\n",
       " 'PERSONALIZATION': [314, 4.34, 284540.81],\n",
       " 'PRODUCTIVITY': [351, 4.21, 325118.85],\n",
       " 'PARENTING': [50, 4.3, 19072.18],\n",
       " 'WEATHER': [75, 4.24, 194729.27],\n",
       " 'VIDEO_PLAYERS': [160, 4.06, 689873.07],\n",
       " 'NEWS_AND_MAGAZINES': [233, 4.13, 233475.96],\n",
       " 'MAPS_AND_NAVIGATION': [124, 4.05, 247250.48]}"
      ]
     },
     "execution_count": 36,
     "metadata": {},
     "output_type": "execute_result"
    }
   ],
   "source": [
    "apps_data"
   ]
  },
  {
   "cell_type": "code",
   "execution_count": 37,
   "id": "992f3766",
   "metadata": {},
   "outputs": [],
   "source": [
    "for i , v in apps_data.items():\n",
    "    review = v[-1]\n",
    "    if review >= 100000:\n",
    "        v.append(\"mostly reviewed\")\n",
    "    elif 100000 > review >= 10000:\n",
    "        v.append(\"frequently reviewed\")\n",
    "    else:\n",
    "        v.append(\"rarely reviewed\")\n"
   ]
  },
  {
   "cell_type": "code",
   "execution_count": 38,
   "id": "a94a2454",
   "metadata": {},
   "outputs": [
    {
     "data": {
      "text/plain": [
       "{'ART_AND_DESIGN': [62, 4.36, 27651.16, 'frequently reviewed'],\n",
       " 'AUTO_AND_VEHICLES': [73, 4.19, 15940.14, 'frequently reviewed'],\n",
       " 'BEAUTY': [42, 4.28, 9407.93, 'rarely reviewed'],\n",
       " 'BOOKS_AND_REFERENCE': [178, 4.35, 123363.26, 'mostly reviewed'],\n",
       " 'BUSINESS': [303, 4.12, 46053.09, 'frequently reviewed'],\n",
       " 'COMICS': [58, 4.16, 58309.4, 'frequently reviewed'],\n",
       " 'COMMUNICATION': [328, 4.16, 2486164.02, 'mostly reviewed'],\n",
       " 'DATING': [195, 3.97, 37389.94, 'frequently reviewed'],\n",
       " 'EDUCATION': [155, 4.39, 255451.68, 'mostly reviewed'],\n",
       " 'ENTERTAINMENT': [149, 4.13, 397168.82, 'mostly reviewed'],\n",
       " 'EVENTS': [45, 4.44, 3568.67, 'rarely reviewed'],\n",
       " 'FINANCE': [323, 4.13, 54335.62, 'frequently reviewed'],\n",
       " 'FOOD_AND_DRINK': [109, 4.17, 81495.5, 'frequently reviewed'],\n",
       " 'HEALTH_AND_FITNESS': [297, 4.28, 127587.95, 'mostly reviewed'],\n",
       " 'HOUSE_AND_HOME': [76, 4.2, 52315.84, 'frequently reviewed'],\n",
       " 'LIBRARIES_AND_DEMO': [65, 4.18, 15900.54, 'frequently reviewed'],\n",
       " 'LIFESTYLE': [314, 4.09, 41024.74, 'frequently reviewed'],\n",
       " 'GAME': [1097, 4.29, 1445232.07, 'mostly reviewed'],\n",
       " 'FAMILY': [1747, 4.19, 234815.73, 'mostly reviewed'],\n",
       " 'MEDICAL': [350, 4.19, 4530.35, 'rarely reviewed'],\n",
       " 'SOCIAL': [259, 4.26, 2398614.25, 'mostly reviewed'],\n",
       " 'SHOPPING': [238, 4.26, 483365.68, 'mostly reviewed'],\n",
       " 'PHOTOGRAPHY': [317, 4.19, 673553.97, 'mostly reviewed'],\n",
       " 'SPORTS': [319, 4.22, 222036.26, 'mostly reviewed'],\n",
       " 'TRAVEL_AND_LOCAL': [226, 4.11, 277069.79, 'mostly reviewed'],\n",
       " 'TOOLS': [734, 4.05, 372185.51, 'mostly reviewed'],\n",
       " 'PERSONALIZATION': [314, 4.34, 284540.81, 'mostly reviewed'],\n",
       " 'PRODUCTIVITY': [351, 4.21, 325118.85, 'mostly reviewed'],\n",
       " 'PARENTING': [50, 4.3, 19072.18, 'frequently reviewed'],\n",
       " 'WEATHER': [75, 4.24, 194729.27, 'mostly reviewed'],\n",
       " 'VIDEO_PLAYERS': [160, 4.06, 689873.07, 'mostly reviewed'],\n",
       " 'NEWS_AND_MAGAZINES': [233, 4.13, 233475.96, 'mostly reviewed'],\n",
       " 'MAPS_AND_NAVIGATION': [124, 4.05, 247250.48, 'mostly reviewed']}"
      ]
     },
     "execution_count": 38,
     "metadata": {},
     "output_type": "execute_result"
    }
   ],
   "source": [
    "apps_data"
   ]
  },
  {
   "cell_type": "code",
   "execution_count": 45,
   "id": "7ee01f83",
   "metadata": {},
   "outputs": [
    {
     "data": {
      "text/plain": [
       "{'ART_AND_DESIGN': [62, 4.36, 27651.16, 'frequently reviewed'],\n",
       " 'AUTO_AND_VEHICLES': [73, 4.19, 15940.14, 'frequently reviewed'],\n",
       " 'BEAUTY': [42, 4.28, 9407.93, 'rarely reviewed'],\n",
       " 'BOOKS_AND_REFERENCE': [178, 4.35, 123363.26, 'mostly reviewed'],\n",
       " 'BUSINESS': [303, 4.12, 46053.09, 'frequently reviewed'],\n",
       " 'COMICS': [58, 4.16, 58309.4, 'frequently reviewed'],\n",
       " 'COMMUNICATION': [328, 4.16, 2486164.02, 'mostly reviewed'],\n",
       " 'DATING': [195, 3.97, 37389.94, 'frequently reviewed'],\n",
       " 'EDUCATION': [155, 4.39, 255451.68, 'mostly reviewed'],\n",
       " 'ENTERTAINMENT': [149, 4.13, 397168.82, 'mostly reviewed'],\n",
       " 'EVENTS': [45, 4.44, 3568.67, 'rarely reviewed'],\n",
       " 'FINANCE': [323, 4.13, 54335.62, 'frequently reviewed'],\n",
       " 'FOOD_AND_DRINK': [109, 4.17, 81495.5, 'frequently reviewed'],\n",
       " 'HEALTH_AND_FITNESS': [297, 4.28, 127587.95, 'mostly reviewed'],\n",
       " 'HOUSE_AND_HOME': [76, 4.2, 52315.84, 'frequently reviewed'],\n",
       " 'LIBRARIES_AND_DEMO': [65, 4.18, 15900.54, 'frequently reviewed'],\n",
       " 'LIFESTYLE': [314, 4.09, 41024.74, 'frequently reviewed'],\n",
       " 'GAME': [1097, 4.29, 1445232.07, 'mostly reviewed'],\n",
       " 'FAMILY': [1747, 4.19, 234815.73, 'mostly reviewed'],\n",
       " 'MEDICAL': [350, 4.19, 4530.35, 'rarely reviewed'],\n",
       " 'SOCIAL': [259, 4.26, 2398614.25, 'mostly reviewed'],\n",
       " 'SHOPPING': [238, 4.26, 483365.68, 'mostly reviewed'],\n",
       " 'PHOTOGRAPHY': [317, 4.19, 673553.97, 'mostly reviewed'],\n",
       " 'SPORTS': [319, 4.22, 222036.26, 'mostly reviewed'],\n",
       " 'TRAVEL_AND_LOCAL': [226, 4.11, 277069.79, 'mostly reviewed'],\n",
       " 'TOOLS': [734, 4.05, 372185.51, 'mostly reviewed'],\n",
       " 'PERSONALIZATION': [314, 4.34, 284540.81, 'mostly reviewed'],\n",
       " 'PRODUCTIVITY': [351, 4.21, 325118.85, 'mostly reviewed'],\n",
       " 'PARENTING': [50, 4.3, 19072.18, 'frequently reviewed'],\n",
       " 'WEATHER': [75, 4.24, 194729.27, 'mostly reviewed'],\n",
       " 'VIDEO_PLAYERS': [160, 4.06, 689873.07, 'mostly reviewed'],\n",
       " 'NEWS_AND_MAGAZINES': [233, 4.13, 233475.96, 'mostly reviewed'],\n",
       " 'MAPS_AND_NAVIGATION': [124, 4.05, 247250.48, 'mostly reviewed']}"
      ]
     },
     "execution_count": 45,
     "metadata": {},
     "output_type": "execute_result"
    }
   ],
   "source": [
    "apps_data"
   ]
  },
  {
   "cell_type": "code",
   "execution_count": 41,
   "id": "5fb0b5b1",
   "metadata": {},
   "outputs": [],
   "source": [
    "categories_ratings = {}\n",
    "categories_reviews = {}\n",
    "no_of_apps = {}\n",
    "installs = {}\n",
    "\n",
    "for i in data:\n",
    "    review = i[3]\n",
    "    category = i[1]\n",
    "    rating = i[2]\n",
    "    install_column = i[5] \n",
    "    no_of_install = install_column.strip(\"+\").replace(\",\", \"\")\n",
    "    if category in categories_ratings:\n",
    "        if rating != \"NaN\":\n",
    "            categories_ratings[category] += float(rating)\n",
    "            no_of_apps[category] += 1\n",
    "            categories_reviews[category] += int(review)\n",
    "            installs[category] += int(no_of_install)\n",
    "    else:\n",
    "        if rating != \"NaN\":\n",
    "            categories_ratings[category] = float(rating)\n",
    "            no_of_apps[category] = 1\n",
    "            categories_reviews[category]  = int(review)\n",
    "            installs[category] = int(no_of_install)\n",
    "            \n",
    "\n",
    "categories_ratings_avg  = {}\n",
    "for category in categories_ratings:\n",
    "    categories_ratings_avg[category] = [no_of_apps[category] ,installs[category]/no_of_apps[category], categories_ratings[category] / no_of_apps[category] ,\n",
    "                                        categories_reviews[category]/no_of_apps[category] ] "
   ]
  },
  {
   "cell_type": "code",
   "execution_count": 42,
   "id": "74216a4e",
   "metadata": {},
   "outputs": [
    {
     "data": {
      "text/plain": [
       "{'ART_AND_DESIGN': [62,\n",
       "  2003759.677419355,\n",
       "  4.358064516129031,\n",
       "  27651.16129032258],\n",
       " 'AUTO_AND_VEHICLES': [73,\n",
       "  727805.4794520548,\n",
       "  4.19041095890411,\n",
       "  15940.13698630137],\n",
       " 'BEAUTY': [42, 640861.9047619047, 4.278571428571428, 9407.92857142857],\n",
       " 'BOOKS_AND_REFERENCE': [178,\n",
       "  10793773.34269663,\n",
       "  4.346067415730338,\n",
       "  123363.25842696629],\n",
       " 'BUSINESS': [303, 3306165.412541254, 4.121452145214522, 46053.08910891089],\n",
       " 'COMICS': [58, 966139.6551724138, 4.155172413793104, 58309.39655172414],\n",
       " 'COMMUNICATION': [328,\n",
       "  99534272.95731707,\n",
       "  4.158536585365852,\n",
       "  2486164.0213414636],\n",
       " 'DATING': [195, 1355359.5384615385, 3.9707692307692306, 37389.94358974359],\n",
       " 'EDUCATION': [155, 5621625.806451613, 4.389032258064517, 255451.67741935485],\n",
       " 'ENTERTAINMENT': [149,\n",
       "  19256107.382550336,\n",
       "  4.126174496644294,\n",
       "  397168.8187919463],\n",
       " 'EVENTS': [45, 354431.3333333333, 4.435555555555557, 3568.6666666666665],\n",
       " 'FINANCE': [323, 2713970.278637771, 4.131888544891644, 54335.622291021675],\n",
       " 'FOOD_AND_DRINK': [109,\n",
       "  2511722.4770642202,\n",
       "  4.1669724770642205,\n",
       "  81495.49541284403],\n",
       " 'HEALTH_AND_FITNESS': [297,\n",
       "  5330155.622895623,\n",
       "  4.2771043771043775,\n",
       "  127587.95286195286],\n",
       " 'HOUSE_AND_HOME': [76,\n",
       "  2218184.210526316,\n",
       "  4.197368421052633,\n",
       "  52315.84210526316],\n",
       " 'LIBRARIES_AND_DEMO': [65,\n",
       "  955123.0769230769,\n",
       "  4.178461538461538,\n",
       "  15900.538461538461],\n",
       " 'LIFESTYLE': [314, 1711978.0891719745, 4.094904458598724, 41024.74203821656],\n",
       " 'GAME': [1097, 31983466.46946217, 4.2863263445761195, 1445232.066545123],\n",
       " 'FAMILY': [1747, 5871609.381797367, 4.192272467086437, 234815.7303949628],\n",
       " 'MEDICAL': [350, 152015.93142857144, 4.18914285714286, 4530.348571428572],\n",
       " 'SOCIAL': [259, 54323712.25868726, 4.255598455598457, 2398614.250965251],\n",
       " 'SHOPPING': [238, 13646351.00840336, 4.259663865546221, 483365.68487394956],\n",
       " 'PHOTOGRAPHY': [317,\n",
       "  31824110.820189275,\n",
       "  4.192113564668767,\n",
       "  673553.9652996846],\n",
       " 'SPORTS': [319, 5489440.329153605, 4.223510971786835, 222036.263322884],\n",
       " 'TRAVEL_AND_LOCAL': [226,\n",
       "  30393182.743362833,\n",
       "  4.10929203539823,\n",
       "  277069.78761061945],\n",
       " 'TOOLS': [734, 15600442.098092644, 4.047411444141691, 372185.51498637605],\n",
       " 'PERSONALIZATION': [314,\n",
       "  7405582.579617835,\n",
       "  4.335987261146501,\n",
       "  284540.8121019108],\n",
       " 'PRODUCTIVITY': [351,\n",
       "  40387664.33048433,\n",
       "  4.211396011396012,\n",
       "  325118.85185185185],\n",
       " 'PARENTING': [50, 622322.2, 4.300000000000001, 19072.18],\n",
       " 'WEATHER': [75, 5681286.666666667, 4.243999999999999, 194729.26666666666],\n",
       " 'VIDEO_PLAYERS': [160, 38886857.5, 4.063750000000001, 689873.075],\n",
       " 'NEWS_AND_MAGAZINES': [233,\n",
       "  32172577.89699571,\n",
       "  4.1321888412017165,\n",
       "  233475.96137339057],\n",
       " 'MAPS_AND_NAVIGATION': [124,\n",
       "  5840867.419354838,\n",
       "  4.051612903225806,\n",
       "  247250.48387096773]}"
      ]
     },
     "execution_count": 42,
     "metadata": {},
     "output_type": "execute_result"
    }
   ],
   "source": [
    "categories_ratings_avg"
   ]
  },
  {
   "cell_type": "code",
   "execution_count": null,
   "id": "cf251ec7",
   "metadata": {},
   "outputs": [],
   "source": [
    "for key ,values in categories_ratings_avg.items():\n",
    "    values[1] = round(values[1], 2)\n",
    "    values[2] = round(values[2], 2)\n",
    "    values[3] = round(values[3], 2)"
   ]
  },
  {
   "cell_type": "code",
   "execution_count": null,
   "id": "5ad4c582",
   "metadata": {},
   "outputs": [],
   "source": [
    "categories_ratings_avg"
   ]
  },
  {
   "cell_type": "code",
   "execution_count": null,
   "id": "7e0ed3d3",
   "metadata": {},
   "outputs": [],
   "source": [
    " # to access values in the dictionary\n",
    "for i , v in categories_ratings_avg.items():\n",
    "    review = v[-1]\n",
    "    install = v[1]\n",
    "    if review >= 100000:\n",
    "        v.append(\"mostly reviewed\")\n",
    "    elif 100000 > review >= 10000:\n",
    "        v.append(\"frequently reviewed\")\n",
    "    else:\n",
    "        v.append(\"rarely reviewed\")\n",
    "        \n",
    "    if install >= 1000000:\n",
    "        v.append(\"most downloaded\")\n",
    "    elif 1000000 > install >= 100000:\n",
    "        v.append(\"frequently downloaded\")\n",
    "    else:\n",
    "        v.append(\"rarely downloaded\")"
   ]
  },
  {
   "cell_type": "code",
   "execution_count": 47,
   "id": "88bb1211",
   "metadata": {},
   "outputs": [
    {
     "data": {
      "text/plain": [
       "{'ART_AND_DESIGN': [62,\n",
       "  2003759.677419355,\n",
       "  4.358064516129031,\n",
       "  27651.16129032258],\n",
       " 'AUTO_AND_VEHICLES': [73,\n",
       "  727805.4794520548,\n",
       "  4.19041095890411,\n",
       "  15940.13698630137],\n",
       " 'BEAUTY': [42, 640861.9047619047, 4.278571428571428, 9407.92857142857],\n",
       " 'BOOKS_AND_REFERENCE': [178,\n",
       "  10793773.34269663,\n",
       "  4.346067415730338,\n",
       "  123363.25842696629],\n",
       " 'BUSINESS': [303, 3306165.412541254, 4.121452145214522, 46053.08910891089],\n",
       " 'COMICS': [58, 966139.6551724138, 4.155172413793104, 58309.39655172414],\n",
       " 'COMMUNICATION': [328,\n",
       "  99534272.95731707,\n",
       "  4.158536585365852,\n",
       "  2486164.0213414636],\n",
       " 'DATING': [195, 1355359.5384615385, 3.9707692307692306, 37389.94358974359],\n",
       " 'EDUCATION': [155, 5621625.806451613, 4.389032258064517, 255451.67741935485],\n",
       " 'ENTERTAINMENT': [149,\n",
       "  19256107.382550336,\n",
       "  4.126174496644294,\n",
       "  397168.8187919463],\n",
       " 'EVENTS': [45, 354431.3333333333, 4.435555555555557, 3568.6666666666665],\n",
       " 'FINANCE': [323, 2713970.278637771, 4.131888544891644, 54335.622291021675],\n",
       " 'FOOD_AND_DRINK': [109,\n",
       "  2511722.4770642202,\n",
       "  4.1669724770642205,\n",
       "  81495.49541284403],\n",
       " 'HEALTH_AND_FITNESS': [297,\n",
       "  5330155.622895623,\n",
       "  4.2771043771043775,\n",
       "  127587.95286195286],\n",
       " 'HOUSE_AND_HOME': [76,\n",
       "  2218184.210526316,\n",
       "  4.197368421052633,\n",
       "  52315.84210526316],\n",
       " 'LIBRARIES_AND_DEMO': [65,\n",
       "  955123.0769230769,\n",
       "  4.178461538461538,\n",
       "  15900.538461538461],\n",
       " 'LIFESTYLE': [314, 1711978.0891719745, 4.094904458598724, 41024.74203821656],\n",
       " 'GAME': [1097, 31983466.46946217, 4.2863263445761195, 1445232.066545123],\n",
       " 'FAMILY': [1747, 5871609.381797367, 4.192272467086437, 234815.7303949628],\n",
       " 'MEDICAL': [350, 152015.93142857144, 4.18914285714286, 4530.348571428572],\n",
       " 'SOCIAL': [259, 54323712.25868726, 4.255598455598457, 2398614.250965251],\n",
       " 'SHOPPING': [238, 13646351.00840336, 4.259663865546221, 483365.68487394956],\n",
       " 'PHOTOGRAPHY': [317,\n",
       "  31824110.820189275,\n",
       "  4.192113564668767,\n",
       "  673553.9652996846],\n",
       " 'SPORTS': [319, 5489440.329153605, 4.223510971786835, 222036.263322884],\n",
       " 'TRAVEL_AND_LOCAL': [226,\n",
       "  30393182.743362833,\n",
       "  4.10929203539823,\n",
       "  277069.78761061945],\n",
       " 'TOOLS': [734, 15600442.098092644, 4.047411444141691, 372185.51498637605],\n",
       " 'PERSONALIZATION': [314,\n",
       "  7405582.579617835,\n",
       "  4.335987261146501,\n",
       "  284540.8121019108],\n",
       " 'PRODUCTIVITY': [351,\n",
       "  40387664.33048433,\n",
       "  4.211396011396012,\n",
       "  325118.85185185185],\n",
       " 'PARENTING': [50, 622322.2, 4.300000000000001, 19072.18],\n",
       " 'WEATHER': [75, 5681286.666666667, 4.243999999999999, 194729.26666666666],\n",
       " 'VIDEO_PLAYERS': [160, 38886857.5, 4.063750000000001, 689873.075],\n",
       " 'NEWS_AND_MAGAZINES': [233,\n",
       "  32172577.89699571,\n",
       "  4.1321888412017165,\n",
       "  233475.96137339057],\n",
       " 'MAPS_AND_NAVIGATION': [124,\n",
       "  5840867.419354838,\n",
       "  4.051612903225806,\n",
       "  247250.48387096773]}"
      ]
     },
     "execution_count": 47,
     "metadata": {},
     "output_type": "execute_result"
    }
   ],
   "source": [
    "categories_ratings_avg"
   ]
  },
  {
   "cell_type": "code",
   "execution_count": 28,
   "id": "21ecc629",
   "metadata": {},
   "outputs": [],
   "source": [
    "import csv\n",
    "f = open(\"clean apps_data.csv\" , mode = \"w\" , encoding = \"Latin 1\" , newline = \"\")\n",
    "writer = csv.writer(f , delimiter = \",\")"
   ]
  },
  {
   "cell_type": "code",
   "execution_count": null,
   "id": "561081a7",
   "metadata": {},
   "outputs": [],
   "source": []
  },
  {
   "cell_type": "code",
   "execution_count": null,
   "id": "0c14bd6b",
   "metadata": {},
   "outputs": [],
   "source": []
  }
 ],
 "metadata": {
  "kernelspec": {
   "display_name": "Python 3 (ipykernel)",
   "language": "python",
   "name": "python3"
  },
  "language_info": {
   "codemirror_mode": {
    "name": "ipython",
    "version": 3
   },
   "file_extension": ".py",
   "mimetype": "text/x-python",
   "name": "python",
   "nbconvert_exporter": "python",
   "pygments_lexer": "ipython3",
   "version": "3.11.5"
  }
 },
 "nbformat": 4,
 "nbformat_minor": 5
}
