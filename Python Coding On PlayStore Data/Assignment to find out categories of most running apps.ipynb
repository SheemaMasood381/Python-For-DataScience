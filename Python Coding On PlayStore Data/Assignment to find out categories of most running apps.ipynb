{
 "cells": [
  {
   "cell_type": "markdown",
   "id": "e16cb114",
   "metadata": {},
   "source": [
    "## Assignment submitted for playstore data "
   ]
  },
  {
   "cell_type": "markdown",
   "id": "0ac836fc",
   "metadata": {},
   "source": [
    "# import data"
   ]
  },
  {
   "cell_type": "code",
   "execution_count": 25,
   "id": "f8b2b49c",
   "metadata": {},
   "outputs": [],
   "source": [
    "import csv\n",
    "file = list(csv.reader(open(\"playstore - Copy.csv\"  , mode= \"r\" , encoding = \"UTF=8\")))"
   ]
  },
  {
   "cell_type": "code",
   "execution_count": 26,
   "id": "2d700603",
   "metadata": {},
   "outputs": [
    {
     "name": "stdout",
     "output_type": "stream",
     "text": [
      "['App', 'Category', 'Rating', 'Reviews', 'Size', 'Installs', 'Type', 'Price', 'Content Rating', 'Genres', 'Last Updated', 'Current Ver', 'Android Ver']\n",
      "['Dating for 50 plus Mature Singles – FINALLY', 'DATING', '4.6', '13049', '13M', '500,000+', 'Free', '0', 'Mature 17+', 'Dating', '31-Jul-18', '4.17.2', '4.1 and up']\n"
     ]
    }
   ],
   "source": [
    "header = file[0]\n",
    "data = file[1:]\n",
    "print(header)\n",
    "print(data[568])"
   ]
  },
  {
   "cell_type": "code",
   "execution_count": 27,
   "id": "e16429a5",
   "metadata": {},
   "outputs": [],
   "source": [
    "# initiating dixtionaries for each columns\n",
    "categories_ratings = {}\n",
    "categories_reviews = {}\n",
    "no_of_apps = {}\n",
    "installs = {}\n",
    "\n",
    "for i in data:\n",
    "    review = i[3]                  # creating review column\n",
    "    category = i[1]                   # creating category column\n",
    "    rating = i[2]                       #creating rating column \n",
    "    install_column = i[5]                #creating intsall column\n",
    "    no_of_install = install_column.strip(\"+\").replace(\",\", \"\")    # cleaning installs column\n",
    "    \n",
    "    \n",
    "    \n",
    "    if category in categories_ratings:\n",
    "        if rating != \"NaN\":                                               \n",
    "            categories_ratings[category] += float(rating)          \n",
    "            no_of_apps[category] += 1\n",
    "            categories_reviews[category] += int(review)\n",
    "            installs[category] += int(no_of_install)\n",
    "    else:\n",
    "        if rating != \"NaN\":\n",
    "            categories_ratings[category] = float(rating)\n",
    "            no_of_apps[category] = 1\n",
    "            categories_reviews[category]  = int(review)\n",
    "            installs[category] = int(no_of_install)\n",
    "            \n",
    "\n",
    "apps_data = {}\n",
    "for category in categories_ratings:\n",
    "    apps_data[category] = [no_of_apps[category] ,installs[category]/no_of_apps[category], \n",
    "                           categories_ratings[category] / no_of_apps[category] ,\n",
    "                            categories_reviews[category]/no_of_apps[category] ] "
   ]
  },
  {
   "cell_type": "markdown",
   "id": "2f2b1961",
   "metadata": {},
   "source": [
    "# rounding off the values in final dictionary apps_data"
   ]
  },
  {
   "cell_type": "code",
   "execution_count": 28,
   "id": "844c304a",
   "metadata": {},
   "outputs": [],
   "source": [
    "for key ,values in apps_data.items():\n",
    "    values[1] = round(values[1], 2)\n",
    "    values[2] = round(values[2], 2)\n",
    "    values[3] = round(values[3], 2)"
   ]
  },
  {
   "cell_type": "code",
   "execution_count": 29,
   "id": "9a966152",
   "metadata": {},
   "outputs": [
    {
     "data": {
      "text/plain": [
       "{'ART_AND_DESIGN': [62, 2003759.68, 4.36, 27651.16],\n",
       " 'AUTO_AND_VEHICLES': [73, 727805.48, 4.19, 15940.14],\n",
       " 'BEAUTY': [42, 640861.9, 4.28, 9407.93],\n",
       " 'BOOKS_AND_REFERENCE': [178, 10793773.34, 4.35, 123363.26],\n",
       " 'BUSINESS': [303, 3306165.41, 4.12, 46053.09],\n",
       " 'COMICS': [58, 966139.66, 4.16, 58309.4],\n",
       " 'COMMUNICATION': [328, 99534272.96, 4.16, 2486164.02],\n",
       " 'DATING': [195, 1355359.54, 3.97, 37389.94],\n",
       " 'EDUCATION': [155, 5621625.81, 4.39, 255451.68],\n",
       " 'ENTERTAINMENT': [149, 19256107.38, 4.13, 397168.82],\n",
       " 'EVENTS': [45, 354431.33, 4.44, 3568.67],\n",
       " 'FINANCE': [323, 2713970.28, 4.13, 54335.62],\n",
       " 'FOOD_AND_DRINK': [109, 2511722.48, 4.17, 81495.5],\n",
       " 'HEALTH_AND_FITNESS': [297, 5330155.62, 4.28, 127587.95],\n",
       " 'HOUSE_AND_HOME': [76, 2218184.21, 4.2, 52315.84],\n",
       " 'LIBRARIES_AND_DEMO': [65, 955123.08, 4.18, 15900.54],\n",
       " 'LIFESTYLE': [314, 1711978.09, 4.09, 41024.74],\n",
       " 'GAME': [1097, 31983466.47, 4.29, 1445232.07],\n",
       " 'FAMILY': [1747, 5871609.38, 4.19, 234815.73],\n",
       " 'MEDICAL': [350, 152015.93, 4.19, 4530.35],\n",
       " 'SOCIAL': [259, 54323712.26, 4.26, 2398614.25],\n",
       " 'SHOPPING': [238, 13646351.01, 4.26, 483365.68],\n",
       " 'PHOTOGRAPHY': [317, 31824110.82, 4.19, 673553.97],\n",
       " 'SPORTS': [319, 5489440.33, 4.22, 222036.26],\n",
       " 'TRAVEL_AND_LOCAL': [226, 30393182.74, 4.11, 277069.79],\n",
       " 'TOOLS': [734, 15600442.1, 4.05, 372185.51],\n",
       " 'PERSONALIZATION': [314, 7405582.58, 4.34, 284540.81],\n",
       " 'PRODUCTIVITY': [351, 40387664.33, 4.21, 325118.85],\n",
       " 'PARENTING': [50, 622322.2, 4.3, 19072.18],\n",
       " 'WEATHER': [75, 5681286.67, 4.24, 194729.27],\n",
       " 'VIDEO_PLAYERS': [160, 38886857.5, 4.06, 689873.07],\n",
       " 'NEWS_AND_MAGAZINES': [233, 32172577.9, 4.13, 233475.96],\n",
       " 'MAPS_AND_NAVIGATION': [124, 5840867.42, 4.05, 247250.48]}"
      ]
     },
     "execution_count": 29,
     "metadata": {},
     "output_type": "execute_result"
    }
   ],
   "source": [
    "apps_data"
   ]
  },
  {
   "cell_type": "code",
   "execution_count": 30,
   "id": "19360af8",
   "metadata": {},
   "outputs": [],
   "source": [
    " # to access values in the dictionary\n",
    "for i , v in apps_data.items():\n",
    "    review = int(v[-1])\n",
    "    install = v[1]\n",
    "    if review >= 100000:\n",
    "        v.append(\"mostly reviewed\")\n",
    "    elif 100000 > review >= 10000:\n",
    "        v.append(\"frequently reviewed\")\n",
    "    else:\n",
    "        v.append(\"rarely reviewed\")\n",
    "        \n",
    "    if install >= 1000000:\n",
    "        v.append(\"most downloaded\")\n",
    "    elif 1000000 > install >= 100000:\n",
    "        v.append(\"frequently downloaded\")\n",
    "    else:\n",
    "        v.append(\"rarely downloaded\")"
   ]
  },
  {
   "cell_type": "markdown",
   "id": "f9414285",
   "metadata": {},
   "source": [
    "# puutting headers in my new dataset"
   ]
  },
  {
   "cell_type": "code",
   "execution_count": 32,
   "id": "b7e27722",
   "metadata": {},
   "outputs": [],
   "source": [
    "my_data = {\"Categories\" :[ \"no_of_apps\",\"installs\" ,\"avg rating\" ,\"avg reviews\" ,\"review frequency\", \"install frequency\"]}\n",
    "my_data.update(apps_data)"
   ]
  },
  {
   "cell_type": "code",
   "execution_count": 33,
   "id": "2695f435",
   "metadata": {},
   "outputs": [
    {
     "name": "stdout",
     "output_type": "stream",
     "text": [
      "{'Categories': ['no_of_apps', 'installs', 'avg rating', 'avg reviews', 'review frequency', 'install frequency'], 'ART_AND_DESIGN': [62, 2003759.68, 4.36, 27651.16, 'frequently reviewed', 'most downloaded'], 'AUTO_AND_VEHICLES': [73, 727805.48, 4.19, 15940.14, 'frequently reviewed', 'frequently downloaded'], 'BEAUTY': [42, 640861.9, 4.28, 9407.93, 'rarely reviewed', 'frequently downloaded'], 'BOOKS_AND_REFERENCE': [178, 10793773.34, 4.35, 123363.26, 'mostly reviewed', 'most downloaded'], 'BUSINESS': [303, 3306165.41, 4.12, 46053.09, 'frequently reviewed', 'most downloaded'], 'COMICS': [58, 966139.66, 4.16, 58309.4, 'frequently reviewed', 'frequently downloaded'], 'COMMUNICATION': [328, 99534272.96, 4.16, 2486164.02, 'mostly reviewed', 'most downloaded'], 'DATING': [195, 1355359.54, 3.97, 37389.94, 'frequently reviewed', 'most downloaded'], 'EDUCATION': [155, 5621625.81, 4.39, 255451.68, 'mostly reviewed', 'most downloaded'], 'ENTERTAINMENT': [149, 19256107.38, 4.13, 397168.82, 'mostly reviewed', 'most downloaded'], 'EVENTS': [45, 354431.33, 4.44, 3568.67, 'rarely reviewed', 'frequently downloaded'], 'FINANCE': [323, 2713970.28, 4.13, 54335.62, 'frequently reviewed', 'most downloaded'], 'FOOD_AND_DRINK': [109, 2511722.48, 4.17, 81495.5, 'frequently reviewed', 'most downloaded'], 'HEALTH_AND_FITNESS': [297, 5330155.62, 4.28, 127587.95, 'mostly reviewed', 'most downloaded'], 'HOUSE_AND_HOME': [76, 2218184.21, 4.2, 52315.84, 'frequently reviewed', 'most downloaded'], 'LIBRARIES_AND_DEMO': [65, 955123.08, 4.18, 15900.54, 'frequently reviewed', 'frequently downloaded'], 'LIFESTYLE': [314, 1711978.09, 4.09, 41024.74, 'frequently reviewed', 'most downloaded'], 'GAME': [1097, 31983466.47, 4.29, 1445232.07, 'mostly reviewed', 'most downloaded'], 'FAMILY': [1747, 5871609.38, 4.19, 234815.73, 'mostly reviewed', 'most downloaded'], 'MEDICAL': [350, 152015.93, 4.19, 4530.35, 'rarely reviewed', 'frequently downloaded'], 'SOCIAL': [259, 54323712.26, 4.26, 2398614.25, 'mostly reviewed', 'most downloaded'], 'SHOPPING': [238, 13646351.01, 4.26, 483365.68, 'mostly reviewed', 'most downloaded'], 'PHOTOGRAPHY': [317, 31824110.82, 4.19, 673553.97, 'mostly reviewed', 'most downloaded'], 'SPORTS': [319, 5489440.33, 4.22, 222036.26, 'mostly reviewed', 'most downloaded'], 'TRAVEL_AND_LOCAL': [226, 30393182.74, 4.11, 277069.79, 'mostly reviewed', 'most downloaded'], 'TOOLS': [734, 15600442.1, 4.05, 372185.51, 'mostly reviewed', 'most downloaded'], 'PERSONALIZATION': [314, 7405582.58, 4.34, 284540.81, 'mostly reviewed', 'most downloaded'], 'PRODUCTIVITY': [351, 40387664.33, 4.21, 325118.85, 'mostly reviewed', 'most downloaded'], 'PARENTING': [50, 622322.2, 4.3, 19072.18, 'frequently reviewed', 'frequently downloaded'], 'WEATHER': [75, 5681286.67, 4.24, 194729.27, 'mostly reviewed', 'most downloaded'], 'VIDEO_PLAYERS': [160, 38886857.5, 4.06, 689873.07, 'mostly reviewed', 'most downloaded'], 'NEWS_AND_MAGAZINES': [233, 32172577.9, 4.13, 233475.96, 'mostly reviewed', 'most downloaded'], 'MAPS_AND_NAVIGATION': [124, 5840867.42, 4.05, 247250.48, 'mostly reviewed', 'most downloaded']}\n"
     ]
    }
   ],
   "source": [
    "print(my_data)"
   ]
  },
  {
   "cell_type": "code",
   "execution_count": 34,
   "id": "eb52ee3a",
   "metadata": {},
   "outputs": [
    {
     "data": {
      "text/plain": [
       "['no_of_apps',\n",
       " 'installs',\n",
       " 'avg rating',\n",
       " 'avg reviews',\n",
       " 'review frequency',\n",
       " 'install frequency']"
      ]
     },
     "execution_count": 34,
     "metadata": {},
     "output_type": "execute_result"
    }
   ],
   "source": [
    "my_data[\"Categories\"]         #its a dict"
   ]
  },
  {
   "cell_type": "code",
   "execution_count": 35,
   "id": "518ad5ad",
   "metadata": {},
   "outputs": [],
   "source": [
    "my_datalist = []                      #converting my dictionary into list\n",
    "for key, values in my_data.items():     # accessing each key with their values\n",
    "    key_list = [ key ]                     # creating a list with the key as first element in it\n",
    "    key_list.extend(values)            # extending the created list with all the elements of the value\n",
    "                                            # in the created list\n",
    "    my_datalist.append(key_list)          #finally appending the created list of each row in my main \n",
    "                                         #list which is the list of all my created list of each key"
   ]
  },
  {
   "cell_type": "code",
   "execution_count": 36,
   "id": "71a2a8e8",
   "metadata": {},
   "outputs": [
    {
     "data": {
      "text/plain": [
       "[['Categories',\n",
       "  'no_of_apps',\n",
       "  'installs',\n",
       "  'avg rating',\n",
       "  'avg reviews',\n",
       "  'review frequency',\n",
       "  'install frequency'],\n",
       " ['ART_AND_DESIGN',\n",
       "  62,\n",
       "  2003759.68,\n",
       "  4.36,\n",
       "  27651.16,\n",
       "  'frequently reviewed',\n",
       "  'most downloaded'],\n",
       " ['AUTO_AND_VEHICLES',\n",
       "  73,\n",
       "  727805.48,\n",
       "  4.19,\n",
       "  15940.14,\n",
       "  'frequently reviewed',\n",
       "  'frequently downloaded'],\n",
       " ['BEAUTY',\n",
       "  42,\n",
       "  640861.9,\n",
       "  4.28,\n",
       "  9407.93,\n",
       "  'rarely reviewed',\n",
       "  'frequently downloaded'],\n",
       " ['BOOKS_AND_REFERENCE',\n",
       "  178,\n",
       "  10793773.34,\n",
       "  4.35,\n",
       "  123363.26,\n",
       "  'mostly reviewed',\n",
       "  'most downloaded'],\n",
       " ['BUSINESS',\n",
       "  303,\n",
       "  3306165.41,\n",
       "  4.12,\n",
       "  46053.09,\n",
       "  'frequently reviewed',\n",
       "  'most downloaded'],\n",
       " ['COMICS',\n",
       "  58,\n",
       "  966139.66,\n",
       "  4.16,\n",
       "  58309.4,\n",
       "  'frequently reviewed',\n",
       "  'frequently downloaded'],\n",
       " ['COMMUNICATION',\n",
       "  328,\n",
       "  99534272.96,\n",
       "  4.16,\n",
       "  2486164.02,\n",
       "  'mostly reviewed',\n",
       "  'most downloaded'],\n",
       " ['DATING',\n",
       "  195,\n",
       "  1355359.54,\n",
       "  3.97,\n",
       "  37389.94,\n",
       "  'frequently reviewed',\n",
       "  'most downloaded'],\n",
       " ['EDUCATION',\n",
       "  155,\n",
       "  5621625.81,\n",
       "  4.39,\n",
       "  255451.68,\n",
       "  'mostly reviewed',\n",
       "  'most downloaded'],\n",
       " ['ENTERTAINMENT',\n",
       "  149,\n",
       "  19256107.38,\n",
       "  4.13,\n",
       "  397168.82,\n",
       "  'mostly reviewed',\n",
       "  'most downloaded'],\n",
       " ['EVENTS',\n",
       "  45,\n",
       "  354431.33,\n",
       "  4.44,\n",
       "  3568.67,\n",
       "  'rarely reviewed',\n",
       "  'frequently downloaded'],\n",
       " ['FINANCE',\n",
       "  323,\n",
       "  2713970.28,\n",
       "  4.13,\n",
       "  54335.62,\n",
       "  'frequently reviewed',\n",
       "  'most downloaded'],\n",
       " ['FOOD_AND_DRINK',\n",
       "  109,\n",
       "  2511722.48,\n",
       "  4.17,\n",
       "  81495.5,\n",
       "  'frequently reviewed',\n",
       "  'most downloaded'],\n",
       " ['HEALTH_AND_FITNESS',\n",
       "  297,\n",
       "  5330155.62,\n",
       "  4.28,\n",
       "  127587.95,\n",
       "  'mostly reviewed',\n",
       "  'most downloaded'],\n",
       " ['HOUSE_AND_HOME',\n",
       "  76,\n",
       "  2218184.21,\n",
       "  4.2,\n",
       "  52315.84,\n",
       "  'frequently reviewed',\n",
       "  'most downloaded'],\n",
       " ['LIBRARIES_AND_DEMO',\n",
       "  65,\n",
       "  955123.08,\n",
       "  4.18,\n",
       "  15900.54,\n",
       "  'frequently reviewed',\n",
       "  'frequently downloaded'],\n",
       " ['LIFESTYLE',\n",
       "  314,\n",
       "  1711978.09,\n",
       "  4.09,\n",
       "  41024.74,\n",
       "  'frequently reviewed',\n",
       "  'most downloaded'],\n",
       " ['GAME',\n",
       "  1097,\n",
       "  31983466.47,\n",
       "  4.29,\n",
       "  1445232.07,\n",
       "  'mostly reviewed',\n",
       "  'most downloaded'],\n",
       " ['FAMILY',\n",
       "  1747,\n",
       "  5871609.38,\n",
       "  4.19,\n",
       "  234815.73,\n",
       "  'mostly reviewed',\n",
       "  'most downloaded'],\n",
       " ['MEDICAL',\n",
       "  350,\n",
       "  152015.93,\n",
       "  4.19,\n",
       "  4530.35,\n",
       "  'rarely reviewed',\n",
       "  'frequently downloaded'],\n",
       " ['SOCIAL',\n",
       "  259,\n",
       "  54323712.26,\n",
       "  4.26,\n",
       "  2398614.25,\n",
       "  'mostly reviewed',\n",
       "  'most downloaded'],\n",
       " ['SHOPPING',\n",
       "  238,\n",
       "  13646351.01,\n",
       "  4.26,\n",
       "  483365.68,\n",
       "  'mostly reviewed',\n",
       "  'most downloaded'],\n",
       " ['PHOTOGRAPHY',\n",
       "  317,\n",
       "  31824110.82,\n",
       "  4.19,\n",
       "  673553.97,\n",
       "  'mostly reviewed',\n",
       "  'most downloaded'],\n",
       " ['SPORTS',\n",
       "  319,\n",
       "  5489440.33,\n",
       "  4.22,\n",
       "  222036.26,\n",
       "  'mostly reviewed',\n",
       "  'most downloaded'],\n",
       " ['TRAVEL_AND_LOCAL',\n",
       "  226,\n",
       "  30393182.74,\n",
       "  4.11,\n",
       "  277069.79,\n",
       "  'mostly reviewed',\n",
       "  'most downloaded'],\n",
       " ['TOOLS',\n",
       "  734,\n",
       "  15600442.1,\n",
       "  4.05,\n",
       "  372185.51,\n",
       "  'mostly reviewed',\n",
       "  'most downloaded'],\n",
       " ['PERSONALIZATION',\n",
       "  314,\n",
       "  7405582.58,\n",
       "  4.34,\n",
       "  284540.81,\n",
       "  'mostly reviewed',\n",
       "  'most downloaded'],\n",
       " ['PRODUCTIVITY',\n",
       "  351,\n",
       "  40387664.33,\n",
       "  4.21,\n",
       "  325118.85,\n",
       "  'mostly reviewed',\n",
       "  'most downloaded'],\n",
       " ['PARENTING',\n",
       "  50,\n",
       "  622322.2,\n",
       "  4.3,\n",
       "  19072.18,\n",
       "  'frequently reviewed',\n",
       "  'frequently downloaded'],\n",
       " ['WEATHER',\n",
       "  75,\n",
       "  5681286.67,\n",
       "  4.24,\n",
       "  194729.27,\n",
       "  'mostly reviewed',\n",
       "  'most downloaded'],\n",
       " ['VIDEO_PLAYERS',\n",
       "  160,\n",
       "  38886857.5,\n",
       "  4.06,\n",
       "  689873.07,\n",
       "  'mostly reviewed',\n",
       "  'most downloaded'],\n",
       " ['NEWS_AND_MAGAZINES',\n",
       "  233,\n",
       "  32172577.9,\n",
       "  4.13,\n",
       "  233475.96,\n",
       "  'mostly reviewed',\n",
       "  'most downloaded'],\n",
       " ['MAPS_AND_NAVIGATION',\n",
       "  124,\n",
       "  5840867.42,\n",
       "  4.05,\n",
       "  247250.48,\n",
       "  'mostly reviewed',\n",
       "  'most downloaded']]"
      ]
     },
     "execution_count": 36,
     "metadata": {},
     "output_type": "execute_result"
    }
   ],
   "source": [
    "my_datalist"
   ]
  },
  {
   "cell_type": "code",
   "execution_count": 38,
   "id": "9eb5a82b",
   "metadata": {},
   "outputs": [],
   "source": [
    "import csv\n",
    "file_name = \"playstore summary.csv\"\n",
    "with open(\"playstore summary.csv\" , mode = \"w\" , encoding = \"Latin 1\" , newline = \"\") as f:\n",
    "    writer = csv.writer(f , delimiter = \",\" )\n",
    "    writer.writerows(my_datalist)\n"
   ]
  },
  {
   "cell_type": "code",
   "execution_count": null,
   "id": "d156a77c",
   "metadata": {},
   "outputs": [],
   "source": []
  },
  {
   "cell_type": "code",
   "execution_count": null,
   "id": "65ccb4ac",
   "metadata": {},
   "outputs": [],
   "source": []
  },
  {
   "cell_type": "markdown",
   "id": "106cca54",
   "metadata": {},
   "source": [
    "\n",
    "# to do:\n",
    "\n",
    "* i want my_data arranged with the no of installs but i cant access the value of the key,  with for loop \n",
    "* if i access them in loop then it will not arrange with comparison to other row values with sort method as loop take single row once\n",
    "* cant write anything on csv file\n"
   ]
  },
  {
   "cell_type": "code",
   "execution_count": 15,
   "id": "4b87cc29",
   "metadata": {},
   "outputs": [],
   "source": [
    "import csv\n",
    "file_name = \"playstore summary.csv\"\n",
    "with open(\"playstore summary.csv\" , mode = \"w\" , encoding = \"Latin 1\" , newline = \"\") as f:\n",
    "    writer = csv.writer(f , delimiter = \",\" )\n",
    "    writer.writerows(my_datalist)\n"
   ]
  },
  {
   "cell_type": "markdown",
   "id": "4d09e666",
   "metadata": {},
   "source": [
    "##### "
   ]
  }
 ],
 "metadata": {
  "kernelspec": {
   "display_name": "Python 3 (ipykernel)",
   "language": "python",
   "name": "python3"
  },
  "language_info": {
   "codemirror_mode": {
    "name": "ipython",
    "version": 3
   },
   "file_extension": ".py",
   "mimetype": "text/x-python",
   "name": "python",
   "nbconvert_exporter": "python",
   "pygments_lexer": "ipython3",
   "version": "3.11.5"
  }
 },
 "nbformat": 4,
 "nbformat_minor": 5
}
