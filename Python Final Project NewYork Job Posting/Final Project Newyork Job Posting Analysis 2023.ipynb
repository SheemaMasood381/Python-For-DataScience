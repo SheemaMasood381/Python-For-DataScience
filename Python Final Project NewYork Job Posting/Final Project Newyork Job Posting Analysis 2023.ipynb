{
 "cells": [
  {
   "cell_type": "markdown",
   "id": "47047b05",
   "metadata": {},
   "source": [
    "# Problem Statement:\n",
    "data source : data.cityofnewyork.us\n",
    "\n",
    "#### 1-The contemporary job market of NEWYORK CITY  is characterized by a myriad of opportunities spanning various industries and sectors, reflecting the diverse needs of both employers and job seekers.\n",
    "\n",
    "#### 2-Employers encounter challenges in navigating the dynamic job market landscape, including effectively allocating resources, designing targeted recruitment strategies, and comprehending the specific demands inherent within each job category.\n",
    "\n",
    "#### 3-Job seekers, particularly students embarking on their career journeys, face the daunting task of deciphering the intricacies of the job market. They must consider numerous factors such as salary expectations, residency prerequisites, career advancement prospects, and qualification requisites to make informed career decisions.\n",
    "\n",
    "#### 4-Amidst these challenges, they exists a critical need for in-depth insights into job market dynamics encompassing salary trends, residency constraints, career advancement opportunities, and qualification preferences across diverse sectors.\n",
    "\n",
    "#### 5-Such insights serve as invaluable tools for employers, empowering them to fine-tune recruitment methodologies, optimize resource allocation, and gain a deeper understanding of prevailing job market trends ofNEWYORK CITY  .\n",
    "\n",
    "#### 6-For job seekers, especially students, a comprehensive understanding of these dynamics facilitates informed decision-making regarding career paths, skill enhancement initiatives, and strategic job search endeavors.\n",
    "\n",
    "#### 7-Engaging in internships, networking endeavors, and acquiring pertinent work experience emerges as pivotal strategies for students to gain firsthand insights into potential career trajectories and align their skillsets with prevailing job market demands of NEWYORK CITY .\n",
    "\n",
    "## Consequently, the primary objective of this study is to meticulously analyze and interpret job market data to furnish stakeholders, including employers, job seekers, and students, with actionable insights. These insights are intended to facilitate informed decision-making processes, bolster career planning efforts, and foster enhanced alignment between individual aspirations and prevailing job market dynamics."
   ]
  },
  {
   "cell_type": "markdown",
   "id": "48e89a1b",
   "metadata": {},
   "source": [
    "## import dataset"
   ]
  },
  {
   "cell_type": "code",
   "execution_count": 2,
   "id": "b75ea6db",
   "metadata": {},
   "outputs": [],
   "source": [
    "\n",
    "import pandas as pd\n",
    "import datetime as dt\n",
    "import csv"
   ]
  },
  {
   "cell_type": "code",
   "execution_count": 3,
   "id": "178f3b9e",
   "metadata": {},
   "outputs": [],
   "source": [
    "jobs_ny = pd.read_csv(\"Jobs_NYC_Postings.csv\")"
   ]
  },
  {
   "cell_type": "code",
   "execution_count": 4,
   "id": "9c0f8989",
   "metadata": {
    "scrolled": true
   },
   "outputs": [
    {
     "data": {
      "text/html": [
       "<div>\n",
       "<style scoped>\n",
       "    .dataframe tbody tr th:only-of-type {\n",
       "        vertical-align: middle;\n",
       "    }\n",
       "\n",
       "    .dataframe tbody tr th {\n",
       "        vertical-align: top;\n",
       "    }\n",
       "\n",
       "    .dataframe thead th {\n",
       "        text-align: right;\n",
       "    }\n",
       "</style>\n",
       "<table border=\"1\" class=\"dataframe\">\n",
       "  <thead>\n",
       "    <tr style=\"text-align: right;\">\n",
       "      <th></th>\n",
       "      <th>Unnamed: 0</th>\n",
       "      <th>Job ID</th>\n",
       "      <th>Agency</th>\n",
       "      <th>Posting Type</th>\n",
       "      <th># Of Positions</th>\n",
       "      <th>Civil Service Title</th>\n",
       "      <th>Title Classification</th>\n",
       "      <th>Job Category</th>\n",
       "      <th>Full-Time/Part-Time indicator</th>\n",
       "      <th>Career Level</th>\n",
       "      <th>Salary Range From</th>\n",
       "      <th>Salary Range To</th>\n",
       "      <th>Salary Frequency</th>\n",
       "      <th>Minimum Qual Requirements</th>\n",
       "      <th>Residency Requirement</th>\n",
       "      <th>Posting Date</th>\n",
       "    </tr>\n",
       "  </thead>\n",
       "  <tbody>\n",
       "    <tr>\n",
       "      <th>0</th>\n",
       "      <td>0</td>\n",
       "      <td>483894</td>\n",
       "      <td>HRA/DEPT OF SOCIAL SERVICES</td>\n",
       "      <td>Internal</td>\n",
       "      <td>1</td>\n",
       "      <td>COMPUTER SPECIALIST (SOFTWARE)</td>\n",
       "      <td>Competitive-1</td>\n",
       "      <td>Technology, Data &amp; Innovation</td>\n",
       "      <td>F</td>\n",
       "      <td>Experienced (non-manager)</td>\n",
       "      <td>92194.0</td>\n",
       "      <td>119610.0</td>\n",
       "      <td>Annual</td>\n",
       "      <td>(1) a baccalaureate degree from an accredited ...</td>\n",
       "      <td>New York City Residency is not required for th...</td>\n",
       "      <td>9/17/2021</td>\n",
       "    </tr>\n",
       "    <tr>\n",
       "      <th>1</th>\n",
       "      <td>1</td>\n",
       "      <td>483894</td>\n",
       "      <td>HRA/DEPT OF SOCIAL SERVICES</td>\n",
       "      <td>External</td>\n",
       "      <td>1</td>\n",
       "      <td>COMPUTER SPECIALIST (SOFTWARE)</td>\n",
       "      <td>Competitive-1</td>\n",
       "      <td>Technology, Data &amp; Innovation</td>\n",
       "      <td>F</td>\n",
       "      <td>Experienced (non-manager)</td>\n",
       "      <td>92194.0</td>\n",
       "      <td>119610.0</td>\n",
       "      <td>Annual</td>\n",
       "      <td>(1) a baccalaureate degree from an accredited ...</td>\n",
       "      <td>New York City Residency is not required for th...</td>\n",
       "      <td>9/17/2021</td>\n",
       "    </tr>\n",
       "    <tr>\n",
       "      <th>2</th>\n",
       "      <td>2</td>\n",
       "      <td>545827</td>\n",
       "      <td>HRA/DEPT OF SOCIAL SERVICES</td>\n",
       "      <td>External</td>\n",
       "      <td>1</td>\n",
       "      <td>COMPUTER SYSTEMS MANAGER</td>\n",
       "      <td>Competitive-1</td>\n",
       "      <td>Technology, Data &amp; Innovation</td>\n",
       "      <td>F</td>\n",
       "      <td>Manager</td>\n",
       "      <td>77688.0</td>\n",
       "      <td>152000.0</td>\n",
       "      <td>Annual</td>\n",
       "      <td>1. a master's degree in computer science from ...</td>\n",
       "      <td>New York City Residency is not required for th...</td>\n",
       "      <td>8/15/2022</td>\n",
       "    </tr>\n",
       "    <tr>\n",
       "      <th>3</th>\n",
       "      <td>3</td>\n",
       "      <td>545827</td>\n",
       "      <td>HRA/DEPT OF SOCIAL SERVICES</td>\n",
       "      <td>Internal</td>\n",
       "      <td>1</td>\n",
       "      <td>COMPUTER SYSTEMS MANAGER</td>\n",
       "      <td>Competitive-1</td>\n",
       "      <td>Technology, Data &amp; Innovation</td>\n",
       "      <td>F</td>\n",
       "      <td>Manager</td>\n",
       "      <td>77688.0</td>\n",
       "      <td>152000.0</td>\n",
       "      <td>Annual</td>\n",
       "      <td>1. a master's degree in computer science from ...</td>\n",
       "      <td>New York City Residency is not required for th...</td>\n",
       "      <td>8/15/2022</td>\n",
       "    </tr>\n",
       "    <tr>\n",
       "      <th>4</th>\n",
       "      <td>4</td>\n",
       "      <td>546738</td>\n",
       "      <td>HRA/DEPT OF SOCIAL SERVICES</td>\n",
       "      <td>External</td>\n",
       "      <td>1</td>\n",
       "      <td>COMPUTER SPECIALIST (SOFTWARE)</td>\n",
       "      <td>Competitive-1</td>\n",
       "      <td>Technology, Data &amp; Innovation</td>\n",
       "      <td>F</td>\n",
       "      <td>Experienced (non-manager)</td>\n",
       "      <td>85371.0</td>\n",
       "      <td>98177.0</td>\n",
       "      <td>Annual</td>\n",
       "      <td>(1) a baccalaureate degree from an accredited ...</td>\n",
       "      <td>New York City Residency is not required for th...</td>\n",
       "      <td>8/18/2022</td>\n",
       "    </tr>\n",
       "  </tbody>\n",
       "</table>\n",
       "</div>"
      ],
      "text/plain": [
       "   Unnamed: 0  Job ID                       Agency Posting Type  \\\n",
       "0           0  483894  HRA/DEPT OF SOCIAL SERVICES     Internal   \n",
       "1           1  483894  HRA/DEPT OF SOCIAL SERVICES     External   \n",
       "2           2  545827  HRA/DEPT OF SOCIAL SERVICES     External   \n",
       "3           3  545827  HRA/DEPT OF SOCIAL SERVICES     Internal   \n",
       "4           4  546738  HRA/DEPT OF SOCIAL SERVICES     External   \n",
       "\n",
       "   # Of Positions             Civil Service Title Title Classification  \\\n",
       "0               1  COMPUTER SPECIALIST (SOFTWARE)        Competitive-1   \n",
       "1               1  COMPUTER SPECIALIST (SOFTWARE)        Competitive-1   \n",
       "2               1        COMPUTER SYSTEMS MANAGER        Competitive-1   \n",
       "3               1        COMPUTER SYSTEMS MANAGER        Competitive-1   \n",
       "4               1  COMPUTER SPECIALIST (SOFTWARE)        Competitive-1   \n",
       "\n",
       "                     Job Category Full-Time/Part-Time indicator  \\\n",
       "0  Technology, Data & Innovation                              F   \n",
       "1  Technology, Data & Innovation                              F   \n",
       "2  Technology, Data & Innovation                              F   \n",
       "3  Technology, Data & Innovation                              F   \n",
       "4  Technology, Data & Innovation                              F   \n",
       "\n",
       "                Career Level  Salary Range From  Salary Range To  \\\n",
       "0  Experienced (non-manager)            92194.0         119610.0   \n",
       "1  Experienced (non-manager)            92194.0         119610.0   \n",
       "2                    Manager            77688.0         152000.0   \n",
       "3                    Manager            77688.0         152000.0   \n",
       "4  Experienced (non-manager)            85371.0          98177.0   \n",
       "\n",
       "  Salary Frequency                          Minimum Qual Requirements  \\\n",
       "0           Annual  (1) a baccalaureate degree from an accredited ...   \n",
       "1           Annual  (1) a baccalaureate degree from an accredited ...   \n",
       "2           Annual  1. a master's degree in computer science from ...   \n",
       "3           Annual  1. a master's degree in computer science from ...   \n",
       "4           Annual  (1) a baccalaureate degree from an accredited ...   \n",
       "\n",
       "                               Residency Requirement Posting Date  \n",
       "0  New York City Residency is not required for th...    9/17/2021  \n",
       "1  New York City Residency is not required for th...    9/17/2021  \n",
       "2  New York City Residency is not required for th...    8/15/2022  \n",
       "3  New York City Residency is not required for th...    8/15/2022  \n",
       "4  New York City Residency is not required for th...    8/18/2022  "
      ]
     },
     "execution_count": 4,
     "metadata": {},
     "output_type": "execute_result"
    }
   ],
   "source": [
    "jobs_ny.head()"
   ]
  },
  {
   "cell_type": "code",
   "execution_count": 5,
   "id": "aa81da7e",
   "metadata": {},
   "outputs": [
    {
     "name": "stdout",
     "output_type": "stream",
     "text": [
      "<class 'pandas.core.frame.DataFrame'>\n",
      "RangeIndex: 5480 entries, 0 to 5479\n",
      "Data columns (total 16 columns):\n",
      " #   Column                         Non-Null Count  Dtype  \n",
      "---  ------                         --------------  -----  \n",
      " 0   Unnamed: 0                     5480 non-null   int64  \n",
      " 1   Job ID                         5480 non-null   int64  \n",
      " 2   Agency                         5480 non-null   object \n",
      " 3   Posting Type                   5480 non-null   object \n",
      " 4   # Of Positions                 5480 non-null   int64  \n",
      " 5   Civil Service Title            5480 non-null   object \n",
      " 6   Title Classification           5480 non-null   object \n",
      " 7   Job Category                   5480 non-null   object \n",
      " 8   Full-Time/Part-Time indicator  5361 non-null   object \n",
      " 9   Career Level                   5480 non-null   object \n",
      " 10  Salary Range From              5480 non-null   float64\n",
      " 11  Salary Range To                5480 non-null   float64\n",
      " 12  Salary Frequency               5480 non-null   object \n",
      " 13  Minimum Qual Requirements      5435 non-null   object \n",
      " 14  Residency Requirement          5480 non-null   object \n",
      " 15  Posting Date                   5480 non-null   object \n",
      "dtypes: float64(2), int64(3), object(11)\n",
      "memory usage: 685.1+ KB\n"
     ]
    }
   ],
   "source": [
    "jobs_ny.info()     "
   ]
  },
  {
   "cell_type": "markdown",
   "id": "f6ad7214",
   "metadata": {},
   "source": [
    "##### by analyzing our dataframe info we conclude:¶\n",
    "* we have null values in:\n",
    "    * fulltime/ parttime indicator column\n",
    "    * minimum qualifacation column\n",
    "# \"DATA CLEANING AND PREPROCESSING:\"\n",
    "* to do 1:\n",
    "        delete whole column of unnamed as this is the index coloumn i dont need it\n",
    "* to do 2:\n",
    "        clean and fill minimum qualification\n",
    "* to do 3:\n",
    "        to fill and clean parttime fulltime column\n",
    "* to do 4:\n",
    "        to clean the residency requirements and update accordingly\n",
    "* to do 5:\n",
    "        to convert Posted Date column values from objest to datetime\n",
    "* to do 6:\n",
    "        to standardize my salaries columns and crate new columns for it \n",
    "* to do 7:\n",
    "        to update columns name accordingly"
   ]
  },
  {
   "cell_type": "markdown",
   "id": "94cb6770",
   "metadata": {},
   "source": [
    "#### to do 1:-\n",
    "* delete first column named as unnamed"
   ]
  },
  {
   "cell_type": "code",
   "execution_count": 6,
   "id": "f3c25eeb",
   "metadata": {},
   "outputs": [
    {
     "data": {
      "text/html": [
       "<div>\n",
       "<style scoped>\n",
       "    .dataframe tbody tr th:only-of-type {\n",
       "        vertical-align: middle;\n",
       "    }\n",
       "\n",
       "    .dataframe tbody tr th {\n",
       "        vertical-align: top;\n",
       "    }\n",
       "\n",
       "    .dataframe thead th {\n",
       "        text-align: right;\n",
       "    }\n",
       "</style>\n",
       "<table border=\"1\" class=\"dataframe\">\n",
       "  <thead>\n",
       "    <tr style=\"text-align: right;\">\n",
       "      <th></th>\n",
       "      <th>Job ID</th>\n",
       "      <th>Agency</th>\n",
       "      <th>Posting Type</th>\n",
       "      <th># Of Positions</th>\n",
       "      <th>Civil Service Title</th>\n",
       "      <th>Title Classification</th>\n",
       "      <th>Job Category</th>\n",
       "      <th>Full-Time/Part-Time indicator</th>\n",
       "      <th>Career Level</th>\n",
       "      <th>Salary Range From</th>\n",
       "      <th>Salary Range To</th>\n",
       "      <th>Salary Frequency</th>\n",
       "      <th>Minimum Qual Requirements</th>\n",
       "      <th>Residency Requirement</th>\n",
       "      <th>Posting Date</th>\n",
       "    </tr>\n",
       "  </thead>\n",
       "  <tbody>\n",
       "    <tr>\n",
       "      <th>5478</th>\n",
       "      <td>627046</td>\n",
       "      <td>NYC EMPLOYEES RETIREMENT SYS</td>\n",
       "      <td>Internal</td>\n",
       "      <td>4</td>\n",
       "      <td>ASSISTANT RETIREMENT BENEFITS</td>\n",
       "      <td>Competitive-1</td>\n",
       "      <td>Administration &amp; Human Resources</td>\n",
       "      <td>P</td>\n",
       "      <td>Entry-Level</td>\n",
       "      <td>24.7548</td>\n",
       "      <td>33.3968</td>\n",
       "      <td>Hourly</td>\n",
       "      <td>1. an associate degree or completion of 60 cre...</td>\n",
       "      <td>New York City residency is generally required ...</td>\n",
       "      <td>2/15/2024</td>\n",
       "    </tr>\n",
       "    <tr>\n",
       "      <th>5479</th>\n",
       "      <td>627046</td>\n",
       "      <td>NYC EMPLOYEES RETIREMENT SYS</td>\n",
       "      <td>External</td>\n",
       "      <td>4</td>\n",
       "      <td>ASSISTANT RETIREMENT BENEFITS</td>\n",
       "      <td>Competitive-1</td>\n",
       "      <td>Administration &amp; Human Resources</td>\n",
       "      <td>P</td>\n",
       "      <td>Entry-Level</td>\n",
       "      <td>24.7548</td>\n",
       "      <td>33.3968</td>\n",
       "      <td>Hourly</td>\n",
       "      <td>1. an associate degree or completion of 60 cre...</td>\n",
       "      <td>New York City residency is generally required ...</td>\n",
       "      <td>2/16/2024</td>\n",
       "    </tr>\n",
       "  </tbody>\n",
       "</table>\n",
       "</div>"
      ],
      "text/plain": [
       "      Job ID                        Agency Posting Type  # Of Positions  \\\n",
       "5478  627046  NYC EMPLOYEES RETIREMENT SYS     Internal               4   \n",
       "5479  627046  NYC EMPLOYEES RETIREMENT SYS     External               4   \n",
       "\n",
       "                Civil Service Title Title Classification  \\\n",
       "5478  ASSISTANT RETIREMENT BENEFITS        Competitive-1   \n",
       "5479  ASSISTANT RETIREMENT BENEFITS        Competitive-1   \n",
       "\n",
       "                           Job Category Full-Time/Part-Time indicator  \\\n",
       "5478  Administration & Human Resources                              P   \n",
       "5479  Administration & Human Resources                              P   \n",
       "\n",
       "     Career Level  Salary Range From  Salary Range To Salary Frequency  \\\n",
       "5478  Entry-Level            24.7548          33.3968           Hourly   \n",
       "5479  Entry-Level            24.7548          33.3968           Hourly   \n",
       "\n",
       "                              Minimum Qual Requirements  \\\n",
       "5478  1. an associate degree or completion of 60 cre...   \n",
       "5479  1. an associate degree or completion of 60 cre...   \n",
       "\n",
       "                                  Residency Requirement Posting Date  \n",
       "5478  New York City residency is generally required ...    2/15/2024  \n",
       "5479  New York City residency is generally required ...    2/16/2024  "
      ]
     },
     "execution_count": 6,
     "metadata": {},
     "output_type": "execute_result"
    }
   ],
   "source": [
    "jobs_ny.drop(columns='Unnamed: 0', inplace=True)\n",
    "jobs_ny.tail(2)"
   ]
  },
  {
   "cell_type": "markdown",
   "id": "c1d77348",
   "metadata": {},
   "source": [
    "#### Done \n",
    "#### to do 2:\n",
    "\n",
    "* we are working to extract the minimum Qualification required in the respective fields \n",
    "* as the minimum qualification column has so much of noise in it\n",
    "* i am thinking to make a function just extract the name of the degree required from the point values \n",
    "                *  we have Null point values too / we change them into \"not specified\"\n",
    "                *  we have many other qualification which are not a degree program / we change them to \"others\" \n",
    "                *  if we have any degree or certiofication in the point value we will extract them and update the column \n",
    "                   with that name of qualification\n",
    "\n",
    "## logic :extracting the minimum qualification from job requirements enables recruiters to better define candidate criteria, streamline the hiring process, and ensure fairness and transparency in recruitment practice"
   ]
  },
  {
   "cell_type": "code",
   "execution_count": 6,
   "id": "6af519b3",
   "metadata": {},
   "outputs": [
    {
     "data": {
      "text/plain": [
       "0       (1) a baccalaureate degree from an accredited ...\n",
       "1       (1) a baccalaureate degree from an accredited ...\n",
       "2       1. a master's degree in computer science from ...\n",
       "3       1. a master's degree in computer science from ...\n",
       "4       (1) a baccalaureate degree from an accredited ...\n",
       "                              ...                        \n",
       "5475    1. a four-year high school diploma or its educ...\n",
       "5476    qualification requirements  1. high school bac...\n",
       "5477    qualification requirements  1. high school bac...\n",
       "5478    1. an associate degree or completion of 60 cre...\n",
       "5479    1. an associate degree or completion of 60 cre...\n",
       "Name: Minimum Qual Requirements, Length: 5480, dtype: object"
      ]
     },
     "execution_count": 6,
     "metadata": {},
     "output_type": "execute_result"
    }
   ],
   "source": [
    "jobs_ny[\"Minimum Qual Requirements\"]"
   ]
  },
  {
   "cell_type": "code",
   "execution_count": 7,
   "id": "bbdce9ac",
   "metadata": {},
   "outputs": [
    {
     "data": {
      "text/plain": [
       "0       False\n",
       "1       False\n",
       "2       False\n",
       "3       False\n",
       "4       False\n",
       "        ...  \n",
       "5475    False\n",
       "5476    False\n",
       "5477    False\n",
       "5478    False\n",
       "5479    False\n",
       "Name: Minimum Qual Requirements, Length: 5480, dtype: bool"
      ]
     },
     "execution_count": 7,
     "metadata": {},
     "output_type": "execute_result"
    }
   ],
   "source": [
    "jobs_ny[\"Minimum Qual Requirements\"].isnull()"
   ]
  },
  {
   "cell_type": "code",
   "execution_count": 8,
   "id": "480b554a",
   "metadata": {},
   "outputs": [
    {
     "data": {
      "text/plain": [
       "45"
      ]
     },
     "execution_count": 8,
     "metadata": {},
     "output_type": "execute_result"
    }
   ],
   "source": [
    "(jobs_ny[\"Minimum Qual Requirements\"].isnull()).sum()"
   ]
  },
  {
   "cell_type": "code",
   "execution_count": 9,
   "id": "c08b8a12",
   "metadata": {},
   "outputs": [],
   "source": [
    "# filling null values with not specified\n",
    "jobs_ny[\"Minimum Qual Requirements\"] = jobs_ny[\"Minimum Qual Requirements\"].fillna(\"not specified\")"
   ]
  },
  {
   "cell_type": "code",
   "execution_count": 10,
   "id": "6183b579",
   "metadata": {},
   "outputs": [
    {
     "data": {
      "text/plain": [
       "0"
      ]
     },
     "execution_count": 10,
     "metadata": {},
     "output_type": "execute_result"
    }
   ],
   "source": [
    "#checking again if the values are filled\n",
    "(jobs_ny[\"Minimum Qual Requirements\"].isnull()).sum()"
   ]
  },
  {
   "cell_type": "code",
   "execution_count": 11,
   "id": "aa925603",
   "metadata": {},
   "outputs": [],
   "source": [
    "jobs_ny[\"Minimum Qual Requirements\"] = jobs_ny[\"Minimum Qual Requirements\"].str.lower() \n",
    "# converting every point value in lower case "
   ]
  },
  {
   "cell_type": "code",
   "execution_count": 12,
   "id": "66dca8b1",
   "metadata": {},
   "outputs": [],
   "source": [
    "#i have made a coomon qualification pattern\n",
    "# includes all major qualification and not specified which we filled in null spaces\n",
    "pattern = r\"(baccalaureate degree|bachelor's degree|master's degree|high school|diploma|graduation|matriculation|certificate|certification|not specified)\""
   ]
  },
  {
   "cell_type": "code",
   "execution_count": 13,
   "id": "be2faace",
   "metadata": {},
   "outputs": [],
   "source": [
    "jobs_ny[\"Minimum Qual Requirements\"]=jobs_ny[\"Minimum Qual Requirements\"].str.extract(pattern)"
   ]
  },
  {
   "cell_type": "code",
   "execution_count": 14,
   "id": "f823cfed",
   "metadata": {},
   "outputs": [
    {
     "name": "stdout",
     "output_type": "stream",
     "text": [
      "['baccalaureate degree' \"master's degree\" 'certificate' 'matriculation'\n",
      " 'high school' nan 'graduation' 'certification' \"bachelor's degree\"\n",
      " 'not specified' 'diploma']\n"
     ]
    },
    {
     "data": {
      "text/plain": [
       "baccalaureate degree    2344\n",
       "high school             1004\n",
       "master's degree          760\n",
       "bachelor's degree        134\n",
       "matriculation             78\n",
       "certificate               62\n",
       "certification             60\n",
       "not specified             45\n",
       "graduation                12\n",
       "diploma                    2\n",
       "Name: count, dtype: int64"
      ]
     },
     "execution_count": 14,
     "metadata": {},
     "output_type": "execute_result"
    }
   ],
   "source": [
    "# check unique values to check our results and value counts\n",
    "print(jobs_ny[\"Minimum Qual Requirements\"].unique())\n",
    "jobs_ny[\"Minimum Qual Requirements\"].str.extract(pattern).value_counts()"
   ]
  },
  {
   "cell_type": "code",
   "execution_count": 15,
   "id": "b6381f70",
   "metadata": {},
   "outputs": [
    {
     "data": {
      "text/plain": [
       "979"
      ]
     },
     "execution_count": 15,
     "metadata": {},
     "output_type": "execute_result"
    }
   ],
   "source": [
    "#checking if we have any rows which doesnt contain our mentioned qualification as we have \n",
    "#filled our Nan values beforhand, these nan values contains other qualification which we have not \n",
    "#in our pattern\n",
    "jobs_ny[\"Minimum Qual Requirements\"].isnull() \n",
    "(jobs_ny[\"Minimum Qual Requirements\"].isnull()).sum()"
   ]
  },
  {
   "cell_type": "code",
   "execution_count": 16,
   "id": "900b99bf",
   "metadata": {},
   "outputs": [],
   "source": [
    "#we have 979 rows with other qualification so we will fill it with \"others\"\n",
    "jobs_ny[\"Minimum Qual Requirements\"] = jobs_ny[\"Minimum Qual Requirements\"].fillna(\"others\")"
   ]
  },
  {
   "cell_type": "code",
   "execution_count": 17,
   "id": "4d909867",
   "metadata": {},
   "outputs": [
    {
     "data": {
      "text/plain": [
       "0"
      ]
     },
     "execution_count": 17,
     "metadata": {},
     "output_type": "execute_result"
    }
   ],
   "source": [
    "#checking if all rows are updated\n",
    "jobs_ny[\"Minimum Qual Requirements\"].isnull() \n",
    "(jobs_ny[\"Minimum Qual Requirements\"].isnull()).sum()"
   ]
  },
  {
   "cell_type": "markdown",
   "id": "7578cb93",
   "metadata": {},
   "source": [
    "#we have achieved our clean column of minimum qualification \n",
    "#### done \n",
    "\n",
    "### to do 3 :\n",
    "* we have to deal with null values \n",
    "* update F with full time\n",
    "* update P with part time\n",
    "\n",
    "## logic : I want to use the salary frequency column to assist in the imputation of the \"full time part time\" column, as i can leverage the relationship between salary frequency and job type (full-time or part-time) to make informed imputations.\n",
    "\n",
    "* I analyzed the data to see if there are consistent patterns between salary frequency and job type. \n",
    "* For example, full-time positions might more commonly have monthly or annual salaries, while part-time positions might have hourly salaries.\n",
    "\n",
    "* i will use Conditional Imputation based on the patterns i observed, i can impute missing values in the \"full time part time\" column conditionally based on the salary frequency."
   ]
  },
  {
   "cell_type": "code",
   "execution_count": 18,
   "id": "5f815407",
   "metadata": {},
   "outputs": [
    {
     "data": {
      "text/plain": [
       "119"
      ]
     },
     "execution_count": 18,
     "metadata": {},
     "output_type": "execute_result"
    }
   ],
   "source": [
    "#create a bool series to extract the rows\n",
    "bool_pf = jobs_ny[\"Full-Time/Part-Time indicator\"].isnull()\n",
    "bool_pf.sum()"
   ]
  },
  {
   "cell_type": "code",
   "execution_count": 19,
   "id": "1bc1d8dc",
   "metadata": {},
   "outputs": [
    {
     "data": {
      "text/plain": [
       "98      NaN\n",
       "99      NaN\n",
       "123     NaN\n",
       "146     NaN\n",
       "147     NaN\n",
       "       ... \n",
       "4924    NaN\n",
       "5275    NaN\n",
       "5276    NaN\n",
       "5367    NaN\n",
       "5368    NaN\n",
       "Name: Full-Time/Part-Time indicator, Length: 119, dtype: object"
      ]
     },
     "execution_count": 19,
     "metadata": {},
     "output_type": "execute_result"
    }
   ],
   "source": [
    "#checking my data\n",
    "jobs_ny.loc[bool_pf , \"Full-Time/Part-Time indicator\" ]    "
   ]
  },
  {
   "cell_type": "code",
   "execution_count": 20,
   "id": "74d0568d",
   "metadata": {},
   "outputs": [],
   "source": [
    "#creating varible of boolean series for null values in part time full time indicator column\n",
    "null_df = jobs_ny[bool_pf]"
   ]
  },
  {
   "cell_type": "code",
   "execution_count": 21,
   "id": "4339e34f",
   "metadata": {},
   "outputs": [
    {
     "name": "stdout",
     "output_type": "stream",
     "text": [
      "111\n",
      "8\n"
     ]
    }
   ],
   "source": [
    "#checking if salary frequency has hourly \n",
    "print((null_df[\"Salary Frequency\"] == \"Annual\").sum())\n",
    "print((null_df[\"Salary Frequency\"] == (\"Hourly\" or \"Daily\")).sum())"
   ]
  },
  {
   "cell_type": "code",
   "execution_count": 22,
   "id": "0106fda5",
   "metadata": {},
   "outputs": [],
   "source": [
    "#creating bool series for both rows having hourly or daily and annual values in salary frequency column\n",
    "#in extracted dataframe of null values in part time full time indicator column\n",
    "bool_a = null_df[\"Salary Frequency\"] == \"Annual\"\n",
    "bool_hd = null_df[\"Salary Frequency\"] == (\"Hourly\" or \"Daily\")"
   ]
  },
  {
   "cell_type": "code",
   "execution_count": 23,
   "id": "6f5c20dd",
   "metadata": {},
   "outputs": [],
   "source": [
    "#updating the part time full time indicator column with full time or part time with the help of salary frequency\n",
    "null_df.loc[bool_a ,\"Full-Time/Part-Time indicator\"] = \"full time\"\n",
    "null_df.loc[bool_hd , \"Full-Time/Part-Time indicator\"] = \"part time\""
   ]
  },
  {
   "cell_type": "code",
   "execution_count": 24,
   "id": "2eefc70f",
   "metadata": {},
   "outputs": [
    {
     "data": {
      "text/html": [
       "<div>\n",
       "<style scoped>\n",
       "    .dataframe tbody tr th:only-of-type {\n",
       "        vertical-align: middle;\n",
       "    }\n",
       "\n",
       "    .dataframe tbody tr th {\n",
       "        vertical-align: top;\n",
       "    }\n",
       "\n",
       "    .dataframe thead th {\n",
       "        text-align: right;\n",
       "    }\n",
       "</style>\n",
       "<table border=\"1\" class=\"dataframe\">\n",
       "  <thead>\n",
       "    <tr style=\"text-align: right;\">\n",
       "      <th></th>\n",
       "      <th>Job ID</th>\n",
       "      <th>Agency</th>\n",
       "      <th>Posting Type</th>\n",
       "      <th># Of Positions</th>\n",
       "      <th>Civil Service Title</th>\n",
       "      <th>Title Classification</th>\n",
       "      <th>Job Category</th>\n",
       "      <th>Full-Time/Part-Time indicator</th>\n",
       "      <th>Career Level</th>\n",
       "      <th>Salary Range From</th>\n",
       "      <th>Salary Range To</th>\n",
       "      <th>Salary Frequency</th>\n",
       "      <th>Minimum Qual Requirements</th>\n",
       "      <th>Residency Requirement</th>\n",
       "      <th>Posting Date</th>\n",
       "    </tr>\n",
       "  </thead>\n",
       "  <tbody>\n",
       "    <tr>\n",
       "      <th>98</th>\n",
       "      <td>611375</td>\n",
       "      <td>BRONX DISTRICT ATTORNEY</td>\n",
       "      <td>External</td>\n",
       "      <td>1</td>\n",
       "      <td>PROCUREMENT ANALYST</td>\n",
       "      <td>Competitive-1</td>\n",
       "      <td>Technology, Data &amp; Innovation</td>\n",
       "      <td>full time</td>\n",
       "      <td>Experienced (non-manager)</td>\n",
       "      <td>69012.0</td>\n",
       "      <td>90000.0</td>\n",
       "      <td>Annual</td>\n",
       "      <td>baccalaureate degree</td>\n",
       "      <td>City Residency is not required for this position</td>\n",
       "      <td>10/14/2023</td>\n",
       "    </tr>\n",
       "    <tr>\n",
       "      <th>99</th>\n",
       "      <td>611375</td>\n",
       "      <td>BRONX DISTRICT ATTORNEY</td>\n",
       "      <td>Internal</td>\n",
       "      <td>1</td>\n",
       "      <td>PROCUREMENT ANALYST</td>\n",
       "      <td>Competitive-1</td>\n",
       "      <td>Technology, Data &amp; Innovation</td>\n",
       "      <td>full time</td>\n",
       "      <td>Experienced (non-manager)</td>\n",
       "      <td>69012.0</td>\n",
       "      <td>90000.0</td>\n",
       "      <td>Annual</td>\n",
       "      <td>baccalaureate degree</td>\n",
       "      <td>City Residency is not required for this position</td>\n",
       "      <td>10/14/2023</td>\n",
       "    </tr>\n",
       "  </tbody>\n",
       "</table>\n",
       "</div>"
      ],
      "text/plain": [
       "    Job ID                   Agency Posting Type  # Of Positions  \\\n",
       "98  611375  BRONX DISTRICT ATTORNEY     External               1   \n",
       "99  611375  BRONX DISTRICT ATTORNEY     Internal               1   \n",
       "\n",
       "    Civil Service Title Title Classification                    Job Category  \\\n",
       "98  PROCUREMENT ANALYST        Competitive-1  Technology, Data & Innovation    \n",
       "99  PROCUREMENT ANALYST        Competitive-1  Technology, Data & Innovation    \n",
       "\n",
       "   Full-Time/Part-Time indicator               Career Level  \\\n",
       "98                     full time  Experienced (non-manager)   \n",
       "99                     full time  Experienced (non-manager)   \n",
       "\n",
       "    Salary Range From  Salary Range To Salary Frequency  \\\n",
       "98            69012.0          90000.0           Annual   \n",
       "99            69012.0          90000.0           Annual   \n",
       "\n",
       "   Minimum Qual Requirements  \\\n",
       "98      baccalaureate degree   \n",
       "99      baccalaureate degree   \n",
       "\n",
       "                               Residency Requirement Posting Date  \n",
       "98  City Residency is not required for this position   10/14/2023  \n",
       "99  City Residency is not required for this position   10/14/2023  "
      ]
     },
     "execution_count": 24,
     "metadata": {},
     "output_type": "execute_result"
    }
   ],
   "source": [
    "#checking if my dataframe of null values in part time full time column is updated or not\n",
    "null_df.head(2)"
   ]
  },
  {
   "cell_type": "code",
   "execution_count": 25,
   "id": "b6e15823",
   "metadata": {},
   "outputs": [],
   "source": [
    "#as i have updated my extracted dataframe ,\n",
    "#now updating mmy main dataframe with this updated part which i extracted from it\n",
    "jobs_ny[bool_pf] = null_df"
   ]
  },
  {
   "cell_type": "code",
   "execution_count": 26,
   "id": "505904ba",
   "metadata": {},
   "outputs": [
    {
     "data": {
      "text/html": [
       "<div>\n",
       "<style scoped>\n",
       "    .dataframe tbody tr th:only-of-type {\n",
       "        vertical-align: middle;\n",
       "    }\n",
       "\n",
       "    .dataframe tbody tr th {\n",
       "        vertical-align: top;\n",
       "    }\n",
       "\n",
       "    .dataframe thead th {\n",
       "        text-align: right;\n",
       "    }\n",
       "</style>\n",
       "<table border=\"1\" class=\"dataframe\">\n",
       "  <thead>\n",
       "    <tr style=\"text-align: right;\">\n",
       "      <th></th>\n",
       "      <th>Job ID</th>\n",
       "      <th>Agency</th>\n",
       "      <th>Posting Type</th>\n",
       "      <th># Of Positions</th>\n",
       "      <th>Civil Service Title</th>\n",
       "      <th>Title Classification</th>\n",
       "      <th>Job Category</th>\n",
       "      <th>Full-Time/Part-Time indicator</th>\n",
       "      <th>Career Level</th>\n",
       "      <th>Salary Range From</th>\n",
       "      <th>Salary Range To</th>\n",
       "      <th>Salary Frequency</th>\n",
       "      <th>Minimum Qual Requirements</th>\n",
       "      <th>Residency Requirement</th>\n",
       "      <th>Posting Date</th>\n",
       "    </tr>\n",
       "  </thead>\n",
       "  <tbody>\n",
       "    <tr>\n",
       "      <th>98</th>\n",
       "      <td>611375</td>\n",
       "      <td>BRONX DISTRICT ATTORNEY</td>\n",
       "      <td>External</td>\n",
       "      <td>1</td>\n",
       "      <td>PROCUREMENT ANALYST</td>\n",
       "      <td>Competitive-1</td>\n",
       "      <td>Technology, Data &amp; Innovation</td>\n",
       "      <td>full time</td>\n",
       "      <td>Experienced (non-manager)</td>\n",
       "      <td>69012.0</td>\n",
       "      <td>90000.0</td>\n",
       "      <td>Annual</td>\n",
       "      <td>baccalaureate degree</td>\n",
       "      <td>City Residency is not required for this position</td>\n",
       "      <td>10/14/2023</td>\n",
       "    </tr>\n",
       "    <tr>\n",
       "      <th>99</th>\n",
       "      <td>611375</td>\n",
       "      <td>BRONX DISTRICT ATTORNEY</td>\n",
       "      <td>Internal</td>\n",
       "      <td>1</td>\n",
       "      <td>PROCUREMENT ANALYST</td>\n",
       "      <td>Competitive-1</td>\n",
       "      <td>Technology, Data &amp; Innovation</td>\n",
       "      <td>full time</td>\n",
       "      <td>Experienced (non-manager)</td>\n",
       "      <td>69012.0</td>\n",
       "      <td>90000.0</td>\n",
       "      <td>Annual</td>\n",
       "      <td>baccalaureate degree</td>\n",
       "      <td>City Residency is not required for this position</td>\n",
       "      <td>10/14/2023</td>\n",
       "    </tr>\n",
       "    <tr>\n",
       "      <th>123</th>\n",
       "      <td>520114</td>\n",
       "      <td>TECHNOLOGY &amp; INNOVATION</td>\n",
       "      <td>Internal</td>\n",
       "      <td>1</td>\n",
       "      <td>CERTIFIED IT ADMINISTRATOR (LA</td>\n",
       "      <td>Competitive-1</td>\n",
       "      <td>Technology, Data &amp; Innovation</td>\n",
       "      <td>full time</td>\n",
       "      <td>Experienced (non-manager)</td>\n",
       "      <td>98901.0</td>\n",
       "      <td>122000.0</td>\n",
       "      <td>Annual</td>\n",
       "      <td>certification</td>\n",
       "      <td>City Residency is not required for this position</td>\n",
       "      <td>3/7/2022</td>\n",
       "    </tr>\n",
       "    <tr>\n",
       "      <th>146</th>\n",
       "      <td>545183</td>\n",
       "      <td>FINANCIAL INFO SVCS AGENCY</td>\n",
       "      <td>External</td>\n",
       "      <td>1</td>\n",
       "      <td>SENIOR IT ARCHITECT</td>\n",
       "      <td>Non-Competitive-5</td>\n",
       "      <td>Technology, Data &amp; Innovation</td>\n",
       "      <td>full time</td>\n",
       "      <td>Experienced (non-manager)</td>\n",
       "      <td>100000.0</td>\n",
       "      <td>105000.0</td>\n",
       "      <td>Annual</td>\n",
       "      <td>baccalaureate degree</td>\n",
       "      <td>New York City Residency is not required for th...</td>\n",
       "      <td>8/10/2022</td>\n",
       "    </tr>\n",
       "    <tr>\n",
       "      <th>147</th>\n",
       "      <td>545183</td>\n",
       "      <td>FINANCIAL INFO SVCS AGENCY</td>\n",
       "      <td>Internal</td>\n",
       "      <td>1</td>\n",
       "      <td>SENIOR IT ARCHITECT</td>\n",
       "      <td>Non-Competitive-5</td>\n",
       "      <td>Technology, Data &amp; Innovation</td>\n",
       "      <td>full time</td>\n",
       "      <td>Experienced (non-manager)</td>\n",
       "      <td>100000.0</td>\n",
       "      <td>105000.0</td>\n",
       "      <td>Annual</td>\n",
       "      <td>baccalaureate degree</td>\n",
       "      <td>New York City Residency is not required for th...</td>\n",
       "      <td>8/10/2022</td>\n",
       "    </tr>\n",
       "    <tr>\n",
       "      <th>...</th>\n",
       "      <td>...</td>\n",
       "      <td>...</td>\n",
       "      <td>...</td>\n",
       "      <td>...</td>\n",
       "      <td>...</td>\n",
       "      <td>...</td>\n",
       "      <td>...</td>\n",
       "      <td>...</td>\n",
       "      <td>...</td>\n",
       "      <td>...</td>\n",
       "      <td>...</td>\n",
       "      <td>...</td>\n",
       "      <td>...</td>\n",
       "      <td>...</td>\n",
       "      <td>...</td>\n",
       "    </tr>\n",
       "    <tr>\n",
       "      <th>4924</th>\n",
       "      <td>594652</td>\n",
       "      <td>HRA/DEPT OF SOCIAL SERVICES</td>\n",
       "      <td>External</td>\n",
       "      <td>1</td>\n",
       "      <td>PRINCIPAL ADMINISTRATIVE ASSOC</td>\n",
       "      <td>Competitive-1</td>\n",
       "      <td>Administration &amp; Human Resources</td>\n",
       "      <td>full time</td>\n",
       "      <td>Experienced (non-manager)</td>\n",
       "      <td>53057.0</td>\n",
       "      <td>77124.0</td>\n",
       "      <td>Annual</td>\n",
       "      <td>baccalaureate degree</td>\n",
       "      <td>New York City residency is generally required ...</td>\n",
       "      <td>7/27/2023</td>\n",
       "    </tr>\n",
       "    <tr>\n",
       "      <th>5275</th>\n",
       "      <td>546138</td>\n",
       "      <td>DEPARTMENT OF CORRECTION</td>\n",
       "      <td>External</td>\n",
       "      <td>1</td>\n",
       "      <td>DIRECTOR OF CORRECTIONAL STAND</td>\n",
       "      <td>Non-Competitive-5</td>\n",
       "      <td>Administration &amp; Human Resources</td>\n",
       "      <td>full time</td>\n",
       "      <td>Experienced (non-manager)</td>\n",
       "      <td>104000.0</td>\n",
       "      <td>110000.0</td>\n",
       "      <td>Annual</td>\n",
       "      <td>baccalaureate degree</td>\n",
       "      <td>New York City residency is not required</td>\n",
       "      <td>8/16/2022</td>\n",
       "    </tr>\n",
       "    <tr>\n",
       "      <th>5276</th>\n",
       "      <td>546138</td>\n",
       "      <td>DEPARTMENT OF CORRECTION</td>\n",
       "      <td>Internal</td>\n",
       "      <td>1</td>\n",
       "      <td>DIRECTOR OF CORRECTIONAL STAND</td>\n",
       "      <td>Non-Competitive-5</td>\n",
       "      <td>Administration &amp; Human Resources</td>\n",
       "      <td>full time</td>\n",
       "      <td>Experienced (non-manager)</td>\n",
       "      <td>104000.0</td>\n",
       "      <td>110000.0</td>\n",
       "      <td>Annual</td>\n",
       "      <td>baccalaureate degree</td>\n",
       "      <td>New York City residency is not required</td>\n",
       "      <td>8/16/2022</td>\n",
       "    </tr>\n",
       "    <tr>\n",
       "      <th>5367</th>\n",
       "      <td>604775</td>\n",
       "      <td>DEPT OF DESIGN &amp; CONSTRUCTION</td>\n",
       "      <td>External</td>\n",
       "      <td>1</td>\n",
       "      <td>COMMUNITY COORDINATOR</td>\n",
       "      <td>Non-Competitive-5</td>\n",
       "      <td>Administration &amp; Human Resources</td>\n",
       "      <td>full time</td>\n",
       "      <td>Experienced (non-manager)</td>\n",
       "      <td>59116.0</td>\n",
       "      <td>81213.0</td>\n",
       "      <td>Annual</td>\n",
       "      <td>baccalaureate degree</td>\n",
       "      <td>New York City residency is generally required ...</td>\n",
       "      <td>9/15/2023</td>\n",
       "    </tr>\n",
       "    <tr>\n",
       "      <th>5368</th>\n",
       "      <td>604775</td>\n",
       "      <td>DEPT OF DESIGN &amp; CONSTRUCTION</td>\n",
       "      <td>Internal</td>\n",
       "      <td>1</td>\n",
       "      <td>COMMUNITY COORDINATOR</td>\n",
       "      <td>Non-Competitive-5</td>\n",
       "      <td>Administration &amp; Human Resources</td>\n",
       "      <td>full time</td>\n",
       "      <td>Experienced (non-manager)</td>\n",
       "      <td>59116.0</td>\n",
       "      <td>81213.0</td>\n",
       "      <td>Annual</td>\n",
       "      <td>baccalaureate degree</td>\n",
       "      <td>New York City residency is generally required ...</td>\n",
       "      <td>9/15/2023</td>\n",
       "    </tr>\n",
       "  </tbody>\n",
       "</table>\n",
       "<p>119 rows × 15 columns</p>\n",
       "</div>"
      ],
      "text/plain": [
       "      Job ID                         Agency Posting Type  # Of Positions  \\\n",
       "98    611375        BRONX DISTRICT ATTORNEY     External               1   \n",
       "99    611375        BRONX DISTRICT ATTORNEY     Internal               1   \n",
       "123   520114        TECHNOLOGY & INNOVATION     Internal               1   \n",
       "146   545183     FINANCIAL INFO SVCS AGENCY     External               1   \n",
       "147   545183     FINANCIAL INFO SVCS AGENCY     Internal               1   \n",
       "...      ...                            ...          ...             ...   \n",
       "4924  594652    HRA/DEPT OF SOCIAL SERVICES     External               1   \n",
       "5275  546138       DEPARTMENT OF CORRECTION     External               1   \n",
       "5276  546138       DEPARTMENT OF CORRECTION     Internal               1   \n",
       "5367  604775  DEPT OF DESIGN & CONSTRUCTION     External               1   \n",
       "5368  604775  DEPT OF DESIGN & CONSTRUCTION     Internal               1   \n",
       "\n",
       "                 Civil Service Title Title Classification  \\\n",
       "98               PROCUREMENT ANALYST        Competitive-1   \n",
       "99               PROCUREMENT ANALYST        Competitive-1   \n",
       "123   CERTIFIED IT ADMINISTRATOR (LA        Competitive-1   \n",
       "146              SENIOR IT ARCHITECT    Non-Competitive-5   \n",
       "147              SENIOR IT ARCHITECT    Non-Competitive-5   \n",
       "...                              ...                  ...   \n",
       "4924  PRINCIPAL ADMINISTRATIVE ASSOC        Competitive-1   \n",
       "5275  DIRECTOR OF CORRECTIONAL STAND    Non-Competitive-5   \n",
       "5276  DIRECTOR OF CORRECTIONAL STAND    Non-Competitive-5   \n",
       "5367           COMMUNITY COORDINATOR    Non-Competitive-5   \n",
       "5368           COMMUNITY COORDINATOR    Non-Competitive-5   \n",
       "\n",
       "                           Job Category Full-Time/Part-Time indicator  \\\n",
       "98       Technology, Data & Innovation                      full time   \n",
       "99       Technology, Data & Innovation                      full time   \n",
       "123      Technology, Data & Innovation                      full time   \n",
       "146      Technology, Data & Innovation                      full time   \n",
       "147      Technology, Data & Innovation                      full time   \n",
       "...                                 ...                           ...   \n",
       "4924  Administration & Human Resources                      full time   \n",
       "5275  Administration & Human Resources                      full time   \n",
       "5276  Administration & Human Resources                      full time   \n",
       "5367  Administration & Human Resources                      full time   \n",
       "5368  Administration & Human Resources                      full time   \n",
       "\n",
       "                   Career Level  Salary Range From  Salary Range To  \\\n",
       "98    Experienced (non-manager)            69012.0          90000.0   \n",
       "99    Experienced (non-manager)            69012.0          90000.0   \n",
       "123   Experienced (non-manager)            98901.0         122000.0   \n",
       "146   Experienced (non-manager)           100000.0         105000.0   \n",
       "147   Experienced (non-manager)           100000.0         105000.0   \n",
       "...                         ...                ...              ...   \n",
       "4924  Experienced (non-manager)            53057.0          77124.0   \n",
       "5275  Experienced (non-manager)           104000.0         110000.0   \n",
       "5276  Experienced (non-manager)           104000.0         110000.0   \n",
       "5367  Experienced (non-manager)            59116.0          81213.0   \n",
       "5368  Experienced (non-manager)            59116.0          81213.0   \n",
       "\n",
       "     Salary Frequency Minimum Qual Requirements  \\\n",
       "98             Annual      baccalaureate degree   \n",
       "99             Annual      baccalaureate degree   \n",
       "123            Annual             certification   \n",
       "146            Annual      baccalaureate degree   \n",
       "147            Annual      baccalaureate degree   \n",
       "...               ...                       ...   \n",
       "4924           Annual      baccalaureate degree   \n",
       "5275           Annual      baccalaureate degree   \n",
       "5276           Annual      baccalaureate degree   \n",
       "5367           Annual      baccalaureate degree   \n",
       "5368           Annual      baccalaureate degree   \n",
       "\n",
       "                                  Residency Requirement Posting Date  \n",
       "98     City Residency is not required for this position   10/14/2023  \n",
       "99     City Residency is not required for this position   10/14/2023  \n",
       "123    City Residency is not required for this position     3/7/2022  \n",
       "146   New York City Residency is not required for th...    8/10/2022  \n",
       "147   New York City Residency is not required for th...    8/10/2022  \n",
       "...                                                 ...          ...  \n",
       "4924  New York City residency is generally required ...    7/27/2023  \n",
       "5275            New York City residency is not required    8/16/2022  \n",
       "5276            New York City residency is not required    8/16/2022  \n",
       "5367  New York City residency is generally required ...    9/15/2023  \n",
       "5368  New York City residency is generally required ...    9/15/2023  \n",
       "\n",
       "[119 rows x 15 columns]"
      ]
     },
     "execution_count": 26,
     "metadata": {},
     "output_type": "execute_result"
    }
   ],
   "source": [
    "#checking if my extracted rows are updated or not\n",
    "jobs_ny[bool_pf]"
   ]
  },
  {
   "cell_type": "code",
   "execution_count": 27,
   "id": "524065b8",
   "metadata": {},
   "outputs": [
    {
     "data": {
      "text/plain": [
       "0       full time\n",
       "1       full time\n",
       "2       full time\n",
       "3       full time\n",
       "4       full time\n",
       "          ...    \n",
       "5475    full time\n",
       "5476    full time\n",
       "5477    full time\n",
       "5478    part time\n",
       "5479    part time\n",
       "Name: Full-Time/Part-Time indicator, Length: 5480, dtype: object"
      ]
     },
     "execution_count": 27,
     "metadata": {},
     "output_type": "execute_result"
    }
   ],
   "source": [
    "#as i achieved what i wanted now i want to change F and P to full time part time respectively\n",
    "jobs_ny[\"Full-Time/Part-Time indicator\"].str.replace('F', \"full time\").str.replace('P', \"part time\")"
   ]
  },
  {
   "cell_type": "code",
   "execution_count": 28,
   "id": "1d8216e5",
   "metadata": {},
   "outputs": [],
   "source": [
    "#updating my column in main dataframe with the operation performed in above cell\n",
    "jobs_ny[\"Full-Time/Part-Time indicator\"]=jobs_ny[\"Full-Time/Part-Time indicator\"].str.replace('F',\"full time\").str.replace('P', \"part time\")"
   ]
  },
  {
   "cell_type": "code",
   "execution_count": 29,
   "id": "7e58d8b4",
   "metadata": {},
   "outputs": [
    {
     "data": {
      "text/html": [
       "<div>\n",
       "<style scoped>\n",
       "    .dataframe tbody tr th:only-of-type {\n",
       "        vertical-align: middle;\n",
       "    }\n",
       "\n",
       "    .dataframe tbody tr th {\n",
       "        vertical-align: top;\n",
       "    }\n",
       "\n",
       "    .dataframe thead th {\n",
       "        text-align: right;\n",
       "    }\n",
       "</style>\n",
       "<table border=\"1\" class=\"dataframe\">\n",
       "  <thead>\n",
       "    <tr style=\"text-align: right;\">\n",
       "      <th></th>\n",
       "      <th>Job ID</th>\n",
       "      <th>Agency</th>\n",
       "      <th>Posting Type</th>\n",
       "      <th># Of Positions</th>\n",
       "      <th>Civil Service Title</th>\n",
       "      <th>Title Classification</th>\n",
       "      <th>Job Category</th>\n",
       "      <th>Full-Time/Part-Time indicator</th>\n",
       "      <th>Career Level</th>\n",
       "      <th>Salary Range From</th>\n",
       "      <th>Salary Range To</th>\n",
       "      <th>Salary Frequency</th>\n",
       "      <th>Minimum Qual Requirements</th>\n",
       "      <th>Residency Requirement</th>\n",
       "      <th>Posting Date</th>\n",
       "    </tr>\n",
       "  </thead>\n",
       "  <tbody>\n",
       "    <tr>\n",
       "      <th>0</th>\n",
       "      <td>483894</td>\n",
       "      <td>HRA/DEPT OF SOCIAL SERVICES</td>\n",
       "      <td>Internal</td>\n",
       "      <td>1</td>\n",
       "      <td>COMPUTER SPECIALIST (SOFTWARE)</td>\n",
       "      <td>Competitive-1</td>\n",
       "      <td>Technology, Data &amp; Innovation</td>\n",
       "      <td>full time</td>\n",
       "      <td>Experienced (non-manager)</td>\n",
       "      <td>92194.0</td>\n",
       "      <td>119610.0</td>\n",
       "      <td>Annual</td>\n",
       "      <td>baccalaureate degree</td>\n",
       "      <td>New York City Residency is not required for th...</td>\n",
       "      <td>9/17/2021</td>\n",
       "    </tr>\n",
       "    <tr>\n",
       "      <th>1</th>\n",
       "      <td>483894</td>\n",
       "      <td>HRA/DEPT OF SOCIAL SERVICES</td>\n",
       "      <td>External</td>\n",
       "      <td>1</td>\n",
       "      <td>COMPUTER SPECIALIST (SOFTWARE)</td>\n",
       "      <td>Competitive-1</td>\n",
       "      <td>Technology, Data &amp; Innovation</td>\n",
       "      <td>full time</td>\n",
       "      <td>Experienced (non-manager)</td>\n",
       "      <td>92194.0</td>\n",
       "      <td>119610.0</td>\n",
       "      <td>Annual</td>\n",
       "      <td>baccalaureate degree</td>\n",
       "      <td>New York City Residency is not required for th...</td>\n",
       "      <td>9/17/2021</td>\n",
       "    </tr>\n",
       "  </tbody>\n",
       "</table>\n",
       "</div>"
      ],
      "text/plain": [
       "   Job ID                       Agency Posting Type  # Of Positions  \\\n",
       "0  483894  HRA/DEPT OF SOCIAL SERVICES     Internal               1   \n",
       "1  483894  HRA/DEPT OF SOCIAL SERVICES     External               1   \n",
       "\n",
       "              Civil Service Title Title Classification  \\\n",
       "0  COMPUTER SPECIALIST (SOFTWARE)        Competitive-1   \n",
       "1  COMPUTER SPECIALIST (SOFTWARE)        Competitive-1   \n",
       "\n",
       "                     Job Category Full-Time/Part-Time indicator  \\\n",
       "0  Technology, Data & Innovation                      full time   \n",
       "1  Technology, Data & Innovation                      full time   \n",
       "\n",
       "                Career Level  Salary Range From  Salary Range To  \\\n",
       "0  Experienced (non-manager)            92194.0         119610.0   \n",
       "1  Experienced (non-manager)            92194.0         119610.0   \n",
       "\n",
       "  Salary Frequency Minimum Qual Requirements  \\\n",
       "0           Annual      baccalaureate degree   \n",
       "1           Annual      baccalaureate degree   \n",
       "\n",
       "                               Residency Requirement Posting Date  \n",
       "0  New York City Residency is not required for th...    9/17/2021  \n",
       "1  New York City Residency is not required for th...    9/17/2021  "
      ]
     },
     "execution_count": 29,
     "metadata": {},
     "output_type": "execute_result"
    }
   ],
   "source": [
    "jobs_ny.head(2)"
   ]
  },
  {
   "cell_type": "markdown",
   "id": "678fd595",
   "metadata": {},
   "source": [
    "####  my data frame is now complete without any null value \n",
    "## done \n",
    "\n",
    "### to do 4:-\n",
    "* i analyzed residency requirements column has much noice in it,as strictly required ,generally reuired , required if necessary without any null values in it so,\n",
    "* logic to clean the \"residency requirements\" column by categorizing it as \"Yes\" if residency is required and \"No\" if residency is not required\n",
    "* all strickly necessary generaly required will become as simple as \"yes\" \n",
    "* not required means \"No\"\n",
    "\n",
    "## logic: Cleaning and standardizing data in such a manner can help improve the consistency and clarity of your dataset, making it easier to analyze and interpret. Categorizing residency requirements into clear binary options simplifies the information and makes it more understandable for analysis purposes."
   ]
  },
  {
   "cell_type": "code",
   "execution_count": 30,
   "id": "4227764f",
   "metadata": {},
   "outputs": [
    {
     "data": {
      "text/plain": [
       "0       New York City Residency is not required for th...\n",
       "1       New York City Residency is not required for th...\n",
       "2       New York City Residency is not required for th...\n",
       "3       New York City Residency is not required for th...\n",
       "4       New York City Residency is not required for th...\n",
       "                              ...                        \n",
       "5475             New York City residency is not required.\n",
       "5476    New York City residency is generally required ...\n",
       "5477    New York City residency is generally required ...\n",
       "5478    New York City residency is generally required ...\n",
       "5479    New York City residency is generally required ...\n",
       "Name: Residency Requirement, Length: 5480, dtype: object"
      ]
     },
     "execution_count": 30,
     "metadata": {},
     "output_type": "execute_result"
    }
   ],
   "source": [
    "#checking\n",
    "jobs_ny['Residency Requirement']"
   ]
  },
  {
   "cell_type": "code",
   "execution_count": 31,
   "id": "67fab64e",
   "metadata": {},
   "outputs": [],
   "source": [
    "# Clean the residency_requirements column\n",
    "#applying lambda ,with condition if x contains not required return no else return yes\n",
    "jobs_ny['Residency Requirement'] = jobs_ny['Residency Requirement'].apply(lambda x:'No' if 'not required' in x else 'Yes')"
   ]
  },
  {
   "cell_type": "code",
   "execution_count": 32,
   "id": "d96edc4d",
   "metadata": {},
   "outputs": [
    {
     "name": "stdout",
     "output_type": "stream",
     "text": [
      "3572\n",
      "1908\n"
     ]
    }
   ],
   "source": [
    "# no need to make any variable as i was just checking my results with same operation performed in excel\n",
    "print((jobs_ny['Residency Requirement'] == \"Yes\").sum())\n",
    "print((jobs_ny['Residency Requirement'] == \"No\").sum())"
   ]
  },
  {
   "cell_type": "markdown",
   "id": "e2ff13e9",
   "metadata": {},
   "source": [
    "#### to do 5:-\n",
    "* change Posting Date column into datetime \n",
    "\n",
    "## Logic :converting the \"Posting Date\" column into datetime format enhances the usability, flexibility, and analytical capabilities of my dataset, enabling derive meaningful insights and make informed decisions based on temporal information."
   ]
  },
  {
   "cell_type": "code",
   "execution_count": 33,
   "id": "5f5aea98",
   "metadata": {},
   "outputs": [
    {
     "data": {
      "text/plain": [
       "0      2021-09-17\n",
       "1      2021-09-17\n",
       "2      2022-08-15\n",
       "3      2022-08-15\n",
       "4      2022-08-18\n",
       "          ...    \n",
       "5475   2024-02-14\n",
       "5476   2024-02-15\n",
       "5477   2024-02-15\n",
       "5478   2024-02-15\n",
       "5479   2024-02-16\n",
       "Name: Posting Date, Length: 5480, dtype: datetime64[ns]"
      ]
     },
     "execution_count": 33,
     "metadata": {},
     "output_type": "execute_result"
    }
   ],
   "source": [
    "#converting and checking my conversion to datetime\n",
    "import datetime as dt\n",
    "pd.to_datetime(jobs_ny[\"Posting Date\"])"
   ]
  },
  {
   "cell_type": "code",
   "execution_count": 34,
   "id": "27a7883e",
   "metadata": {},
   "outputs": [],
   "source": [
    "#assigning with my dataframe\n",
    "jobs_ny[\"Posting Date\"] = pd.to_datetime(jobs_ny[\"Posting Date\"])"
   ]
  },
  {
   "cell_type": "markdown",
   "id": "e1752b60",
   "metadata": {},
   "source": [
    "#### done\n",
    "\n",
    "### to do 6::\n",
    "* to standardize my salaries columns and crate new columns for it\n",
    "\n",
    "## logic : standardizing salaries into annual rates offers numerous benefits in terms of consistency, comparability, compliance, and strategic planning, making it a widely adopted practice in human resources and financial management.\n",
    "\n",
    "* i have 2 columns of salarioes\n",
    "\n",
    "                * Salary Range From\n",
    "                * Salary Range to\n",
    "* we will check frequency with the help of Saraly frequency column and standardize salaries into annual rates\n"
   ]
  },
  {
   "cell_type": "code",
   "execution_count": 35,
   "id": "1b516293",
   "metadata": {},
   "outputs": [],
   "source": [
    "#as per global standards , \n",
    "        # there are 40 working hous per week\n",
    "        # there are 52 weeks in a year\n",
    "        # and 260 working days in a year\n",
    "# Identify rows where frequency is hourly or daily or annual\n",
    "bool_hs = (jobs_ny['Salary Frequency'] == 'Hourly')\n",
    "bool_ds = (jobs_ny['Salary Frequency'] == 'Daily')\n",
    "bool_as = (jobs_ny['Salary Frequency'] == 'Annual')\n",
    "#creating new column of annual Starting salaries and putting values\n",
    "jobs_ny.loc[bool_hs, \"Annual Starting Salary\"] = jobs_ny.loc[bool_hs, \"Salary Range From\"] * 40 * 52\n",
    "jobs_ny.loc[bool_ds, \"Annual Starting Salary\"] = jobs_ny.loc[bool_ds, \"Salary Range From\"] * 260\n",
    "jobs_ny.loc[bool_as, \"Annual Starting Salary\"] = jobs_ny.loc[bool_as, \"Salary Range From\"] * 1"
   ]
  },
  {
   "cell_type": "code",
   "execution_count": 36,
   "id": "c2231242",
   "metadata": {},
   "outputs": [
    {
     "data": {
      "text/plain": [
       "0"
      ]
     },
     "execution_count": 36,
     "metadata": {},
     "output_type": "execute_result"
    }
   ],
   "source": [
    "#checking my created column \n",
    "(jobs_ny[\"Annual Starting Salary\"].isnull()).sum()"
   ]
  },
  {
   "cell_type": "code",
   "execution_count": 37,
   "id": "eb592a02",
   "metadata": {},
   "outputs": [],
   "source": [
    "# my first column is created , repeating the operation for another column Salary range to\n",
    "#no need to create bool series as it will be same\n",
    "jobs_ny.loc[bool_hs, \"Annual Salary Upto\"] = jobs_ny.loc[bool_hs, \"Salary Range To\"] * 40 * 52\n",
    "jobs_ny.loc[bool_ds, \"Annual Salary Upto\"] = jobs_ny.loc[bool_ds, \"Salary Range To\"] * 260\n",
    "jobs_ny.loc[bool_as, \"Annual Salary Upto\"] = jobs_ny.loc[bool_as, \"Salary Range To\"] * 1"
   ]
  },
  {
   "cell_type": "code",
   "execution_count": 38,
   "id": "bfe48f5b",
   "metadata": {},
   "outputs": [
    {
     "data": {
      "text/plain": [
       "0"
      ]
     },
     "execution_count": 38,
     "metadata": {},
     "output_type": "execute_result"
    }
   ],
   "source": [
    "#checking if all values are updated\n",
    "(jobs_ny[\"Annual Salary Upto\"].isnull()).sum()"
   ]
  },
  {
   "cell_type": "markdown",
   "id": "863aa63f",
   "metadata": {},
   "source": [
    "#### done \n",
    "\n",
    "\n",
    "### to do 7:-\n",
    "*  i will update 2 columns name:\n",
    "\n",
    "         * 1-Minimum Qual Requirement ---> Required Qualification:\n",
    "                    i have update the column with only qualification which is required for the job       \n",
    "         * 2-Residency Requirement    ---> Residency In Newyork:\n",
    "                    as i have changes my columns values to yes and no ,\n",
    "                    yes means residency required in newyork city\n",
    "                    no means , residency not required in newyork city\n",
    "         * 3-# Of Position           ---->  No Of Positions\n",
    "            "
   ]
  },
  {
   "cell_type": "code",
   "execution_count": 39,
   "id": "24362bb3",
   "metadata": {},
   "outputs": [
    {
     "data": {
      "text/plain": [
       "Index(['Job ID', 'Agency', 'Posting Type', 'No Of Positions',\n",
       "       'Civil Service Title', 'Title Classification', 'Job Category',\n",
       "       'Full-Time/Part-Time indicator', 'Career Level', 'Salary Range From',\n",
       "       'Salary Range To', 'Salary Frequency', 'Required Qualification',\n",
       "       'Required Residency In Newyork', 'Posting Date',\n",
       "       'Annual Starting Salary', 'Annual Salary Upto'],\n",
       "      dtype='object')"
      ]
     },
     "execution_count": 39,
     "metadata": {},
     "output_type": "execute_result"
    }
   ],
   "source": [
    "# Rename the column names\n",
    "jobs_ny = jobs_ny.rename(columns={'Residency Requirement': 'Required Residency In Newyork'})\n",
    "jobs_ny = jobs_ny.rename(columns={'Minimum Qual Requirements': 'Required Qualification'}) \n",
    "jobs_ny = jobs_ny.rename(columns={'# Of Positions':'No Of Positions'})\n",
    "jobs_ny.columns"
   ]
  },
  {
   "cell_type": "code",
   "execution_count": 40,
   "id": "5dcfe569",
   "metadata": {
    "scrolled": true
   },
   "outputs": [
    {
     "data": {
      "text/html": [
       "<div>\n",
       "<style scoped>\n",
       "    .dataframe tbody tr th:only-of-type {\n",
       "        vertical-align: middle;\n",
       "    }\n",
       "\n",
       "    .dataframe tbody tr th {\n",
       "        vertical-align: top;\n",
       "    }\n",
       "\n",
       "    .dataframe thead th {\n",
       "        text-align: right;\n",
       "    }\n",
       "</style>\n",
       "<table border=\"1\" class=\"dataframe\">\n",
       "  <thead>\n",
       "    <tr style=\"text-align: right;\">\n",
       "      <th></th>\n",
       "      <th>Job ID</th>\n",
       "      <th>Agency</th>\n",
       "      <th>Posting Type</th>\n",
       "      <th>No Of Positions</th>\n",
       "      <th>Civil Service Title</th>\n",
       "      <th>Title Classification</th>\n",
       "      <th>Job Category</th>\n",
       "      <th>Full-Time/Part-Time indicator</th>\n",
       "      <th>Career Level</th>\n",
       "      <th>Salary Range From</th>\n",
       "      <th>Salary Range To</th>\n",
       "      <th>Salary Frequency</th>\n",
       "      <th>Required Qualification</th>\n",
       "      <th>Required Residency In Newyork</th>\n",
       "      <th>Posting Date</th>\n",
       "      <th>Annual Starting Salary</th>\n",
       "      <th>Annual Salary Upto</th>\n",
       "    </tr>\n",
       "  </thead>\n",
       "  <tbody>\n",
       "    <tr>\n",
       "      <th>3000</th>\n",
       "      <td>567666</td>\n",
       "      <td>DEPT OF DESIGN &amp; CONSTRUCTION</td>\n",
       "      <td>Internal</td>\n",
       "      <td>1</td>\n",
       "      <td>PROJECT MANAGER</td>\n",
       "      <td>Competitive-1</td>\n",
       "      <td>Engineering, Architecture, &amp; Planning</td>\n",
       "      <td>full time</td>\n",
       "      <td>Experienced (non-manager)</td>\n",
       "      <td>57078.00</td>\n",
       "      <td>65640.00</td>\n",
       "      <td>Annual</td>\n",
       "      <td>baccalaureate degree</td>\n",
       "      <td>Yes</td>\n",
       "      <td>2023-05-10</td>\n",
       "      <td>57078.0</td>\n",
       "      <td>65640.0</td>\n",
       "    </tr>\n",
       "    <tr>\n",
       "      <th>3001</th>\n",
       "      <td>567666</td>\n",
       "      <td>DEPT OF DESIGN &amp; CONSTRUCTION</td>\n",
       "      <td>External</td>\n",
       "      <td>1</td>\n",
       "      <td>PROJECT MANAGER</td>\n",
       "      <td>Competitive-1</td>\n",
       "      <td>Engineering, Architecture, &amp; Planning</td>\n",
       "      <td>full time</td>\n",
       "      <td>Experienced (non-manager)</td>\n",
       "      <td>57078.00</td>\n",
       "      <td>65640.00</td>\n",
       "      <td>Annual</td>\n",
       "      <td>baccalaureate degree</td>\n",
       "      <td>Yes</td>\n",
       "      <td>2023-05-10</td>\n",
       "      <td>57078.0</td>\n",
       "      <td>65640.0</td>\n",
       "    </tr>\n",
       "    <tr>\n",
       "      <th>3002</th>\n",
       "      <td>568087</td>\n",
       "      <td>DEPT OF DESIGN &amp; CONSTRUCTION</td>\n",
       "      <td>Internal</td>\n",
       "      <td>1</td>\n",
       "      <td>GEOLOGIST</td>\n",
       "      <td>Competitive-1</td>\n",
       "      <td>Engineering, Architecture, &amp; Planning</td>\n",
       "      <td>full time</td>\n",
       "      <td>Experienced (non-manager)</td>\n",
       "      <td>57078.00</td>\n",
       "      <td>77921.00</td>\n",
       "      <td>Annual</td>\n",
       "      <td>baccalaureate degree</td>\n",
       "      <td>Yes</td>\n",
       "      <td>2023-05-16</td>\n",
       "      <td>57078.0</td>\n",
       "      <td>77921.0</td>\n",
       "    </tr>\n",
       "    <tr>\n",
       "      <th>3003</th>\n",
       "      <td>568087</td>\n",
       "      <td>DEPT OF DESIGN &amp; CONSTRUCTION</td>\n",
       "      <td>External</td>\n",
       "      <td>1</td>\n",
       "      <td>GEOLOGIST</td>\n",
       "      <td>Competitive-1</td>\n",
       "      <td>Engineering, Architecture, &amp; Planning</td>\n",
       "      <td>full time</td>\n",
       "      <td>Experienced (non-manager)</td>\n",
       "      <td>57078.00</td>\n",
       "      <td>77921.00</td>\n",
       "      <td>Annual</td>\n",
       "      <td>baccalaureate degree</td>\n",
       "      <td>Yes</td>\n",
       "      <td>2023-05-16</td>\n",
       "      <td>57078.0</td>\n",
       "      <td>77921.0</td>\n",
       "    </tr>\n",
       "    <tr>\n",
       "      <th>3004</th>\n",
       "      <td>568289</td>\n",
       "      <td>DEPARTMENT OF TRANSPORTATION</td>\n",
       "      <td>Internal</td>\n",
       "      <td>3</td>\n",
       "      <td>CIVIL ENGINEERING INTERN</td>\n",
       "      <td>Competitive-1</td>\n",
       "      <td>Engineering, Architecture, &amp; Planning</td>\n",
       "      <td>full time</td>\n",
       "      <td>Entry-Level</td>\n",
       "      <td>51413.00</td>\n",
       "      <td>62260.00</td>\n",
       "      <td>Annual</td>\n",
       "      <td>baccalaureate degree</td>\n",
       "      <td>No</td>\n",
       "      <td>2023-01-10</td>\n",
       "      <td>51413.0</td>\n",
       "      <td>62260.0</td>\n",
       "    </tr>\n",
       "    <tr>\n",
       "      <th>...</th>\n",
       "      <td>...</td>\n",
       "      <td>...</td>\n",
       "      <td>...</td>\n",
       "      <td>...</td>\n",
       "      <td>...</td>\n",
       "      <td>...</td>\n",
       "      <td>...</td>\n",
       "      <td>...</td>\n",
       "      <td>...</td>\n",
       "      <td>...</td>\n",
       "      <td>...</td>\n",
       "      <td>...</td>\n",
       "      <td>...</td>\n",
       "      <td>...</td>\n",
       "      <td>...</td>\n",
       "      <td>...</td>\n",
       "      <td>...</td>\n",
       "    </tr>\n",
       "    <tr>\n",
       "      <th>3995</th>\n",
       "      <td>570954</td>\n",
       "      <td>DEPT OF HEALTH/MENTAL HYGIENE</td>\n",
       "      <td>Internal</td>\n",
       "      <td>75</td>\n",
       "      <td>PUBLIC HEALTH NURSE (SCHOOL HE</td>\n",
       "      <td>Competitive-1</td>\n",
       "      <td>Constituent Services &amp; Community Programs</td>\n",
       "      <td>part time</td>\n",
       "      <td>Experienced (non-manager)</td>\n",
       "      <td>42.01</td>\n",
       "      <td>42.01</td>\n",
       "      <td>Hourly</td>\n",
       "      <td>others</td>\n",
       "      <td>No</td>\n",
       "      <td>2023-09-08</td>\n",
       "      <td>87380.8</td>\n",
       "      <td>87380.8</td>\n",
       "    </tr>\n",
       "    <tr>\n",
       "      <th>3996</th>\n",
       "      <td>574993</td>\n",
       "      <td>DEPT OF HEALTH/MENTAL HYGIENE</td>\n",
       "      <td>External</td>\n",
       "      <td>1</td>\n",
       "      <td>LABORATORY MICROBIOLOGIST</td>\n",
       "      <td>Competitive-1</td>\n",
       "      <td>Constituent Services &amp; Community Programs</td>\n",
       "      <td>full time</td>\n",
       "      <td>Experienced (non-manager)</td>\n",
       "      <td>56971.00</td>\n",
       "      <td>56971.00</td>\n",
       "      <td>Annual</td>\n",
       "      <td>baccalaureate degree</td>\n",
       "      <td>Yes</td>\n",
       "      <td>2023-10-11</td>\n",
       "      <td>56971.0</td>\n",
       "      <td>56971.0</td>\n",
       "    </tr>\n",
       "    <tr>\n",
       "      <th>3997</th>\n",
       "      <td>574993</td>\n",
       "      <td>DEPT OF HEALTH/MENTAL HYGIENE</td>\n",
       "      <td>Internal</td>\n",
       "      <td>1</td>\n",
       "      <td>LABORATORY MICROBIOLOGIST</td>\n",
       "      <td>Competitive-1</td>\n",
       "      <td>Constituent Services &amp; Community Programs</td>\n",
       "      <td>full time</td>\n",
       "      <td>Experienced (non-manager)</td>\n",
       "      <td>56971.00</td>\n",
       "      <td>56971.00</td>\n",
       "      <td>Annual</td>\n",
       "      <td>baccalaureate degree</td>\n",
       "      <td>Yes</td>\n",
       "      <td>2023-10-11</td>\n",
       "      <td>56971.0</td>\n",
       "      <td>56971.0</td>\n",
       "    </tr>\n",
       "    <tr>\n",
       "      <th>3998</th>\n",
       "      <td>580437</td>\n",
       "      <td>DEPT OF HEALTH/MENTAL HYGIENE</td>\n",
       "      <td>Internal</td>\n",
       "      <td>1</td>\n",
       "      <td>ASSOCIATE LABORATORY MICROBIOL</td>\n",
       "      <td>Competitive-1</td>\n",
       "      <td>Constituent Services &amp; Community Programs</td>\n",
       "      <td>full time</td>\n",
       "      <td>Experienced (non-manager)</td>\n",
       "      <td>63962.00</td>\n",
       "      <td>75000.00</td>\n",
       "      <td>Annual</td>\n",
       "      <td>baccalaureate degree</td>\n",
       "      <td>Yes</td>\n",
       "      <td>2023-10-11</td>\n",
       "      <td>63962.0</td>\n",
       "      <td>75000.0</td>\n",
       "    </tr>\n",
       "    <tr>\n",
       "      <th>3999</th>\n",
       "      <td>580437</td>\n",
       "      <td>DEPT OF HEALTH/MENTAL HYGIENE</td>\n",
       "      <td>External</td>\n",
       "      <td>1</td>\n",
       "      <td>ASSOCIATE LABORATORY MICROBIOL</td>\n",
       "      <td>Competitive-1</td>\n",
       "      <td>Constituent Services &amp; Community Programs</td>\n",
       "      <td>full time</td>\n",
       "      <td>Experienced (non-manager)</td>\n",
       "      <td>63962.00</td>\n",
       "      <td>75000.00</td>\n",
       "      <td>Annual</td>\n",
       "      <td>baccalaureate degree</td>\n",
       "      <td>Yes</td>\n",
       "      <td>2023-10-11</td>\n",
       "      <td>63962.0</td>\n",
       "      <td>75000.0</td>\n",
       "    </tr>\n",
       "  </tbody>\n",
       "</table>\n",
       "<p>1000 rows × 17 columns</p>\n",
       "</div>"
      ],
      "text/plain": [
       "      Job ID                         Agency Posting Type  No Of Positions  \\\n",
       "3000  567666  DEPT OF DESIGN & CONSTRUCTION     Internal                1   \n",
       "3001  567666  DEPT OF DESIGN & CONSTRUCTION     External                1   \n",
       "3002  568087  DEPT OF DESIGN & CONSTRUCTION     Internal                1   \n",
       "3003  568087  DEPT OF DESIGN & CONSTRUCTION     External                1   \n",
       "3004  568289   DEPARTMENT OF TRANSPORTATION     Internal                3   \n",
       "...      ...                            ...          ...              ...   \n",
       "3995  570954  DEPT OF HEALTH/MENTAL HYGIENE     Internal               75   \n",
       "3996  574993  DEPT OF HEALTH/MENTAL HYGIENE     External                1   \n",
       "3997  574993  DEPT OF HEALTH/MENTAL HYGIENE     Internal                1   \n",
       "3998  580437  DEPT OF HEALTH/MENTAL HYGIENE     Internal                1   \n",
       "3999  580437  DEPT OF HEALTH/MENTAL HYGIENE     External                1   \n",
       "\n",
       "                 Civil Service Title Title Classification  \\\n",
       "3000                 PROJECT MANAGER        Competitive-1   \n",
       "3001                 PROJECT MANAGER        Competitive-1   \n",
       "3002                       GEOLOGIST        Competitive-1   \n",
       "3003                       GEOLOGIST        Competitive-1   \n",
       "3004        CIVIL ENGINEERING INTERN        Competitive-1   \n",
       "...                              ...                  ...   \n",
       "3995  PUBLIC HEALTH NURSE (SCHOOL HE        Competitive-1   \n",
       "3996       LABORATORY MICROBIOLOGIST        Competitive-1   \n",
       "3997       LABORATORY MICROBIOLOGIST        Competitive-1   \n",
       "3998  ASSOCIATE LABORATORY MICROBIOL        Competitive-1   \n",
       "3999  ASSOCIATE LABORATORY MICROBIOL        Competitive-1   \n",
       "\n",
       "                                   Job Category Full-Time/Part-Time indicator  \\\n",
       "3000      Engineering, Architecture, & Planning                     full time   \n",
       "3001      Engineering, Architecture, & Planning                     full time   \n",
       "3002      Engineering, Architecture, & Planning                     full time   \n",
       "3003      Engineering, Architecture, & Planning                     full time   \n",
       "3004      Engineering, Architecture, & Planning                     full time   \n",
       "...                                         ...                           ...   \n",
       "3995  Constituent Services & Community Programs                     part time   \n",
       "3996  Constituent Services & Community Programs                     full time   \n",
       "3997  Constituent Services & Community Programs                     full time   \n",
       "3998  Constituent Services & Community Programs                     full time   \n",
       "3999  Constituent Services & Community Programs                     full time   \n",
       "\n",
       "                   Career Level  Salary Range From  Salary Range To  \\\n",
       "3000  Experienced (non-manager)           57078.00         65640.00   \n",
       "3001  Experienced (non-manager)           57078.00         65640.00   \n",
       "3002  Experienced (non-manager)           57078.00         77921.00   \n",
       "3003  Experienced (non-manager)           57078.00         77921.00   \n",
       "3004                Entry-Level           51413.00         62260.00   \n",
       "...                         ...                ...              ...   \n",
       "3995  Experienced (non-manager)              42.01            42.01   \n",
       "3996  Experienced (non-manager)           56971.00         56971.00   \n",
       "3997  Experienced (non-manager)           56971.00         56971.00   \n",
       "3998  Experienced (non-manager)           63962.00         75000.00   \n",
       "3999  Experienced (non-manager)           63962.00         75000.00   \n",
       "\n",
       "     Salary Frequency Required Qualification Required Residency In Newyork  \\\n",
       "3000           Annual   baccalaureate degree                           Yes   \n",
       "3001           Annual   baccalaureate degree                           Yes   \n",
       "3002           Annual   baccalaureate degree                           Yes   \n",
       "3003           Annual   baccalaureate degree                           Yes   \n",
       "3004           Annual   baccalaureate degree                            No   \n",
       "...               ...                    ...                           ...   \n",
       "3995           Hourly                 others                            No   \n",
       "3996           Annual   baccalaureate degree                           Yes   \n",
       "3997           Annual   baccalaureate degree                           Yes   \n",
       "3998           Annual   baccalaureate degree                           Yes   \n",
       "3999           Annual   baccalaureate degree                           Yes   \n",
       "\n",
       "     Posting Date  Annual Starting Salary  Annual Salary Upto  \n",
       "3000   2023-05-10                 57078.0             65640.0  \n",
       "3001   2023-05-10                 57078.0             65640.0  \n",
       "3002   2023-05-16                 57078.0             77921.0  \n",
       "3003   2023-05-16                 57078.0             77921.0  \n",
       "3004   2023-01-10                 51413.0             62260.0  \n",
       "...           ...                     ...                 ...  \n",
       "3995   2023-09-08                 87380.8             87380.8  \n",
       "3996   2023-10-11                 56971.0             56971.0  \n",
       "3997   2023-10-11                 56971.0             56971.0  \n",
       "3998   2023-10-11                 63962.0             75000.0  \n",
       "3999   2023-10-11                 63962.0             75000.0  \n",
       "\n",
       "[1000 rows x 17 columns]"
      ]
     },
     "execution_count": 40,
     "metadata": {},
     "output_type": "execute_result"
    }
   ],
   "source": [
    "# checking my all operations by calling out random rows \n",
    "jobs_ny[3000:4000]      #repesent index 3000-3004 and 3995-3999"
   ]
  },
  {
   "cell_type": "markdown",
   "id": "c5d76b07",
   "metadata": {},
   "source": [
    "### done\n",
    "\n",
    "* i have cleaned my all columns  alhamdulillah \n",
    "* now we will analyze our data with respect to our problem statement \n",
    "\n",
    "# \"DATA EXPLORTION & DESCRIPTIVE ANALYSIS\""
   ]
  },
  {
   "cell_type": "markdown",
   "id": "2145045f",
   "metadata": {},
   "source": [
    "## 1- lets analyze jobs category, i will aggregate the total demand based on the number of positions available rather than the occurance of particular job category\n",
    "\n",
    "## Logic: summing up the values (no of positions) associated with each job category,  effectively quantifies the total demand for labor within those categories, which can provide valuable insights into the distribution and scale of employment opportunities across different job categories in the dataset.\n"
   ]
  },
  {
   "cell_type": "code",
   "execution_count": 41,
   "id": "787d8f89",
   "metadata": {},
   "outputs": [],
   "source": [
    "no_of_position_in_each_category = jobs_ny.groupby('Job Category')['No Of Positions'].sum()"
   ]
  },
  {
   "cell_type": "code",
   "execution_count": 42,
   "id": "ed1843be",
   "metadata": {},
   "outputs": [
    {
     "data": {
      "text/plain": [
       "Job Category\n",
       "Administration & Human Resources              1106\n",
       "Building Operations & Maintenance             1477\n",
       "Communications & Intergovernmental Affairs     193\n",
       "Constituent Services & Community Programs     1736\n",
       "Engineering, Architecture, & Planning         1597\n",
       "Finance, Accounting, & Procurement             567\n",
       "Green Jobs                                      27\n",
       "Health                                         591\n",
       "Health Technology, Data & Innovation            14\n",
       "Legal Affairs                                 1387\n",
       "Policy, Research & Analysis                    204\n",
       "Public Safety, Inspections, & Enforcement      797\n",
       "Social Services                               1435\n",
       "Technology, Data & Innovation                  605\n",
       "Name: No Of Positions, dtype: int64"
      ]
     },
     "execution_count": 42,
     "metadata": {},
     "output_type": "execute_result"
    }
   ],
   "source": [
    "no_of_position_in_each_category"
   ]
  },
  {
   "cell_type": "code",
   "execution_count": 43,
   "id": "109f1397",
   "metadata": {},
   "outputs": [
    {
     "data": {
      "text/plain": [
       "11736"
      ]
     },
     "execution_count": 43,
     "metadata": {},
     "output_type": "execute_result"
    }
   ],
   "source": [
    "#calculate total num of positions to find out percentage \n",
    "total_no_of_positions = no_of_position_in_each_category.sum()\n",
    "total_no_of_positions"
   ]
  },
  {
   "cell_type": "code",
   "execution_count": 44,
   "id": "3d9bbf42",
   "metadata": {
    "scrolled": true
   },
   "outputs": [
    {
     "data": {
      "text/plain": [
       "Job Category\n",
       "Constituent Services & Community Programs     14.792093\n",
       "Engineering, Architecture, & Planning         13.607703\n",
       "Building Operations & Maintenance             12.585208\n",
       "Social Services                               12.227335\n",
       "Legal Affairs                                 11.818337\n",
       "Administration & Human Resources               9.423995\n",
       "Public Safety, Inspections, & Enforcement      6.791070\n",
       "Technology, Data & Innovation                  5.155078\n",
       "Health                                         5.035787\n",
       "Finance, Accounting, & Procurement             4.831288\n",
       "Policy, Research & Analysis                    1.738241\n",
       "Communications & Intergovernmental Affairs     1.644513\n",
       "Green Jobs                                     0.230061\n",
       "Health Technology, Data & Innovation           0.119291\n",
       "Name: No Of Positions, dtype: float64"
      ]
     },
     "execution_count": 44,
     "metadata": {},
     "output_type": "execute_result"
    }
   ],
   "source": [
    "#calculate percentage and sort it in descending order\n",
    "demand_of_labour=(((no_of_position_in_each_category/total_no_of_positions)*100).sort_values(ascending = False))\n",
    "#demand of labour in each sector by percentages\n",
    "demand_of_labour"
   ]
  },
  {
   "cell_type": "code",
   "execution_count": 62,
   "id": "3fe43360",
   "metadata": {},
   "outputs": [
    {
     "data": {
      "text/plain": [
       "<Axes: ylabel='No Of Positions'>"
      ]
     },
     "execution_count": 62,
     "metadata": {},
     "output_type": "execute_result"
    },
    {
     "data": {
      "image/png": "[encoded data removed]",
      "text/plain": [
       "<Figure size 640x480 with 1 Axes>"
      ]
     },
     "metadata": {},
     "output_type": "display_data"
    }
   ],
   "source": [
    "demand_of_labour.plot(kind= \"pie\")"
   ]
  },
  {
   "cell_type": "markdown",
   "id": "a7aecb5a",
   "metadata": {},
   "source": [
    "#### to do:\n",
    "* i will work on each job category separately and find the minimum qualification required in that particular job category at what career levels\n",
    "\n",
    "Explore the most common agencies, job categories, and career levels in your dataset.\n",
    "\n",
    "Look for any patterns or trends in the distribution of job postings across these categories."
   ]
  },
  {
   "cell_type": "code",
   "execution_count": 45,
   "id": "2ceb032e",
   "metadata": {},
   "outputs": [],
   "source": [
    "#grouping my data according to job category\n",
    "grouped_df = jobs_ny.groupby('Job Category')"
   ]
  },
  {
   "cell_type": "code",
   "execution_count": 46,
   "id": "01a8db8d",
   "metadata": {},
   "outputs": [
    {
     "data": {
      "text/html": [
       "<div>\n",
       "<style scoped>\n",
       "    .dataframe tbody tr th:only-of-type {\n",
       "        vertical-align: middle;\n",
       "    }\n",
       "\n",
       "    .dataframe tbody tr th {\n",
       "        vertical-align: top;\n",
       "    }\n",
       "\n",
       "    .dataframe thead th {\n",
       "        text-align: right;\n",
       "    }\n",
       "</style>\n",
       "<table border=\"1\" class=\"dataframe\">\n",
       "  <thead>\n",
       "    <tr style=\"text-align: right;\">\n",
       "      <th></th>\n",
       "      <th>Job ID</th>\n",
       "      <th>Agency</th>\n",
       "      <th>Posting Type</th>\n",
       "      <th>No Of Positions</th>\n",
       "      <th>Civil Service Title</th>\n",
       "      <th>Title Classification</th>\n",
       "      <th>Job Category</th>\n",
       "      <th>Full-Time/Part-Time indicator</th>\n",
       "      <th>Career Level</th>\n",
       "      <th>Salary Range From</th>\n",
       "      <th>Salary Range To</th>\n",
       "      <th>Salary Frequency</th>\n",
       "      <th>Required Qualification</th>\n",
       "      <th>Required Residency In Newyork</th>\n",
       "      <th>Posting Date</th>\n",
       "      <th>Annual Starting Salary</th>\n",
       "      <th>Annual Salary Upto</th>\n",
       "    </tr>\n",
       "  </thead>\n",
       "  <tbody>\n",
       "    <tr>\n",
       "      <th>3584</th>\n",
       "      <td>622848</td>\n",
       "      <td>DEPT OF YOUTH &amp; COMM DEV SRVS</td>\n",
       "      <td>External</td>\n",
       "      <td>1</td>\n",
       "      <td>CYBER SECURITY ANALYST</td>\n",
       "      <td>Competitive-1</td>\n",
       "      <td>Constituent Services &amp; Community Programs</td>\n",
       "      <td>full time</td>\n",
       "      <td>Experienced (non-manager)</td>\n",
       "      <td>78795.0</td>\n",
       "      <td>113300.0</td>\n",
       "      <td>Annual</td>\n",
       "      <td>baccalaureate degree</td>\n",
       "      <td>Yes</td>\n",
       "      <td>2024-01-30</td>\n",
       "      <td>78795.0</td>\n",
       "      <td>113300.0</td>\n",
       "    </tr>\n",
       "    <tr>\n",
       "      <th>3585</th>\n",
       "      <td>622848</td>\n",
       "      <td>DEPT OF YOUTH &amp; COMM DEV SRVS</td>\n",
       "      <td>Internal</td>\n",
       "      <td>1</td>\n",
       "      <td>CYBER SECURITY ANALYST</td>\n",
       "      <td>Competitive-1</td>\n",
       "      <td>Constituent Services &amp; Community Programs</td>\n",
       "      <td>full time</td>\n",
       "      <td>Experienced (non-manager)</td>\n",
       "      <td>78795.0</td>\n",
       "      <td>113300.0</td>\n",
       "      <td>Annual</td>\n",
       "      <td>baccalaureate degree</td>\n",
       "      <td>Yes</td>\n",
       "      <td>2024-01-30</td>\n",
       "      <td>78795.0</td>\n",
       "      <td>113300.0</td>\n",
       "    </tr>\n",
       "  </tbody>\n",
       "</table>\n",
       "</div>"
      ],
      "text/plain": [
       "      Job ID                         Agency Posting Type  No Of Positions  \\\n",
       "3584  622848  DEPT OF YOUTH & COMM DEV SRVS     External                1   \n",
       "3585  622848  DEPT OF YOUTH & COMM DEV SRVS     Internal                1   \n",
       "\n",
       "         Civil Service Title Title Classification  \\\n",
       "3584  CYBER SECURITY ANALYST        Competitive-1   \n",
       "3585  CYBER SECURITY ANALYST        Competitive-1   \n",
       "\n",
       "                                   Job Category Full-Time/Part-Time indicator  \\\n",
       "3584  Constituent Services & Community Programs                     full time   \n",
       "3585  Constituent Services & Community Programs                     full time   \n",
       "\n",
       "                   Career Level  Salary Range From  Salary Range To  \\\n",
       "3584  Experienced (non-manager)            78795.0         113300.0   \n",
       "3585  Experienced (non-manager)            78795.0         113300.0   \n",
       "\n",
       "     Salary Frequency Required Qualification Required Residency In Newyork  \\\n",
       "3584           Annual   baccalaureate degree                           Yes   \n",
       "3585           Annual   baccalaureate degree                           Yes   \n",
       "\n",
       "     Posting Date  Annual Starting Salary  Annual Salary Upto  \n",
       "3584   2024-01-30                 78795.0            113300.0  \n",
       "3585   2024-01-30                 78795.0            113300.0  "
      ]
     },
     "execution_count": 46,
     "metadata": {},
     "output_type": "execute_result"
    }
   ],
   "source": [
    "group_1 = grouped_df.get_group(\"Constituent Services & Community Programs\")\n",
    "group_1.head(2)"
   ]
  },
  {
   "cell_type": "markdown",
   "id": "8e7419cd",
   "metadata": {},
   "source": [
    "## i have grouped my data according to job category now analyze each job category separately, for analysis i have created a user define function which will analyze the particular job category , just you have to provide name of the job category "
   ]
  },
  {
   "cell_type": "code",
   "execution_count": 47,
   "id": "64282889",
   "metadata": {},
   "outputs": [],
   "source": [
    "def analyze_sub_group(column_name,group) : \n",
    "    # Count occurrences of sub group within the category\n",
    "    #we calculate total number of position to calculate actual sub group occurance in percentages\n",
    "    no_of_position = group.groupby(column_name)['No Of Positions'].sum()\n",
    "    #calculate total num of positions to find out percentage \n",
    "    total_no_of_positions = no_of_position.sum()\n",
    "    #calculate percentage of each sub group vacancy\n",
    "    by_percentage = ((no_of_position/total_no_of_positions)*100)\n",
    "    sub_group = by_percentage.round(2)\n",
    "    sub_group_series = pd.Series(sub_group.items())\n",
    "    sub_group_by_percentage = sub_group_series.apply(lambda x: f\"{x}\").str.cat(sep='\\n')\n",
    "    #using separator \\n so when i write on excel i get values in each line separately\n",
    "    return sub_group_by_percentage"
   ]
  },
  {
   "cell_type": "code",
   "execution_count": 48,
   "id": "dc3cc831",
   "metadata": {},
   "outputs": [],
   "source": [
    "def analysis_by_job_category(name_of_category):\n",
    "    #getting group dataframe separately\n",
    "    group = grouped_df.get_group(name_of_category)\n",
    "    \n",
    "    # Calculate statistics for annual starting salary\n",
    "    #no need to use no of postion as average has no effect in this aspect\n",
    "    average_starting_salary = group['Annual Starting Salary'].mean().round(2)\n",
    "    min_starting_salary = group['Annual Starting Salary'].min()\n",
    "    max_starting_salary = group['Annual Starting Salary'].max()\n",
    "    avg_starting_salary_range = max_starting_salary - min_starting_salary\n",
    "    \n",
    "    #Calculate statistics for annual salary upto\n",
    "    average_salary_upto = group['Annual Salary Upto'].mean().round(2)\n",
    "    min_salary_upto = group['Annual Salary Upto'].min()\n",
    "    max_salary_upto = group['Annual Salary Upto'].max()\n",
    "    avg_salary_range_upto = max_salary_upto - min_salary_upto\n",
    "     \n",
    "    #calculate the averrage salary range\n",
    "    avg_salary = avg_salary_range_upto - avg_starting_salary_range\n",
    "    \n",
    "    # applying my user define function for analysis of group with respect to sub group Career Level\n",
    "    career_level_by_percentage = analyze_sub_group(\"Career Level\", group)\n",
    "    \n",
    "    ## applying my user define function for analysis of group with respect to sub group residency requirement\n",
    "    residency_requirement_by_percentage = analyze_sub_group(\"Required Residency In Newyork\", group)\n",
    "    \n",
    "    ## applying my user define function for analysis of group with respect to sub group posting type\n",
    "    posting_type_by_percentage = analyze_sub_group(\"Posting Type\", group)\n",
    "    \n",
    "    ## applying my user define function for analysis of group with respect to sub group qualification requiremnts\n",
    "    qualification_requirement_by_percentage = analyze_sub_group(\"Required Qualification\", group)\n",
    "    \n",
    "    #not using my function of analyze sub group as i have to consider only top 5 valyes so will do it manually\n",
    "    #we calculate total number of position to calculate top 5 agency \n",
    "    #which hire the personnel for particular job category\n",
    "    no_of_jobs_offered_by_each_agency = group.groupby('Agency')['No Of Positions'].sum()\n",
    "    #calculate total num of vacancy to find out percentage \n",
    "    total_no_of_jobs = no_of_jobs_offered_by_each_agency.sum()\n",
    "    #calculate percentage of each agency offering jobs\n",
    "    agency_in_percentage = (no_of_jobs_offered_by_each_agency/total_no_of_jobs)*100\n",
    "    sorted_agency = agency_in_percentage.sort_values(ascending = False)\n",
    "    sorted_agency = sorted_agency.round(2)\n",
    "    top_5_agency = sorted_agency.head(5)\n",
    "    top_5_agency_series = pd.Series(top_5_agency.items())\n",
    "    top_5_agency_for_jobs = top_5_agency_series.apply(lambda x: f\"{x}\").str.cat(sep='\\n')\n",
    "    \n",
    "    return {\"Job Category\" : name_of_category,\n",
    "        'Average Starting Salary': avg_starting_salary_range,\n",
    "        'Average Salary Upto': avg_salary_range_upto,\n",
    "        'Average Salary ': avg_salary ,\n",
    "        'Posting Type in Percentage': posting_type_by_percentage ,\n",
    "        'Required Residency In Newyork': residency_requirement_by_percentage ,\n",
    "        'Career Level Vacancy In Percentage': career_level_by_percentage,\n",
    "        'Ratio Of Required Qualification': qualification_requirement_by_percentage,\n",
    "        'Top 5 Agency Offering Jobs' : top_5_agency_for_jobs}"
   ]
  },
  {
   "cell_type": "code",
   "execution_count": 49,
   "id": "59ec19f3",
   "metadata": {},
   "outputs": [
    {
     "data": {
      "text/plain": [
       "{'Job Category': 'Constituent Services & Community Programs',\n",
       " 'Average Starting Salary': 185620.2,\n",
       " 'Average Salary Upto': 187446.2,\n",
       " 'Average Salary ': 1826.0,\n",
       " 'Posting Type in Percentage': \"('External', 50.35)\\n('Internal', 49.65)\",\n",
       " 'Required Residency In Newyork': \"('No', 31.51)\\n('Yes', 68.49)\",\n",
       " 'Career Level Vacancy In Percentage': \"('Entry-Level', 15.09)\\n('Executive', 0.58)\\n('Experienced (non-manager)', 72.58)\\n('Manager', 1.38)\\n('Student', 10.37)\",\n",
       " 'Ratio Of Required Qualification': '(\\'baccalaureate degree\\', 28.69)\\n(\"bachelor\\'s degree\", 0.46)\\n(\\'certificate\\', 0.92)\\n(\\'certification\\', 1.21)\\n(\\'diploma\\', 0.12)\\n(\\'high school\\', 16.71)\\n(\"master\\'s degree\", 6.05)\\n(\\'matriculation\\', 1.04)\\n(\\'not specified\\', 4.15)\\n(\\'others\\', 40.67)',\n",
       " 'Top 5 Agency Offering Jobs': \"('DEPT OF HEALTH/MENTAL HYGIENE', 41.88)\\n('BRONX DISTRICT ATTORNEY', 16.59)\\n('DEPT OF ENVIRONMENT PROTECTION', 7.89)\\n('HRA/DEPT OF SOCIAL SERVICES', 5.99)\\n('DEPARTMENT OF FINANCE', 4.61)\"}"
      ]
     },
     "execution_count": 49,
     "metadata": {},
     "output_type": "execute_result"
    }
   ],
   "source": [
    "#lets try with top 5 job category\n",
    "data1 = analysis_by_job_category(\"Constituent Services & Community Programs\")\n",
    "data1\n"
   ]
  },
  {
   "cell_type": "markdown",
   "id": "88a572b5",
   "metadata": {},
   "source": [
    "### tip to check output\n",
    "* All percentages values must sum up as 100 \n",
    "\n",
    "- [x] "
   ]
  },
  {
   "cell_type": "code",
   "execution_count": 50,
   "id": "bc56857f",
   "metadata": {},
   "outputs": [],
   "source": [
    "#apply the function in each job category \n",
    "data2 = analysis_by_job_category(\"Engineering, Architecture, & Planning\")\n",
    "data3 = analysis_by_job_category(\"Building Operations & Maintenance\")\n",
    "data4 = analysis_by_job_category(\"Social Services\")\n",
    "data5 = analysis_by_job_category(\"Legal Affairs\")"
   ]
  },
  {
   "cell_type": "markdown",
   "id": "2768f39f",
   "metadata": {},
   "source": [
    "# likewise we can analyze all job categories with this line of codes \n",
    "### but to sum up my project i am presparing report on top 5 job categories in demand or we can say trendy \n",
    "### i will compare these data of top 5 categories"
   ]
  },
  {
   "cell_type": "code",
   "execution_count": 51,
   "id": "af573a3f",
   "metadata": {},
   "outputs": [
    {
     "data": {
      "text/html": [
       "<div>\n",
       "<style scoped>\n",
       "    .dataframe tbody tr th:only-of-type {\n",
       "        vertical-align: middle;\n",
       "    }\n",
       "\n",
       "    .dataframe tbody tr th {\n",
       "        vertical-align: top;\n",
       "    }\n",
       "\n",
       "    .dataframe thead th {\n",
       "        text-align: right;\n",
       "    }\n",
       "</style>\n",
       "<table border=\"1\" class=\"dataframe\">\n",
       "  <thead>\n",
       "    <tr style=\"text-align: right;\">\n",
       "      <th></th>\n",
       "      <th>0</th>\n",
       "      <th>1</th>\n",
       "      <th>2</th>\n",
       "      <th>3</th>\n",
       "      <th>4</th>\n",
       "    </tr>\n",
       "  </thead>\n",
       "  <tbody>\n",
       "    <tr>\n",
       "      <th>Job Category</th>\n",
       "      <td>Constituent Services &amp; Community Programs</td>\n",
       "      <td>Engineering, Architecture, &amp; Planning</td>\n",
       "      <td>Building Operations &amp; Maintenance</td>\n",
       "      <td>Social Services</td>\n",
       "      <td>Legal Affairs</td>\n",
       "    </tr>\n",
       "    <tr>\n",
       "      <th>Average Starting Salary</th>\n",
       "      <td>185620.2</td>\n",
       "      <td>193800.0</td>\n",
       "      <td>128906.4</td>\n",
       "      <td>79464.0</td>\n",
       "      <td>200000.0</td>\n",
       "    </tr>\n",
       "    <tr>\n",
       "      <th>Average Salary Upto</th>\n",
       "      <td>187446.2</td>\n",
       "      <td>211720.0</td>\n",
       "      <td>141350.0</td>\n",
       "      <td>200046.0</td>\n",
       "      <td>208154.0</td>\n",
       "    </tr>\n",
       "    <tr>\n",
       "      <th>Average Salary</th>\n",
       "      <td>1826.0</td>\n",
       "      <td>17920.0</td>\n",
       "      <td>12443.6</td>\n",
       "      <td>120582.0</td>\n",
       "      <td>8154.0</td>\n",
       "    </tr>\n",
       "    <tr>\n",
       "      <th>Posting Type in Percentage</th>\n",
       "      <td>('External', 50.35)\\n('Internal', 49.65)</td>\n",
       "      <td>('External', 49.09)\\n('Internal', 50.91)</td>\n",
       "      <td>('External', 49.63)\\n('Internal', 50.37)</td>\n",
       "      <td>('External', 49.62)\\n('Internal', 50.38)</td>\n",
       "      <td>('External', 48.67)\\n('Internal', 51.33)</td>\n",
       "    </tr>\n",
       "    <tr>\n",
       "      <th>Required Residency In Newyork</th>\n",
       "      <td>('No', 31.51)\\n('Yes', 68.49)</td>\n",
       "      <td>('No', 66.25)\\n('Yes', 33.75)</td>\n",
       "      <td>('No', 6.91)\\n('Yes', 93.09)</td>\n",
       "      <td>('No', 65.16)\\n('Yes', 34.84)</td>\n",
       "      <td>('No', 50.76)\\n('Yes', 49.24)</td>\n",
       "    </tr>\n",
       "    <tr>\n",
       "      <th>Career Level Vacancy In Percentage</th>\n",
       "      <td>('Entry-Level', 15.09)\\n('Executive', 0.58)\\n(...</td>\n",
       "      <td>('Entry-Level', 15.4)\\n('Executive', 1.5)\\n('E...</td>\n",
       "      <td>('Entry-Level', 64.86)\\n('Experienced (non-man...</td>\n",
       "      <td>('Entry-Level', 6.27)\\n('Executive', 0.14)\\n('...</td>\n",
       "      <td>('Entry-Level', 29.42)\\n('Executive', 1.01)\\n(...</td>\n",
       "    </tr>\n",
       "    <tr>\n",
       "      <th>Ratio Of Required Qualification</th>\n",
       "      <td>('baccalaureate degree', 28.69)\\n(\"bachelor's ...</td>\n",
       "      <td>('baccalaureate degree', 54.85)\\n(\"bachelor's ...</td>\n",
       "      <td>('baccalaureate degree', 2.57)\\n(\"bachelor's d...</td>\n",
       "      <td>('baccalaureate degree', 58.4)\\n('high school'...</td>\n",
       "      <td>('baccalaureate degree', 6.34)\\n(\"bachelor's d...</td>\n",
       "    </tr>\n",
       "    <tr>\n",
       "      <th>Top 5 Agency Offering Jobs</th>\n",
       "      <td>('DEPT OF HEALTH/MENTAL HYGIENE', 41.88)\\n('BR...</td>\n",
       "      <td>('DEPT OF ENVIRONMENT PROTECTION', 45.15)\\n('D...</td>\n",
       "      <td>('NYC HOUSING AUTHORITY', 66.35)\\n('DEPT OF EN...</td>\n",
       "      <td>('HRA/DEPT OF SOCIAL SERVICES', 66.2)\\n(\"ADMIN...</td>\n",
       "      <td>('BRONX DISTRICT ATTORNEY', 49.17)\\n('LAW DEPA...</td>\n",
       "    </tr>\n",
       "  </tbody>\n",
       "</table>\n",
       "</div>"
      ],
      "text/plain": [
       "                                                                                    0  \\\n",
       "Job Category                                Constituent Services & Community Programs   \n",
       "Average Starting Salary                                                      185620.2   \n",
       "Average Salary Upto                                                          187446.2   \n",
       "Average Salary                                                                 1826.0   \n",
       "Posting Type in Percentage                   ('External', 50.35)\\n('Internal', 49.65)   \n",
       "Required Residency In Newyork                           ('No', 31.51)\\n('Yes', 68.49)   \n",
       "Career Level Vacancy In Percentage  ('Entry-Level', 15.09)\\n('Executive', 0.58)\\n(...   \n",
       "Ratio Of Required Qualification     ('baccalaureate degree', 28.69)\\n(\"bachelor's ...   \n",
       "Top 5 Agency Offering Jobs          ('DEPT OF HEALTH/MENTAL HYGIENE', 41.88)\\n('BR...   \n",
       "\n",
       "                                                                                    1  \\\n",
       "Job Category                                    Engineering, Architecture, & Planning   \n",
       "Average Starting Salary                                                      193800.0   \n",
       "Average Salary Upto                                                          211720.0   \n",
       "Average Salary                                                                17920.0   \n",
       "Posting Type in Percentage                   ('External', 49.09)\\n('Internal', 50.91)   \n",
       "Required Residency In Newyork                           ('No', 66.25)\\n('Yes', 33.75)   \n",
       "Career Level Vacancy In Percentage  ('Entry-Level', 15.4)\\n('Executive', 1.5)\\n('E...   \n",
       "Ratio Of Required Qualification     ('baccalaureate degree', 54.85)\\n(\"bachelor's ...   \n",
       "Top 5 Agency Offering Jobs          ('DEPT OF ENVIRONMENT PROTECTION', 45.15)\\n('D...   \n",
       "\n",
       "                                                                                    2  \\\n",
       "Job Category                                        Building Operations & Maintenance   \n",
       "Average Starting Salary                                                      128906.4   \n",
       "Average Salary Upto                                                          141350.0   \n",
       "Average Salary                                                                12443.6   \n",
       "Posting Type in Percentage                   ('External', 49.63)\\n('Internal', 50.37)   \n",
       "Required Residency In Newyork                            ('No', 6.91)\\n('Yes', 93.09)   \n",
       "Career Level Vacancy In Percentage  ('Entry-Level', 64.86)\\n('Experienced (non-man...   \n",
       "Ratio Of Required Qualification     ('baccalaureate degree', 2.57)\\n(\"bachelor's d...   \n",
       "Top 5 Agency Offering Jobs          ('NYC HOUSING AUTHORITY', 66.35)\\n('DEPT OF EN...   \n",
       "\n",
       "                                                                                    3  \\\n",
       "Job Category                                                          Social Services   \n",
       "Average Starting Salary                                                       79464.0   \n",
       "Average Salary Upto                                                          200046.0   \n",
       "Average Salary                                                               120582.0   \n",
       "Posting Type in Percentage                   ('External', 49.62)\\n('Internal', 50.38)   \n",
       "Required Residency In Newyork                           ('No', 65.16)\\n('Yes', 34.84)   \n",
       "Career Level Vacancy In Percentage  ('Entry-Level', 6.27)\\n('Executive', 0.14)\\n('...   \n",
       "Ratio Of Required Qualification     ('baccalaureate degree', 58.4)\\n('high school'...   \n",
       "Top 5 Agency Offering Jobs          ('HRA/DEPT OF SOCIAL SERVICES', 66.2)\\n(\"ADMIN...   \n",
       "\n",
       "                                                                                    4  \n",
       "Job Category                                                            Legal Affairs  \n",
       "Average Starting Salary                                                      200000.0  \n",
       "Average Salary Upto                                                          208154.0  \n",
       "Average Salary                                                                 8154.0  \n",
       "Posting Type in Percentage                   ('External', 48.67)\\n('Internal', 51.33)  \n",
       "Required Residency In Newyork                           ('No', 50.76)\\n('Yes', 49.24)  \n",
       "Career Level Vacancy In Percentage  ('Entry-Level', 29.42)\\n('Executive', 1.01)\\n(...  \n",
       "Ratio Of Required Qualification     ('baccalaureate degree', 6.34)\\n(\"bachelor's d...  \n",
       "Top 5 Agency Offering Jobs          ('BRONX DISTRICT ATTORNEY', 49.17)\\n('LAW DEPA...  "
      ]
     },
     "execution_count": 51,
     "metadata": {},
     "output_type": "execute_result"
    }
   ],
   "source": [
    "# Create a list to hold all data dictionaries\n",
    "all_data = [data1, data2, data3, data4, data5]\n",
    "\n",
    "# Convert the list of dictionaries into a DataFrame\n",
    "df = pd.DataFrame(all_data)\n",
    "\n",
    "# Transpose the DataFrame to switch rows and columns\n",
    "df = df.T\n",
    "\n",
    "\n",
    "df"
   ]
  },
  {
   "cell_type": "code",
   "execution_count": 52,
   "id": "4c8c29a0",
   "metadata": {
    "scrolled": true
   },
   "outputs": [
    {
     "data": {
      "text/html": [
       "<div>\n",
       "<style scoped>\n",
       "    .dataframe tbody tr th:only-of-type {\n",
       "        vertical-align: middle;\n",
       "    }\n",
       "\n",
       "    .dataframe tbody tr th {\n",
       "        vertical-align: top;\n",
       "    }\n",
       "\n",
       "    .dataframe thead th {\n",
       "        text-align: right;\n",
       "    }\n",
       "</style>\n",
       "<table border=\"1\" class=\"dataframe\">\n",
       "  <thead>\n",
       "    <tr style=\"text-align: right;\">\n",
       "      <th>Job Category</th>\n",
       "      <th>Constituent Services &amp; Community Programs</th>\n",
       "      <th>Engineering, Architecture, &amp; Planning</th>\n",
       "      <th>Building Operations &amp; Maintenance</th>\n",
       "      <th>Social Services</th>\n",
       "      <th>Legal Affairs</th>\n",
       "    </tr>\n",
       "  </thead>\n",
       "  <tbody>\n",
       "    <tr>\n",
       "      <th>Average Starting Salary</th>\n",
       "      <td>185620.2</td>\n",
       "      <td>193800.0</td>\n",
       "      <td>128906.4</td>\n",
       "      <td>79464.0</td>\n",
       "      <td>200000.0</td>\n",
       "    </tr>\n",
       "    <tr>\n",
       "      <th>Average Salary Upto</th>\n",
       "      <td>187446.2</td>\n",
       "      <td>211720.0</td>\n",
       "      <td>141350.0</td>\n",
       "      <td>200046.0</td>\n",
       "      <td>208154.0</td>\n",
       "    </tr>\n",
       "    <tr>\n",
       "      <th>Average Salary</th>\n",
       "      <td>1826.0</td>\n",
       "      <td>17920.0</td>\n",
       "      <td>12443.6</td>\n",
       "      <td>120582.0</td>\n",
       "      <td>8154.0</td>\n",
       "    </tr>\n",
       "    <tr>\n",
       "      <th>Posting Type in Percentage</th>\n",
       "      <td>('External', 50.35)\\n('Internal', 49.65)</td>\n",
       "      <td>('External', 49.09)\\n('Internal', 50.91)</td>\n",
       "      <td>('External', 49.63)\\n('Internal', 50.37)</td>\n",
       "      <td>('External', 49.62)\\n('Internal', 50.38)</td>\n",
       "      <td>('External', 48.67)\\n('Internal', 51.33)</td>\n",
       "    </tr>\n",
       "    <tr>\n",
       "      <th>Required Residency In Newyork</th>\n",
       "      <td>('No', 31.51)\\n('Yes', 68.49)</td>\n",
       "      <td>('No', 66.25)\\n('Yes', 33.75)</td>\n",
       "      <td>('No', 6.91)\\n('Yes', 93.09)</td>\n",
       "      <td>('No', 65.16)\\n('Yes', 34.84)</td>\n",
       "      <td>('No', 50.76)\\n('Yes', 49.24)</td>\n",
       "    </tr>\n",
       "    <tr>\n",
       "      <th>Career Level Vacancy In Percentage</th>\n",
       "      <td>('Entry-Level', 15.09)\\n('Executive', 0.58)\\n(...</td>\n",
       "      <td>('Entry-Level', 15.4)\\n('Executive', 1.5)\\n('E...</td>\n",
       "      <td>('Entry-Level', 64.86)\\n('Experienced (non-man...</td>\n",
       "      <td>('Entry-Level', 6.27)\\n('Executive', 0.14)\\n('...</td>\n",
       "      <td>('Entry-Level', 29.42)\\n('Executive', 1.01)\\n(...</td>\n",
       "    </tr>\n",
       "    <tr>\n",
       "      <th>Ratio Of Required Qualification</th>\n",
       "      <td>('baccalaureate degree', 28.69)\\n(\"bachelor's ...</td>\n",
       "      <td>('baccalaureate degree', 54.85)\\n(\"bachelor's ...</td>\n",
       "      <td>('baccalaureate degree', 2.57)\\n(\"bachelor's d...</td>\n",
       "      <td>('baccalaureate degree', 58.4)\\n('high school'...</td>\n",
       "      <td>('baccalaureate degree', 6.34)\\n(\"bachelor's d...</td>\n",
       "    </tr>\n",
       "    <tr>\n",
       "      <th>Top 5 Agency Offering Jobs</th>\n",
       "      <td>('DEPT OF HEALTH/MENTAL HYGIENE', 41.88)\\n('BR...</td>\n",
       "      <td>('DEPT OF ENVIRONMENT PROTECTION', 45.15)\\n('D...</td>\n",
       "      <td>('NYC HOUSING AUTHORITY', 66.35)\\n('DEPT OF EN...</td>\n",
       "      <td>('HRA/DEPT OF SOCIAL SERVICES', 66.2)\\n(\"ADMIN...</td>\n",
       "      <td>('BRONX DISTRICT ATTORNEY', 49.17)\\n('LAW DEPA...</td>\n",
       "    </tr>\n",
       "  </tbody>\n",
       "</table>\n",
       "</div>"
      ],
      "text/plain": [
       "Job Category                                Constituent Services & Community Programs  \\\n",
       "Average Starting Salary                                                      185620.2   \n",
       "Average Salary Upto                                                          187446.2   \n",
       "Average Salary                                                                 1826.0   \n",
       "Posting Type in Percentage                   ('External', 50.35)\\n('Internal', 49.65)   \n",
       "Required Residency In Newyork                           ('No', 31.51)\\n('Yes', 68.49)   \n",
       "Career Level Vacancy In Percentage  ('Entry-Level', 15.09)\\n('Executive', 0.58)\\n(...   \n",
       "Ratio Of Required Qualification     ('baccalaureate degree', 28.69)\\n(\"bachelor's ...   \n",
       "Top 5 Agency Offering Jobs          ('DEPT OF HEALTH/MENTAL HYGIENE', 41.88)\\n('BR...   \n",
       "\n",
       "Job Category                                    Engineering, Architecture, & Planning  \\\n",
       "Average Starting Salary                                                      193800.0   \n",
       "Average Salary Upto                                                          211720.0   \n",
       "Average Salary                                                                17920.0   \n",
       "Posting Type in Percentage                   ('External', 49.09)\\n('Internal', 50.91)   \n",
       "Required Residency In Newyork                           ('No', 66.25)\\n('Yes', 33.75)   \n",
       "Career Level Vacancy In Percentage  ('Entry-Level', 15.4)\\n('Executive', 1.5)\\n('E...   \n",
       "Ratio Of Required Qualification     ('baccalaureate degree', 54.85)\\n(\"bachelor's ...   \n",
       "Top 5 Agency Offering Jobs          ('DEPT OF ENVIRONMENT PROTECTION', 45.15)\\n('D...   \n",
       "\n",
       "Job Category                                        Building Operations & Maintenance  \\\n",
       "Average Starting Salary                                                      128906.4   \n",
       "Average Salary Upto                                                          141350.0   \n",
       "Average Salary                                                                12443.6   \n",
       "Posting Type in Percentage                   ('External', 49.63)\\n('Internal', 50.37)   \n",
       "Required Residency In Newyork                            ('No', 6.91)\\n('Yes', 93.09)   \n",
       "Career Level Vacancy In Percentage  ('Entry-Level', 64.86)\\n('Experienced (non-man...   \n",
       "Ratio Of Required Qualification     ('baccalaureate degree', 2.57)\\n(\"bachelor's d...   \n",
       "Top 5 Agency Offering Jobs          ('NYC HOUSING AUTHORITY', 66.35)\\n('DEPT OF EN...   \n",
       "\n",
       "Job Category                                                          Social Services  \\\n",
       "Average Starting Salary                                                       79464.0   \n",
       "Average Salary Upto                                                          200046.0   \n",
       "Average Salary                                                               120582.0   \n",
       "Posting Type in Percentage                   ('External', 49.62)\\n('Internal', 50.38)   \n",
       "Required Residency In Newyork                           ('No', 65.16)\\n('Yes', 34.84)   \n",
       "Career Level Vacancy In Percentage  ('Entry-Level', 6.27)\\n('Executive', 0.14)\\n('...   \n",
       "Ratio Of Required Qualification     ('baccalaureate degree', 58.4)\\n('high school'...   \n",
       "Top 5 Agency Offering Jobs          ('HRA/DEPT OF SOCIAL SERVICES', 66.2)\\n(\"ADMIN...   \n",
       "\n",
       "Job Category                                                            Legal Affairs  \n",
       "Average Starting Salary                                                      200000.0  \n",
       "Average Salary Upto                                                          208154.0  \n",
       "Average Salary                                                                 8154.0  \n",
       "Posting Type in Percentage                   ('External', 48.67)\\n('Internal', 51.33)  \n",
       "Required Residency In Newyork                           ('No', 50.76)\\n('Yes', 49.24)  \n",
       "Career Level Vacancy In Percentage  ('Entry-Level', 29.42)\\n('Executive', 1.01)\\n(...  \n",
       "Ratio Of Required Qualification     ('baccalaureate degree', 6.34)\\n(\"bachelor's d...  \n",
       "Top 5 Agency Offering Jobs          ('BRONX DISTRICT ATTORNEY', 49.17)\\n('LAW DEPA...  "
      ]
     },
     "execution_count": 52,
     "metadata": {},
     "output_type": "execute_result"
    }
   ],
   "source": [
    "# Setting the first row as the labels or headers\n",
    "df.columns = df.iloc[0]\n",
    "# Dropping the first row to avoid having it duplicated as the index\n",
    "df = df.drop(df.index[0])\n",
    "df"
   ]
  },
  {
   "cell_type": "code",
   "execution_count": 53,
   "id": "5917676a",
   "metadata": {},
   "outputs": [],
   "source": [
    "# i have wrote it on csv file, but later on just adjust the height and width of csv file cells, it turned out beautifully\n",
    "#if you are writing it to save in your directory , please adjust height and width just\n",
    "#no editing needed  further\n",
    "df.to_csv(\"Summarized Analysis Of Newyork Job Listings.csv\" , index = True)"
   ]
  },
  {
   "cell_type": "markdown",
   "id": "f1ef231c",
   "metadata": {},
   "source": [
    "# Key Findings Of Job vacancy In NewYork:\n",
    "* started my analysis with grouping my data with job category in newyork:\n",
    "* analysis shows these are the top 5 job categories:\n",
    "\n",
    "### Constituent Services & Community Programs: \n",
    "#### This category represents 14.79% of the total job positions. It likely includes roles related to community engagement, public services, and constituent relations within the organization.\n",
    "* salrary The average starting salary is $185,620.2, \n",
    "           with an average salary range of $1826.0. \n",
    "           The salary goes up to $187,446.2.\n",
    "* Posting Type Distribution: 50.34% of job postings are internal, while 49.66% are external.\n",
    "* Residency Requirement: 68.49% of positions require residency in New York.\n",
    "* Career Level Vacancy: Entry-level positions account for 15.09%, with experienced (non-manager) positions dominating at 72.58%.\n",
    "* Qualifications: baccalaurate degree is the most required qualification at 28.69%.\n",
    "\n",
    "### Engineering, Architecture, & Planning:\n",
    "#### With 13.61% of the total positions, this category encompasses roles related to engineering, architecture, urban planning, and infrastructure development.\n",
    "* Salary: The average starting salary is $193,800, \n",
    "          with a salary range of $17,920. \n",
    "          The maximum salary goes up to $211,720.\n",
    "* Posting Type Distribution: 51.29% of job postings are internal, and 48.71% are external.\n",
    "* Residency Requirement: 66.25% of positions do not require residency in New York.\n",
    "* Career Level Vacancy: Entry-level positions account for 15.4%, with experienced (non-manager) roles dominating at 65.18%.\n",
    "* Qualifications: Baccalaureate degree is the most required qualification at 54.85%.\n",
    "\n",
    "### Building Operations & Maintenance: \n",
    "#### Jobs in building operations and maintenance account for 12.59% of the total positions. These roles may involve managing and maintaining buildings, facilities, and infrastructure.\n",
    "* Salary: The average starting salary is $128,906.4, \n",
    "          with a salary range of $12,443.6. \n",
    "          The maximum salary goes up to $141,350.0.\n",
    "* Posting Type Distribution: 50.93% of job postings are internal, and 49.07% are external.\n",
    "* Residency Requirement: 93.09% of positions require residency in New York.\n",
    "* Career Level Vacancy: Entry-level positions account for 64.86%, with experienced (non-manager) roles at 32.7%.\n",
    "* Qualifications: High school education is the most required qualification at 75.83%.\n",
    "\n",
    "### Social Services: \n",
    "#### Social services jobs represent 12.23% of the total positions. These roles typically involve providing assistance, support, and resources to individuals and communities in need.\n",
    "* Salary: The average starting salary is $79,464, with a salary range up to $200,046.\n",
    "* Posting Type Distribution: Equal distribution between internal and external postings.\n",
    "* Residency Requirement: 58.3% of positions do not require residency in New York.\n",
    "* Career Level Vacancy: Experienced (non-manager) roles dominate at 91.36%.\n",
    "* Qualifications: Baccalaureate degree and high school education are the primary qualifications with 58.4% and 36.86% respectively.\n",
    "\n",
    "### Legal Affairs: \n",
    "#### Legal affairs jobs account for 11.82%  of the total positions. This category likely includes roles related to legal counsel, compliance, and regulatory affairs within the organization.\n",
    "* salary: The average starting salary is $200,000,\n",
    "          with a salary range of $8,154. \n",
    "          The maximum salary goes up to $208,154.\n",
    "* Posting Type Distribution: 51.21% of job postings are internal, and 48.79% are external.\n",
    "* Residency Requirement: No clear residency preference.\n",
    "* Career Level Vacancy: Experienced (non-manager) roles dominate at 61.43%.\n",
    "* Qualifications: Others (unspecified) and high school education are the primary qualifications.High school qualification is leading with 25%\n",
    "\n",
    "\n",
    "# KEY INSIGHTS:\n",
    "These top 5 job categories collectively represent a significant portion of the organization's workforce, covering a range of functions and responsibilities essential for its operations and mission. Understanding the distribution of positions across these categories can provide insights into the organization's priorities, focus areas, and workforce composition.\n",
    "\n",
    "## Salary: Engineering, Architecture, & Planning category offers the highest average starting salary, while Social Services have a comparatively lower average starting salary.\n",
    "\n",
    "## Residency Requirement: Building Operations & Maintenance and Social Services offer significant opportunities for candidates residing outside New York City due to lower residency requirements compared to other categories. This flexibility may widen the pool of potential applicants and facilitate recruitment efforts.\n",
    "\n",
    "## Career Level Vacancy: Social Services predominantly has experienced roles, while Building Operations & Maintenance has a higher proportion of entry-level positions.\n",
    "\n",
    "## Qualifications: High school education is prominently required in Building Operations & Maintenance and Social Services, while Legal Affairs and Engineering, Architecture, & Planning emphasize other qualifications.\n",
    "\n",
    "\n",
    "\n",
    "## Overall Implications:\n",
    "#### The analysis highlights the diversity of opportunities available in the job market, catering to individuals with varying levels of education, skills, and career aspirations.\n",
    "\n",
    "#### Employers: Employers can use these insights to tailor recruitment strategies, allocate budgets effectively, and plan resources based on the specific demands and trends within each job category.\n",
    "\n",
    "#### jobseekers:Job seekers can make informed decisions about their career paths, considering factors such as salary expectations, residency requirements, career progression opportunities, and qualification demands across different sectors. This enables them to align their skills, interests, and goals with available job opportunities in the market.\n",
    "\n",
    "#### Students:students should consider their interests, skills, and long-term career goals when selecting a career path. Understanding salary prospects, residency requirements, career level vacancies, and qualification demands can help students make informed decisions aligned with their preferences and aspirations. Exploring internships, networking with professionals in the field, and gaining relevant experience can also provide valuable insights into potential career paths.\n",
    "\"xxxxxxxxxxxxxxxxxxx-------------------------Finish-----------------------------------xxxxxxxxxxxxxxxxxxxxxxxxxxxxx\""
   ]
  },
  {
   "cell_type": "markdown",
   "id": "8b7270cc",
   "metadata": {},
   "source": [
    "# rough work"
   ]
  },
  {
   "cell_type": "code",
   "execution_count": 54,
   "id": "11fe1dc8",
   "metadata": {},
   "outputs": [
    {
     "name": "stdout",
     "output_type": "stream",
     "text": [
      "{'Job Category': 'Constituent Services & Community Programs', 'Average Starting Salary': 185620.2, 'Average Salary Upto': 187446.2, 'Average Salary ': 1826.0, 'Posting Type in Percentage': \"('External', 50.35)\\n('Internal', 49.65)\", 'Required Residency In Newyork': \"('No', 31.51)\\n('Yes', 68.49)\", 'Career Level Vacancy In Percentage': \"('Entry-Level', 15.09)\\n('Executive', 0.58)\\n('Experienced (non-manager)', 72.58)\\n('Manager', 1.38)\\n('Student', 10.37)\", 'Ratio Of Required Qualification': '(\\'baccalaureate degree\\', 28.69)\\n(\"bachelor\\'s degree\", 0.46)\\n(\\'certificate\\', 0.92)\\n(\\'certification\\', 1.21)\\n(\\'diploma\\', 0.12)\\n(\\'high school\\', 16.71)\\n(\"master\\'s degree\", 6.05)\\n(\\'matriculation\\', 1.04)\\n(\\'not specified\\', 4.15)\\n(\\'others\\', 40.67)', 'Top 5 Agency Offering Jobs': \"('DEPT OF HEALTH/MENTAL HYGIENE', 41.88)\\n('BRONX DISTRICT ATTORNEY', 16.59)\\n('DEPT OF ENVIRONMENT PROTECTION', 7.89)\\n('HRA/DEPT OF SOCIAL SERVICES', 5.99)\\n('DEPARTMENT OF FINANCE', 4.61)\"}\n",
      "{'Job Category': 'Engineering, Architecture, & Planning', 'Average Starting Salary': 193800.0, 'Average Salary Upto': 211720.0, 'Average Salary ': 17920.0, 'Posting Type in Percentage': \"('External', 49.09)\\n('Internal', 50.91)\", 'Required Residency In Newyork': \"('No', 66.25)\\n('Yes', 33.75)\", 'Career Level Vacancy In Percentage': \"('Entry-Level', 15.4)\\n('Executive', 1.5)\\n('Experienced (non-manager)', 65.18)\\n('Manager', 10.9)\\n('Student', 7.01)\", 'Ratio Of Required Qualification': '(\\'baccalaureate degree\\', 54.85)\\n(\"bachelor\\'s degree\", 3.38)\\n(\\'certificate\\', 0.13)\\n(\\'high school\\', 6.14)\\n(\"master\\'s degree\", 7.39)\\n(\\'matriculation\\', 1.63)\\n(\\'others\\', 26.49)', 'Top 5 Agency Offering Jobs': \"('DEPT OF ENVIRONMENT PROTECTION', 45.15)\\n('DEPT OF DESIGN & CONSTRUCTION', 29.3)\\n('DEPARTMENT OF TRANSPORTATION', 18.35)\\n('DEPT OF CITYWIDE ADMIN SVCS', 2.38)\\n('NYC HOUSING AUTHORITY', 1.63)\"}\n",
      "{'Job Category': 'Building Operations & Maintenance', 'Average Starting Salary': 128906.4, 'Average Salary Upto': 141350.0, 'Average Salary ': 12443.600000000006, 'Posting Type in Percentage': \"('External', 49.63)\\n('Internal', 50.37)\", 'Required Residency In Newyork': \"('No', 6.91)\\n('Yes', 93.09)\", 'Career Level Vacancy In Percentage': \"('Entry-Level', 64.86)\\n('Experienced (non-manager)', 32.7)\\n('Manager', 2.44)\", 'Ratio Of Required Qualification': '(\\'baccalaureate degree\\', 2.57)\\n(\"bachelor\\'s degree\", 2.51)\\n(\\'certificate\\', 0.47)\\n(\\'high school\\', 75.83)\\n(\"master\\'s degree\", 0.81)\\n(\\'matriculation\\', 0.14)\\n(\\'others\\', 17.67)', 'Top 5 Agency Offering Jobs': \"('NYC HOUSING AUTHORITY', 66.35)\\n('DEPT OF ENVIRONMENT PROTECTION', 14.15)\\n('DEPARTMENT OF TRANSPORTATION', 5.15)\\n('DEPT OF CITYWIDE ADMIN SVCS', 4.47)\\n('POLICE DEPARTMENT', 2.71)\"}\n",
      "{'Job Category': 'Social Services', 'Average Starting Salary': 79464.0, 'Average Salary Upto': 200046.0, 'Average Salary ': 120582.0, 'Posting Type in Percentage': \"('External', 49.62)\\n('Internal', 50.38)\", 'Required Residency In Newyork': \"('No', 65.16)\\n('Yes', 34.84)\", 'Career Level Vacancy In Percentage': \"('Entry-Level', 6.27)\\n('Executive', 0.14)\\n('Experienced (non-manager)', 91.36)\\n('Manager', 2.23)\", 'Ratio Of Required Qualification': '(\\'baccalaureate degree\\', 58.4)\\n(\\'high school\\', 36.86)\\n(\"master\\'s degree\", 3.76)\\n(\\'others\\', 0.98)', 'Top 5 Agency Offering Jobs': '(\\'HRA/DEPT OF SOCIAL SERVICES\\', 66.2)\\n(\"ADMIN FOR CHILDREN\\'S SVCS\", 28.5)\\n(\\'DEPT. OF HOMELESS SERVICES\\', 3.62)\\n(\\'DEPARTMENT OF CORRECTION\\', 0.7)\\n(\\'DISTRICT ATTORNEY KINGS COUNTY\\', 0.42)'}\n",
      "{'Job Category': 'Legal Affairs', 'Average Starting Salary': 200000.0, 'Average Salary Upto': 208154.0, 'Average Salary ': 8154.0, 'Posting Type in Percentage': \"('External', 48.67)\\n('Internal', 51.33)\", 'Required Residency In Newyork': \"('No', 50.76)\\n('Yes', 49.24)\", 'Career Level Vacancy In Percentage': \"('Entry-Level', 29.42)\\n('Executive', 1.01)\\n('Experienced (non-manager)', 61.43)\\n('Manager', 6.27)\\n('Student', 1.87)\", 'Ratio Of Required Qualification': '(\\'baccalaureate degree\\', 6.34)\\n(\"bachelor\\'s degree\", 22.13)\\n(\\'certificate\\', 8.29)\\n(\\'high school\\', 25.16)\\n(\"master\\'s degree\", 0.29)\\n(\\'matriculation\\', 0.43)\\n(\\'not specified\\', 1.66)\\n(\\'others\\', 35.69)', 'Top 5 Agency Offering Jobs': \"('BRONX DISTRICT ATTORNEY', 49.17)\\n('LAW DEPARTMENT', 12.83)\\n('DISTRICT ATTORNEY-MANHATTAN', 7.21)\\n('DEPARTMENT OF CORRECTION', 3.89)\\n('OFFICE OF THE COMPTROLLER', 2.96)\"}\n"
     ]
    }
   ],
   "source": [
    "print(data1)\n",
    "print(data2)\n",
    "print(data3)\n",
    "print(data4)\n",
    "print(data5)"
   ]
  },
  {
   "cell_type": "code",
   "execution_count": null,
   "id": "212d6723",
   "metadata": {},
   "outputs": [],
   "source": []
  },
  {
   "cell_type": "markdown",
   "id": "bb5edddb",
   "metadata": {},
   "source": [
    "Engineering, Architecture, & Planning         13.607703\n",
    "Building Operations & Maintenance             12.585208\n",
    "Social Services                               12.227335\n",
    "Legal Affairs                                 11.818337\n",
    "Administration & Human Resources               9.423995\n",
    "Public Safety, Inspections, & Enforcement      6.791070\n",
    "Technology, Data & Innovation                  5.155078\n",
    "Health                                         5.035787\n",
    "Finance, Accounting, & Procurement             4.831288\n",
    "Policy, Research & Analysis                    1.738241\n",
    "Communications & Intergovernmental Affairs     1.644513\n",
    "Green Jobs                                     0.230061\n",
    "Health Technology, Data & Innovation"
   ]
  },
  {
   "cell_type": "code",
   "execution_count": 55,
   "id": "d38cf6f3",
   "metadata": {},
   "outputs": [
    {
     "name": "stdout",
     "output_type": "stream",
     "text": [
      "<pandas.core.groupby.generic.DataFrameGroupBy object at 0x000002524189BE90>\n"
     ]
    }
   ],
   "source": [
    "print(grouped_df)"
   ]
  },
  {
   "cell_type": "code",
   "execution_count": 56,
   "id": "61996cd0",
   "metadata": {},
   "outputs": [],
   "source": [
    "# making a function which can analyze the group category with all the importamt aspects\n",
    "def analysis_by_category(name_of_category ,df):\n",
    "    group = df.groupby(name_of_category)\n",
    "    \n",
    "    # Count occurrences of career levels within the category\n",
    "    career_level_counts = group['Career Level'].value_counts()\n",
    "    print(career_level_counts)\n",
    "    \n",
    "    # Count occurrences of minimum qualifications within the category\n",
    "    qualification_counts = group['Required Qualification'].value_counts()\n",
    "    print(qualification_counts)\n",
    "    \n",
    "    print(\"---------------------------------------------\")\n"
   ]
  },
  {
   "cell_type": "code",
   "execution_count": 57,
   "id": "3946c122",
   "metadata": {},
   "outputs": [],
   "source": [
    "def analysis_by_category(name_of_category):\n",
    "    group = grouped_df.get_group(name_of_category)\n",
    "    # Count occurrences of career levels within the category\n",
    "    career_level_counts = group['Career Level'].value_counts()\n",
    "    \n",
    "    # Count occurrences of minimum qualifications within the category\n",
    "    qualification_counts = group['Required Qualification'].value_counts()\n",
    "    \n",
    "    # Return career_level_counts and qualification_counts\n",
    "    return name_of_category , career_level_counts, qualification_counts\n"
   ]
  },
  {
   "cell_type": "code",
   "execution_count": 58,
   "id": "48fdf0dc",
   "metadata": {},
   "outputs": [
    {
     "data": {
      "text/plain": [
       "('Engineering, Architecture, & Planning',\n",
       " Career Level\n",
       " Experienced (non-manager)    756\n",
       " Manager                      155\n",
       " Entry-Level                   74\n",
       " Student                       54\n",
       " Executive                     10\n",
       " Name: count, dtype: int64,\n",
       " Required Qualification\n",
       " baccalaureate degree    512\n",
       " others                  311\n",
       " master's degree          98\n",
       " high school              68\n",
       " bachelor's degree        40\n",
       " matriculation            18\n",
       " certificate               2\n",
       " Name: count, dtype: int64)"
      ]
     },
     "execution_count": 58,
     "metadata": {},
     "output_type": "execute_result"
    }
   ],
   "source": [
    "analysis_by_category(\"Engineering, Architecture, & Planning\")"
   ]
  },
  {
   "cell_type": "code",
   "execution_count": 59,
   "id": "d5bbb306",
   "metadata": {},
   "outputs": [
    {
     "ename": "NameError",
     "evalue": "name 'group' is not defined",
     "output_type": "error",
     "traceback": [
      "\u001b[1;31m---------------------------------------------------------------------------\u001b[0m",
      "\u001b[1;31mNameError\u001b[0m                                 Traceback (most recent call last)",
      "Cell \u001b[1;32mIn[59], line 1\u001b[0m\n\u001b[1;32m----> 1\u001b[0m residency_requirement_counts \u001b[38;5;241m=\u001b[39m group[\u001b[38;5;124m'\u001b[39m\u001b[38;5;124mRequired Residency In Newyork\u001b[39m\u001b[38;5;124m'\u001b[39m]\u001b[38;5;241m.\u001b[39mvalue_counts(normalize\u001b[38;5;241m=\u001b[39m\u001b[38;5;28;01mTrue\u001b[39;00m)\n",
      "\u001b[1;31mNameError\u001b[0m: name 'group' is not defined"
     ]
    }
   ],
   "source": [
    "residency_requirement_counts = group['Required Residency In Newyork'].value_counts(normalize=True)"
   ]
  },
  {
   "cell_type": "code",
   "execution_count": null,
   "id": "ac7d9ab1",
   "metadata": {},
   "outputs": [],
   "source": [
    "def analysis_by_category(name_of_category):\n",
    "    group = grouped_df.get_group(name_of_category)\n",
    "    # Count occurrences of career levels within the category\n",
    "    career_level_counts = group['Career Level'].value_counts()\n",
    "    \n",
    "    # Count occurrences of minimum qualifications within the category\n",
    "    qualification_counts = group['Required Qualification'].value_counts()\n",
    "    \n",
    "\n",
    "    # Return career_level_counts and qualification_counts\n",
    "    return name_of_category , career_level_counts, qualification_counts\n",
    "\n"
   ]
  },
  {
   "cell_type": "code",
   "execution_count": null,
   "id": "96225a28",
   "metadata": {},
   "outputs": [],
   "source": []
  },
  {
   "cell_type": "code",
   "execution_count": null,
   "id": "9eb94218",
   "metadata": {},
   "outputs": [],
   "source": [
    "moma_df.loc[bol_nat, \"Nationality\"] = \"Nationaliyt Unknown\""
   ]
  },
  {
   "cell_type": "code",
   "execution_count": null,
   "id": "a88e125c",
   "metadata": {},
   "outputs": [],
   "source": []
  },
  {
   "cell_type": "code",
   "execution_count": null,
   "id": "6d651ab2",
   "metadata": {},
   "outputs": [],
   "source": []
  },
  {
   "cell_type": "code",
   "execution_count": null,
   "id": "7bb03ea6",
   "metadata": {},
   "outputs": [],
   "source": [
    "def extract_min_qualification(text):\n",
    "    if 'A baccalaureate degree' in text:\n",
    "        return 'Baccalaureate degree'\n",
    "    elif \"A master's degree\" in text:\n",
    "        return \"Master's degree\"\n",
    "    \n",
    "    elif text == \"\":\n",
    "        return \"Not specified\"\n",
    "        "
   ]
  },
  {
   "cell_type": "code",
   "execution_count": null,
   "id": "48447d10",
   "metadata": {},
   "outputs": [],
   "source": [
    "extract_qualifications(\"A baccalaureate degree from an accredited college or university with a major in engineering, architecture, landscape architecture, urban studies, planning or mathematics or one of the physical sciences; or  2. High school diploma or its educational equivalent and 4 years of full-time experience performing technical work on traffic programs and citywide transportation studies; or  3. Education and/or experience equivalent to 1 or 2 above\")"
   ]
  },
  {
   "cell_type": "code",
   "execution_count": null,
   "id": "9a2a4988",
   "metadata": {},
   "outputs": [],
   "source": [
    "jobs_ny[\"Minimum Qual Requirements\"].apply(extract_min_qualification)"
   ]
  },
  {
   "cell_type": "code",
   "execution_count": null,
   "id": "87d55285",
   "metadata": {},
   "outputs": [],
   "source": [
    "jobs_ny[\"Minimum Qual Requirements\"] = jobs_ny[\"Minimum Qual Requirements\"].apply(extract_min_qualification)"
   ]
  },
  {
   "cell_type": "code",
   "execution_count": null,
   "id": "3448f37f",
   "metadata": {},
   "outputs": [],
   "source": [
    "jobs_ny[\"Minimum Qual Requirements\"].unique()"
   ]
  },
  {
   "cell_type": "code",
   "execution_count": null,
   "id": "f193d490",
   "metadata": {},
   "outputs": [],
   "source": [
    "q_bool = jobs_ny[\"Minimum Qual Requirements\"] != \"baccalaureate degree\""
   ]
  },
  {
   "cell_type": "code",
   "execution_count": null,
   "id": "03fc0f45",
   "metadata": {},
   "outputs": [],
   "source": [
    "q_bool.sum()"
   ]
  },
  {
   "cell_type": "code",
   "execution_count": null,
   "id": "eab5f6f6",
   "metadata": {},
   "outputs": [],
   "source": [
    "import re\n",
    "def extract_qualifications(text_list):\n",
    "    qualifications = []\n",
    "    if text_list == \"\":\n",
    "        return \"Not specified\"\n",
    "    for text in text_list:\n",
    "        # Looking for the pattern that indicates the degree\n",
    "        baccalaureate_degree_match = re.search(r'A baccalaureate degree', text)\n",
    "        masters_degree_match = re.search(r\"A master's degree\", text)\n",
    "\n",
    "        # If a match is found, add the respective degree to qualifications\n",
    "        if baccalaureate_degree_match:\n",
    "            qualifications.append('baccalaureate degree')\n",
    "        if masters_degree_match:\n",
    "            qualifications.append(\"master's degree\")"
   ]
  },
  {
   "cell_type": "code",
   "execution_count": null,
   "id": "2a681a04",
   "metadata": {},
   "outputs": [],
   "source": [
    "def perf(x):\n",
    "    if x <= 60:\n",
    "        return \"Low Performer\"\n",
    "    elif x > 60 and  x <= 70:\n",
    "        return \"Avg Performer\"\n",
    "    elif x > 70 and x <= 85:\n",
    "        return \"Best Performer\"\n",
    "    elif x > 85 and x <= 100:\n",
    "        return \"Out Standing Performer\""
   ]
  },
  {
   "cell_type": "code",
   "execution_count": null,
   "id": "3e0ece8b",
   "metadata": {},
   "outputs": [],
   "source": [
    "from datetime import datetime\n",
    "\n",
    "def calculate_age(DOB):\n",
    "    today_date = datetime.now()\n",
    "    age_in_days = today_date - DOB \n",
    "    age_in_years =  age_in_days.days//365\n",
    "    return age\n",
    "\n"
   ]
  },
  {
   "cell_type": "code",
   "execution_count": null,
   "id": "313d44fa",
   "metadata": {},
   "outputs": [],
   "source": []
  },
  {
   "cell_type": "code",
   "execution_count": null,
   "id": "d08bb7c3",
   "metadata": {},
   "outputs": [],
   "source": [
    "jobs_ny.to_csv(\"Jobs_NYC_Postings.csv\")"
   ]
  },
  {
   "cell_type": "code",
   "execution_count": null,
   "id": "a09505fe",
   "metadata": {},
   "outputs": [],
   "source": [
    "pattern = r\"(baccalaureate degree|bachelor's degree|master's degree|high school|diploma|not specified|graduation|matriculation|certificate|certification)\"\n",
    "jobs_ny[\"Minimum Qual Requirements\"] = jobs_ny[\"Minimum Qual Requirements\"].str.extract(pattern)"
   ]
  },
  {
   "cell_type": "code",
   "execution_count": null,
   "id": "c65417c6",
   "metadata": {},
   "outputs": [],
   "source": []
  },
  {
   "cell_type": "code",
   "execution_count": null,
   "id": "d9011987",
   "metadata": {},
   "outputs": [],
   "source": [
    "def cleaning_qualification(string):\n",
    "    if pd.isnull(string):\n",
    "        return \"not specified\"\n",
    "    else:\n",
    "        string.lower()\n",
    "        pattern = r\"(baccalaureate degree|master's degree|bachelor's degree|high school|diploma|graduation|matriculation|certificate)\"\n",
    "        qual = string.find(pattern)\n",
    "        return qual\n",
    "    "
   ]
  },
  {
   "cell_type": "code",
   "execution_count": null,
   "id": "c27eefc5",
   "metadata": {},
   "outputs": [],
   "source": [
    "jobs_ny[\"Minimum Qual Requirements\"].apply(cleaning_qualification)"
   ]
  },
  {
   "cell_type": "code",
   "execution_count": null,
   "id": "dcf371a7",
   "metadata": {},
   "outputs": [],
   "source": []
  },
  {
   "cell_type": "code",
   "execution_count": null,
   "id": "4b61ff46",
   "metadata": {},
   "outputs": [],
   "source": []
  }
 ],
 "metadata": {
  "kernelspec": {
   "display_name": "Python 3 (ipykernel)",
   "language": "python",
   "name": "python3"
  },
  "language_info": {
   "codemirror_mode": {
    "name": "ipython",
    "version": 3
   },
   "file_extension": ".py",
   "mimetype": "text/x-python",
   "name": "python",
   "nbconvert_exporter": "python",
   "pygments_lexer": "ipython3",
   "version": "3.11.5"
  }
 },
 "nbformat": 4,
 "nbformat_minor": 5
}
