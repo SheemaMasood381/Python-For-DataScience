{
 "cells": [
  {
   "cell_type": "markdown",
   "id": "7a312a0d",
   "metadata": {},
   "source": [
    "# problem statement: to find out most commmented post and the time when post gets most comments"
   ]
  },
  {
   "cell_type": "markdown",
   "id": "b4bc28bd",
   "metadata": {},
   "source": [
    "# import dataset & libraries"
   ]
  },
  {
   "cell_type": "code",
   "execution_count": 6,
   "id": "c23e9f8d",
   "metadata": {},
   "outputs": [],
   "source": [
    "import pandas as pd\n"
   ]
  },
  {
   "cell_type": "code",
   "execution_count": 10,
   "id": "1d7c2477",
   "metadata": {},
   "outputs": [],
   "source": [
    "import datetime as dt"
   ]
  },
  {
   "cell_type": "code",
   "execution_count": 7,
   "id": "eade8474",
   "metadata": {},
   "outputs": [],
   "source": [
    "import csv\n"
   ]
  },
  {
   "cell_type": "code",
   "execution_count": 8,
   "id": "97821ed6",
   "metadata": {},
   "outputs": [],
   "source": [
    "df = pd.read_csv(\"hackers.csv\")"
   ]
  },
  {
   "cell_type": "code",
   "execution_count": 9,
   "id": "fc8ab3f6",
   "metadata": {},
   "outputs": [
    {
     "name": "stdout",
     "output_type": "stream",
     "text": [
      "<class 'pandas.core.frame.DataFrame'>\n",
      "RangeIndex: 20100 entries, 0 to 20099\n",
      "Data columns (total 7 columns):\n",
      " #   Column        Non-Null Count  Dtype \n",
      "---  ------        --------------  ----- \n",
      " 0   id            20100 non-null  int64 \n",
      " 1   title         20100 non-null  object\n",
      " 2   url           17660 non-null  object\n",
      " 3   num_points    20100 non-null  int64 \n",
      " 4   num_comments  20100 non-null  int64 \n",
      " 5   author        20100 non-null  object\n",
      " 6   created_at    20100 non-null  object\n",
      "dtypes: int64(3), object(4)\n",
      "memory usage: 1.1+ MB\n"
     ]
    }
   ],
   "source": [
    "df.info()"
   ]
  },
  {
   "cell_type": "markdown",
   "id": "9dd9f72c",
   "metadata": {},
   "source": [
    "# change format to datetime"
   ]
  },
  {
   "cell_type": "code",
   "execution_count": 13,
   "id": "29480c63",
   "metadata": {},
   "outputs": [],
   "source": [
    "df[\"created_at\"] = pd.to_datetime(df[\"created_at\"])"
   ]
  },
  {
   "cell_type": "code",
   "execution_count": 14,
   "id": "9be7f650",
   "metadata": {},
   "outputs": [
    {
     "name": "stdout",
     "output_type": "stream",
     "text": [
      "<class 'pandas.core.frame.DataFrame'>\n",
      "RangeIndex: 20100 entries, 0 to 20099\n",
      "Data columns (total 7 columns):\n",
      " #   Column        Non-Null Count  Dtype         \n",
      "---  ------        --------------  -----         \n",
      " 0   id            20100 non-null  int64         \n",
      " 1   title         20100 non-null  object        \n",
      " 2   url           17660 non-null  object        \n",
      " 3   num_points    20100 non-null  int64         \n",
      " 4   num_comments  20100 non-null  int64         \n",
      " 5   author        20100 non-null  object        \n",
      " 6   created_at    20100 non-null  datetime64[ns]\n",
      "dtypes: datetime64[ns](1), int64(3), object(3)\n",
      "memory usage: 1.1+ MB\n"
     ]
    }
   ],
   "source": [
    "df.info()"
   ]
  },
  {
   "cell_type": "code",
   "execution_count": 15,
   "id": "f26895c0",
   "metadata": {},
   "outputs": [],
   "source": [
    "#standardizing\n",
    "df[\"title\"]  = df[\"title\"].str.lower()"
   ]
  },
  {
   "cell_type": "code",
   "execution_count": 16,
   "id": "39f63b2d",
   "metadata": {},
   "outputs": [
    {
     "data": {
      "text/html": [
       "<div>\n",
       "<style scoped>\n",
       "    .dataframe tbody tr th:only-of-type {\n",
       "        vertical-align: middle;\n",
       "    }\n",
       "\n",
       "    .dataframe tbody tr th {\n",
       "        vertical-align: top;\n",
       "    }\n",
       "\n",
       "    .dataframe thead th {\n",
       "        text-align: right;\n",
       "    }\n",
       "</style>\n",
       "<table border=\"1\" class=\"dataframe\">\n",
       "  <thead>\n",
       "    <tr style=\"text-align: right;\">\n",
       "      <th></th>\n",
       "      <th>id</th>\n",
       "      <th>title</th>\n",
       "      <th>url</th>\n",
       "      <th>num_points</th>\n",
       "      <th>num_comments</th>\n",
       "      <th>author</th>\n",
       "      <th>created_at</th>\n",
       "    </tr>\n",
       "  </thead>\n",
       "  <tbody>\n",
       "    <tr>\n",
       "      <th>0</th>\n",
       "      <td>12224879</td>\n",
       "      <td>interactive dynamic video</td>\n",
       "      <td>http://www.interactivedynamicvideo.com/</td>\n",
       "      <td>386</td>\n",
       "      <td>52</td>\n",
       "      <td>ne0phyte</td>\n",
       "      <td>2016-08-04 11:52:00</td>\n",
       "    </tr>\n",
       "    <tr>\n",
       "      <th>1</th>\n",
       "      <td>10975351</td>\n",
       "      <td>how to use open source and shut the fuck up at...</td>\n",
       "      <td>http://hueniverse.com/2016/01/26/how-to-use-op...</td>\n",
       "      <td>39</td>\n",
       "      <td>10</td>\n",
       "      <td>josep2</td>\n",
       "      <td>2016-01-26 19:30:00</td>\n",
       "    </tr>\n",
       "    <tr>\n",
       "      <th>2</th>\n",
       "      <td>11964716</td>\n",
       "      <td>florida djs may face felony for april fools' w...</td>\n",
       "      <td>http://www.thewire.com/entertainment/2013/04/f...</td>\n",
       "      <td>2</td>\n",
       "      <td>1</td>\n",
       "      <td>vezycash</td>\n",
       "      <td>2016-06-23 22:20:00</td>\n",
       "    </tr>\n",
       "    <tr>\n",
       "      <th>3</th>\n",
       "      <td>11919867</td>\n",
       "      <td>technology ventures: from idea to enterprise</td>\n",
       "      <td>https://www.amazon.com/Technology-Ventures-Ent...</td>\n",
       "      <td>3</td>\n",
       "      <td>1</td>\n",
       "      <td>hswarna</td>\n",
       "      <td>2016-06-17 00:01:00</td>\n",
       "    </tr>\n",
       "    <tr>\n",
       "      <th>4</th>\n",
       "      <td>10301696</td>\n",
       "      <td>note by note: the making of steinway l1037 (2007)</td>\n",
       "      <td>http://www.nytimes.com/2007/11/07/movies/07ste...</td>\n",
       "      <td>8</td>\n",
       "      <td>2</td>\n",
       "      <td>walterbell</td>\n",
       "      <td>2015-09-30 04:12:00</td>\n",
       "    </tr>\n",
       "  </tbody>\n",
       "</table>\n",
       "</div>"
      ],
      "text/plain": [
       "         id                                              title  \\\n",
       "0  12224879                          interactive dynamic video   \n",
       "1  10975351  how to use open source and shut the fuck up at...   \n",
       "2  11964716  florida djs may face felony for april fools' w...   \n",
       "3  11919867       technology ventures: from idea to enterprise   \n",
       "4  10301696  note by note: the making of steinway l1037 (2007)   \n",
       "\n",
       "                                                 url  num_points  \\\n",
       "0            http://www.interactivedynamicvideo.com/         386   \n",
       "1  http://hueniverse.com/2016/01/26/how-to-use-op...          39   \n",
       "2  http://www.thewire.com/entertainment/2013/04/f...           2   \n",
       "3  https://www.amazon.com/Technology-Ventures-Ent...           3   \n",
       "4  http://www.nytimes.com/2007/11/07/movies/07ste...           8   \n",
       "\n",
       "   num_comments      author          created_at  \n",
       "0            52    ne0phyte 2016-08-04 11:52:00  \n",
       "1            10      josep2 2016-01-26 19:30:00  \n",
       "2             1    vezycash 2016-06-23 22:20:00  \n",
       "3             1     hswarna 2016-06-17 00:01:00  \n",
       "4             2  walterbell 2015-09-30 04:12:00  "
      ]
     },
     "execution_count": 16,
     "metadata": {},
     "output_type": "execute_result"
    }
   ],
   "source": [
    "df.head()"
   ]
  },
  {
   "cell_type": "code",
   "execution_count": null,
   "id": "c275381c",
   "metadata": {},
   "outputs": [],
   "source": [
    "# make bool series"
   ]
  },
  {
   "cell_type": "code",
   "execution_count": 17,
   "id": "ed5facc0",
   "metadata": {},
   "outputs": [],
   "source": [
    "bool_ap = df[\"title\"].str.startswith(\"ask hn\")"
   ]
  },
  {
   "cell_type": "code",
   "execution_count": 18,
   "id": "6955de10",
   "metadata": {},
   "outputs": [],
   "source": [
    "ap = df[bool_ap]"
   ]
  },
  {
   "cell_type": "code",
   "execution_count": 19,
   "id": "7da725c5",
   "metadata": {},
   "outputs": [
    {
     "name": "stdout",
     "output_type": "stream",
     "text": [
      "<class 'pandas.core.frame.DataFrame'>\n",
      "Index: 1744 entries, 7 to 20061\n",
      "Data columns (total 7 columns):\n",
      " #   Column        Non-Null Count  Dtype         \n",
      "---  ------        --------------  -----         \n",
      " 0   id            1744 non-null   int64         \n",
      " 1   title         1744 non-null   object        \n",
      " 2   url           7 non-null      object        \n",
      " 3   num_points    1744 non-null   int64         \n",
      " 4   num_comments  1744 non-null   int64         \n",
      " 5   author        1744 non-null   object        \n",
      " 6   created_at    1744 non-null   datetime64[ns]\n",
      "dtypes: datetime64[ns](1), int64(3), object(3)\n",
      "memory usage: 109.0+ KB\n"
     ]
    }
   ],
   "source": [
    "ap.info()"
   ]
  },
  {
   "cell_type": "markdown",
   "id": "f02c81f7",
   "metadata": {},
   "source": [
    "# same for show post"
   ]
  },
  {
   "cell_type": "code",
   "execution_count": 20,
   "id": "5ee6e5dc",
   "metadata": {},
   "outputs": [],
   "source": [
    "bool_sp = df[\"title\"].str.startswith(\"show hn\")"
   ]
  },
  {
   "cell_type": "code",
   "execution_count": 21,
   "id": "45a6b89c",
   "metadata": {},
   "outputs": [],
   "source": [
    "sp = df[bool_sp]"
   ]
  },
  {
   "cell_type": "code",
   "execution_count": 22,
   "id": "b08567bf",
   "metadata": {},
   "outputs": [
    {
     "name": "stdout",
     "output_type": "stream",
     "text": [
      "<class 'pandas.core.frame.DataFrame'>\n",
      "Index: 1162 entries, 13 to 20070\n",
      "Data columns (total 7 columns):\n",
      " #   Column        Non-Null Count  Dtype         \n",
      "---  ------        --------------  -----         \n",
      " 0   id            1162 non-null   int64         \n",
      " 1   title         1162 non-null   object        \n",
      " 2   url           1122 non-null   object        \n",
      " 3   num_points    1162 non-null   int64         \n",
      " 4   num_comments  1162 non-null   int64         \n",
      " 5   author        1162 non-null   object        \n",
      " 6   created_at    1162 non-null   datetime64[ns]\n",
      "dtypes: datetime64[ns](1), int64(3), object(3)\n",
      "memory usage: 72.6+ KB\n"
     ]
    }
   ],
   "source": [
    "sp.info()"
   ]
  },
  {
   "cell_type": "markdown",
   "id": "dd458438",
   "metadata": {},
   "source": [
    "# same for other posts"
   ]
  },
  {
   "cell_type": "code",
   "execution_count": 23,
   "id": "d776b160",
   "metadata": {},
   "outputs": [],
   "source": [
    "op = df[~df[\"title\"].str.startswith(\"show hn\")|df[\"title\"].str.startswith(\"ask hn\")]"
   ]
  },
  {
   "cell_type": "code",
   "execution_count": 24,
   "id": "26a760aa",
   "metadata": {},
   "outputs": [
    {
     "data": {
      "text/html": [
       "<div>\n",
       "<style scoped>\n",
       "    .dataframe tbody tr th:only-of-type {\n",
       "        vertical-align: middle;\n",
       "    }\n",
       "\n",
       "    .dataframe tbody tr th {\n",
       "        vertical-align: top;\n",
       "    }\n",
       "\n",
       "    .dataframe thead th {\n",
       "        text-align: right;\n",
       "    }\n",
       "</style>\n",
       "<table border=\"1\" class=\"dataframe\">\n",
       "  <thead>\n",
       "    <tr style=\"text-align: right;\">\n",
       "      <th></th>\n",
       "      <th>id</th>\n",
       "      <th>title</th>\n",
       "      <th>url</th>\n",
       "      <th>num_points</th>\n",
       "      <th>num_comments</th>\n",
       "      <th>author</th>\n",
       "      <th>created_at</th>\n",
       "    </tr>\n",
       "  </thead>\n",
       "  <tbody>\n",
       "    <tr>\n",
       "      <th>0</th>\n",
       "      <td>12224879</td>\n",
       "      <td>interactive dynamic video</td>\n",
       "      <td>http://www.interactivedynamicvideo.com/</td>\n",
       "      <td>386</td>\n",
       "      <td>52</td>\n",
       "      <td>ne0phyte</td>\n",
       "      <td>2016-08-04 11:52:00</td>\n",
       "    </tr>\n",
       "    <tr>\n",
       "      <th>1</th>\n",
       "      <td>10975351</td>\n",
       "      <td>how to use open source and shut the fuck up at...</td>\n",
       "      <td>http://hueniverse.com/2016/01/26/how-to-use-op...</td>\n",
       "      <td>39</td>\n",
       "      <td>10</td>\n",
       "      <td>josep2</td>\n",
       "      <td>2016-01-26 19:30:00</td>\n",
       "    </tr>\n",
       "    <tr>\n",
       "      <th>2</th>\n",
       "      <td>11964716</td>\n",
       "      <td>florida djs may face felony for april fools' w...</td>\n",
       "      <td>http://www.thewire.com/entertainment/2013/04/f...</td>\n",
       "      <td>2</td>\n",
       "      <td>1</td>\n",
       "      <td>vezycash</td>\n",
       "      <td>2016-06-23 22:20:00</td>\n",
       "    </tr>\n",
       "    <tr>\n",
       "      <th>3</th>\n",
       "      <td>11919867</td>\n",
       "      <td>technology ventures: from idea to enterprise</td>\n",
       "      <td>https://www.amazon.com/Technology-Ventures-Ent...</td>\n",
       "      <td>3</td>\n",
       "      <td>1</td>\n",
       "      <td>hswarna</td>\n",
       "      <td>2016-06-17 00:01:00</td>\n",
       "    </tr>\n",
       "    <tr>\n",
       "      <th>4</th>\n",
       "      <td>10301696</td>\n",
       "      <td>note by note: the making of steinway l1037 (2007)</td>\n",
       "      <td>http://www.nytimes.com/2007/11/07/movies/07ste...</td>\n",
       "      <td>8</td>\n",
       "      <td>2</td>\n",
       "      <td>walterbell</td>\n",
       "      <td>2015-09-30 04:12:00</td>\n",
       "    </tr>\n",
       "    <tr>\n",
       "      <th>...</th>\n",
       "      <td>...</td>\n",
       "      <td>...</td>\n",
       "      <td>...</td>\n",
       "      <td>...</td>\n",
       "      <td>...</td>\n",
       "      <td>...</td>\n",
       "      <td>...</td>\n",
       "    </tr>\n",
       "    <tr>\n",
       "      <th>20095</th>\n",
       "      <td>12379592</td>\n",
       "      <td>how purism avoids intels active management tec...</td>\n",
       "      <td>https://puri.sm/philosophy/how-purism-avoids-i...</td>\n",
       "      <td>10</td>\n",
       "      <td>6</td>\n",
       "      <td>AdmiralAsshat</td>\n",
       "      <td>2016-08-29 02:22:00</td>\n",
       "    </tr>\n",
       "    <tr>\n",
       "      <th>20096</th>\n",
       "      <td>10339284</td>\n",
       "      <td>yc application translated and broken down</td>\n",
       "      <td>https://medium.com/@zreitano/the-yc-applicatio...</td>\n",
       "      <td>4</td>\n",
       "      <td>1</td>\n",
       "      <td>zreitano</td>\n",
       "      <td>2015-10-06 14:57:00</td>\n",
       "    </tr>\n",
       "    <tr>\n",
       "      <th>20097</th>\n",
       "      <td>10824382</td>\n",
       "      <td>microkernels are slow and elvis didn't do no d...</td>\n",
       "      <td>http://blog.darknedgy.net/technology/2016/01/0...</td>\n",
       "      <td>169</td>\n",
       "      <td>132</td>\n",
       "      <td>vezzy-fnord</td>\n",
       "      <td>2016-01-02 00:49:00</td>\n",
       "    </tr>\n",
       "    <tr>\n",
       "      <th>20098</th>\n",
       "      <td>10739875</td>\n",
       "      <td>how product hunt really works</td>\n",
       "      <td>https://medium.com/@benjiwheeler/how-product-h...</td>\n",
       "      <td>695</td>\n",
       "      <td>222</td>\n",
       "      <td>brw12</td>\n",
       "      <td>2015-12-15 19:32:00</td>\n",
       "    </tr>\n",
       "    <tr>\n",
       "      <th>20099</th>\n",
       "      <td>11680777</td>\n",
       "      <td>robobrowser: your friendly neighborhood web sc...</td>\n",
       "      <td>https://github.com/jmcarp/robobrowser</td>\n",
       "      <td>182</td>\n",
       "      <td>58</td>\n",
       "      <td>pmoriarty</td>\n",
       "      <td>2016-05-12 01:43:00</td>\n",
       "    </tr>\n",
       "  </tbody>\n",
       "</table>\n",
       "<p>18938 rows × 7 columns</p>\n",
       "</div>"
      ],
      "text/plain": [
       "             id                                              title  \\\n",
       "0      12224879                          interactive dynamic video   \n",
       "1      10975351  how to use open source and shut the fuck up at...   \n",
       "2      11964716  florida djs may face felony for april fools' w...   \n",
       "3      11919867       technology ventures: from idea to enterprise   \n",
       "4      10301696  note by note: the making of steinway l1037 (2007)   \n",
       "...         ...                                                ...   \n",
       "20095  12379592  how purism avoids intels active management tec...   \n",
       "20096  10339284          yc application translated and broken down   \n",
       "20097  10824382  microkernels are slow and elvis didn't do no d...   \n",
       "20098  10739875                      how product hunt really works   \n",
       "20099  11680777  robobrowser: your friendly neighborhood web sc...   \n",
       "\n",
       "                                                     url  num_points  \\\n",
       "0                http://www.interactivedynamicvideo.com/         386   \n",
       "1      http://hueniverse.com/2016/01/26/how-to-use-op...          39   \n",
       "2      http://www.thewire.com/entertainment/2013/04/f...           2   \n",
       "3      https://www.amazon.com/Technology-Ventures-Ent...           3   \n",
       "4      http://www.nytimes.com/2007/11/07/movies/07ste...           8   \n",
       "...                                                  ...         ...   \n",
       "20095  https://puri.sm/philosophy/how-purism-avoids-i...          10   \n",
       "20096  https://medium.com/@zreitano/the-yc-applicatio...           4   \n",
       "20097  http://blog.darknedgy.net/technology/2016/01/0...         169   \n",
       "20098  https://medium.com/@benjiwheeler/how-product-h...         695   \n",
       "20099              https://github.com/jmcarp/robobrowser         182   \n",
       "\n",
       "       num_comments         author          created_at  \n",
       "0                52       ne0phyte 2016-08-04 11:52:00  \n",
       "1                10         josep2 2016-01-26 19:30:00  \n",
       "2                 1       vezycash 2016-06-23 22:20:00  \n",
       "3                 1        hswarna 2016-06-17 00:01:00  \n",
       "4                 2     walterbell 2015-09-30 04:12:00  \n",
       "...             ...            ...                 ...  \n",
       "20095             6  AdmiralAsshat 2016-08-29 02:22:00  \n",
       "20096             1       zreitano 2015-10-06 14:57:00  \n",
       "20097           132    vezzy-fnord 2016-01-02 00:49:00  \n",
       "20098           222          brw12 2015-12-15 19:32:00  \n",
       "20099            58      pmoriarty 2016-05-12 01:43:00  \n",
       "\n",
       "[18938 rows x 7 columns]"
      ]
     },
     "execution_count": 24,
     "metadata": {},
     "output_type": "execute_result"
    }
   ],
   "source": [
    "op"
   ]
  },
  {
   "cell_type": "markdown",
   "id": "e01be442",
   "metadata": {},
   "source": [
    "# find out number of comments in each category"
   ]
  },
  {
   "cell_type": "code",
   "execution_count": 28,
   "id": "2cec3062",
   "metadata": {},
   "outputs": [
    {
     "name": "stdout",
     "output_type": "stream",
     "text": [
      "486538\n",
      "26\n"
     ]
    }
   ],
   "source": [
    "print(op[\"num_comments\"].sum())\n",
    "print(round(op[\"num_comments\"].mean()))"
   ]
  },
  {
   "cell_type": "code",
   "execution_count": 29,
   "id": "eeef15dc",
   "metadata": {},
   "outputs": [
    {
     "name": "stdout",
     "output_type": "stream",
     "text": [
      "24483\n",
      "14\n"
     ]
    }
   ],
   "source": [
    "print(ap[\"num_comments\"].sum())\n",
    "print(round(ap[\"num_comments\"].mean()))"
   ]
  },
  {
   "cell_type": "code",
   "execution_count": 30,
   "id": "e2c8c16a",
   "metadata": {},
   "outputs": [
    {
     "name": "stdout",
     "output_type": "stream",
     "text": [
      "11988\n",
      "10\n"
     ]
    }
   ],
   "source": [
    "print(sp[\"num_comments\"].sum())\n",
    "print(round(sp[\"num_comments\"].mean()))"
   ]
  },
  {
   "cell_type": "markdown",
   "id": "5603c7e9",
   "metadata": {},
   "source": [
    "# find out hours of each post when it was created"
   ]
  },
  {
   "cell_type": "code",
   "execution_count": 31,
   "id": "b37c6bcd",
   "metadata": {},
   "outputs": [],
   "source": [
    "op_hour = op[\"created_at\"].dt.hour\n",
    "ap_hour = ap[\"created_at\"].dt.hour\n",
    "sp_hour = sp[\"created_at\"].dt.hour"
   ]
  },
  {
   "cell_type": "code",
   "execution_count": 32,
   "id": "7350b1e8",
   "metadata": {},
   "outputs": [
    {
     "name": "stdout",
     "output_type": "stream",
     "text": [
      "0        11\n",
      "1        19\n",
      "2        22\n",
      "3         0\n",
      "4         4\n",
      "         ..\n",
      "20095     2\n",
      "20096    14\n",
      "20097     0\n",
      "20098    19\n",
      "20099     1\n",
      "Name: created_at, Length: 18938, dtype: int32 13       14\n",
      "39       22\n",
      "46       18\n",
      "84        7\n",
      "97       20\n",
      "         ..\n",
      "19993     4\n",
      "19999     3\n",
      "20014    22\n",
      "20065     3\n",
      "20070    11\n",
      "Name: created_at, Length: 1162, dtype: int32 7         9\n",
      "17       13\n",
      "22       10\n",
      "30       14\n",
      "31       16\n",
      "         ..\n",
      "20039     9\n",
      "20042    12\n",
      "20045     8\n",
      "20048     1\n",
      "20061     9\n",
      "Name: created_at, Length: 1744, dtype: int32\n"
     ]
    }
   ],
   "source": [
    "print(op_hour, sp_hour , ap_hour)"
   ]
  },
  {
   "cell_type": "markdown",
   "id": "a4f1da28",
   "metadata": {},
   "source": [
    "# groupping the hour of creation of post & summing up their number of comments"
   ]
  },
  {
   "cell_type": "code",
   "execution_count": 33,
   "id": "9b437191",
   "metadata": {},
   "outputs": [],
   "source": [
    "op_total_comment_by_hour = op.groupby(op_hour)[\"num_comments\"].sum()\n",
    "ap_total_comment_by_hour = ap.groupby(ap_hour)[\"num_comments\"].sum()\n",
    "sp_total_comment_by_hour = sp.groupby(sp_hour)[\"num_comments\"].sum()"
   ]
  },
  {
   "cell_type": "code",
   "execution_count": 34,
   "id": "b0c00583",
   "metadata": {},
   "outputs": [
    {
     "data": {
      "text/plain": [
       "created_at\n",
       "0      447\n",
       "1      683\n",
       "2     1381\n",
       "3      421\n",
       "4      337\n",
       "5      464\n",
       "6      397\n",
       "7      267\n",
       "8      492\n",
       "9      251\n",
       "10     793\n",
       "11     641\n",
       "12     687\n",
       "13    1253\n",
       "14    1416\n",
       "15    4477\n",
       "16    1814\n",
       "17    1146\n",
       "18    1439\n",
       "19    1188\n",
       "20    1722\n",
       "21    1745\n",
       "22     479\n",
       "23     543\n",
       "Name: num_comments, dtype: int64"
      ]
     },
     "execution_count": 34,
     "metadata": {},
     "output_type": "execute_result"
    }
   ],
   "source": [
    "ap_total_comment_by_hour"
   ]
  },
  {
   "cell_type": "markdown",
   "id": "9b2eaf6a",
   "metadata": {},
   "source": [
    "# sort them in descending order"
   ]
  },
  {
   "cell_type": "code",
   "execution_count": 35,
   "id": "1c425dff",
   "metadata": {},
   "outputs": [],
   "source": [
    " sorted_by_hour = ap_total_comment_by_hour.sort_values(ascending = False)"
   ]
  },
  {
   "cell_type": "code",
   "execution_count": 36,
   "id": "4b3dccd5",
   "metadata": {},
   "outputs": [
    {
     "data": {
      "text/plain": [
       "created_at\n",
       "15    4477\n",
       "16    1814\n",
       "21    1745\n",
       "20    1722\n",
       "18    1439\n",
       "14    1416\n",
       "2     1381\n",
       "13    1253\n",
       "19    1188\n",
       "17    1146\n",
       "Name: num_comments, dtype: int64"
      ]
     },
     "execution_count": 36,
     "metadata": {},
     "output_type": "execute_result"
    }
   ],
   "source": [
    "sorted_by_hour.head(10)"
   ]
  },
  {
   "cell_type": "markdown",
   "id": "c73b7b14",
   "metadata": {},
   "source": [
    "# groupping the hour of creation of post & taking mean of number of comments"
   ]
  },
  {
   "cell_type": "code",
   "execution_count": 37,
   "id": "ab880137",
   "metadata": {},
   "outputs": [],
   "source": [
    "op_avg_comment_by_hour = op.groupby(op_hour)[\"num_comments\"].mean().round(2)\n",
    "ap_avg_comment_by_hour = ap.groupby(ap_hour)[\"num_comments\"].mean().round(2)\n",
    "sp_avg_comment_by_hour = sp.groupby(sp_hour)[\"num_comments\"].mean().round(2)"
   ]
  },
  {
   "cell_type": "code",
   "execution_count": 38,
   "id": "8d22debf",
   "metadata": {},
   "outputs": [
    {
     "data": {
      "text/plain": [
       "created_at\n",
       "0      8.13\n",
       "1     11.38\n",
       "2     23.81\n",
       "3      7.80\n",
       "4      7.17\n",
       "5     10.09\n",
       "6      9.02\n",
       "7      7.85\n",
       "8     10.25\n",
       "9      5.58\n",
       "10    13.44\n",
       "11    11.05\n",
       "12     9.41\n",
       "13    14.74\n",
       "14    13.23\n",
       "15    38.59\n",
       "16    16.80\n",
       "17    11.46\n",
       "18    13.20\n",
       "19    10.80\n",
       "20    21.52\n",
       "21    16.01\n",
       "22     6.75\n",
       "23     7.99\n",
       "Name: num_comments, dtype: float64"
      ]
     },
     "execution_count": 38,
     "metadata": {},
     "output_type": "execute_result"
    }
   ],
   "source": [
    "ap_avg_comment_by_hour"
   ]
  },
  {
   "cell_type": "code",
   "execution_count": 40,
   "id": "416739c8",
   "metadata": {},
   "outputs": [],
   "source": [
    "sorted_avg_op_comments = op_avg_comment_by_hour.sort_values(ascending = False)\n",
    "sorted_avg_ap_comments = ap_avg_comment_by_hour.sort_values(ascending = False)\n",
    "sorted_avg_sp_comments = sp_avg_comment_by_hour.sort_values(ascending = False)"
   ]
  },
  {
   "cell_type": "markdown",
   "id": "6963b6bb",
   "metadata": {},
   "source": [
    "# s ort them"
   ]
  },
  {
   "cell_type": "code",
   "execution_count": 41,
   "id": "c008b92a",
   "metadata": {},
   "outputs": [
    {
     "data": {
      "text/plain": [
       "created_at\n",
       "15    38.59\n",
       "2     23.81\n",
       "20    21.52\n",
       "16    16.80\n",
       "21    16.01\n",
       "Name: num_comments, dtype: float64"
      ]
     },
     "execution_count": 41,
     "metadata": {},
     "output_type": "execute_result"
    }
   ],
   "source": [
    "sorted_avg_ap_comments.head()"
   ]
  },
  {
   "cell_type": "code",
   "execution_count": 42,
   "id": "2e93be6d",
   "metadata": {},
   "outputs": [
    {
     "data": {
      "text/plain": [
       "created_at\n",
       "18    15.77\n",
       "0     15.71\n",
       "14    13.44\n",
       "23    12.42\n",
       "22    12.39\n",
       "Name: num_comments, dtype: float64"
      ]
     },
     "execution_count": 42,
     "metadata": {},
     "output_type": "execute_result"
    }
   ],
   "source": [
    "sorted_avg_sp_comments.head()"
   ]
  },
  {
   "cell_type": "code",
   "execution_count": 43,
   "id": "2b8a2ab3",
   "metadata": {},
   "outputs": [
    {
     "data": {
      "text/plain": [
       "created_at\n",
       "15    30.43\n",
       "14    30.41\n",
       "13    29.53\n",
       "12    28.57\n",
       "11    28.10\n",
       "Name: num_comments, dtype: float64"
      ]
     },
     "execution_count": 43,
     "metadata": {},
     "output_type": "execute_result"
    }
   ],
   "source": [
    "sorted_avg_op_comments.head()"
   ]
  },
  {
   "cell_type": "code",
   "execution_count": 44,
   "id": "8325c4e5",
   "metadata": {},
   "outputs": [],
   "source": [
    "ap.to_csv(\"clean ask post.csv\", index = False)\n"
   ]
  },
  {
   "cell_type": "code",
   "execution_count": 45,
   "id": "4e96046e",
   "metadata": {},
   "outputs": [],
   "source": [
    "clean_hackers = pd.concat([ap,sp,op])"
   ]
  },
  {
   "cell_type": "code",
   "execution_count": 46,
   "id": "fa42a422",
   "metadata": {
    "scrolled": true
   },
   "outputs": [
    {
     "name": "stdout",
     "output_type": "stream",
     "text": [
      "<class 'pandas.core.frame.DataFrame'>\n",
      "Index: 21844 entries, 7 to 20099\n",
      "Data columns (total 7 columns):\n",
      " #   Column        Non-Null Count  Dtype         \n",
      "---  ------        --------------  -----         \n",
      " 0   id            21844 non-null  int64         \n",
      " 1   title         21844 non-null  object        \n",
      " 2   url           17667 non-null  object        \n",
      " 3   num_points    21844 non-null  int64         \n",
      " 4   num_comments  21844 non-null  int64         \n",
      " 5   author        21844 non-null  object        \n",
      " 6   created_at    21844 non-null  datetime64[ns]\n",
      "dtypes: datetime64[ns](1), int64(3), object(3)\n",
      "memory usage: 1.3+ MB\n"
     ]
    }
   ],
   "source": [
    "clean_hackers.info()"
   ]
  },
  {
   "cell_type": "code",
   "execution_count": 47,
   "id": "c11f7bc0",
   "metadata": {},
   "outputs": [],
   "source": [
    "clean_hackers.to_csv(\"clean hackers.csv\" ,index = False)"
   ]
  },
  {
   "cell_type": "markdown",
   "id": "79139a9a",
   "metadata": {},
   "source": [
    "# Analysis Summary: Understanding Comment Trends in 'Ask' Posts\n",
    "\n",
    "## Most Commented Posts:\n",
    "\n",
    "Upon analyzing the dataset, it was evident that 'ask' posts garnered the highest number of comments compared to other post types. This indicates a higher level of engagement and interaction among users within the community.\n",
    "\n",
    "## Mean Number of Comments by Hour:\n",
    "\n",
    "The analysis further revealed insightful patterns regarding the mean number of comments by hour. By breaking down the data into hourly intervals, we were able to identify specific timeframes that attract more engagement from users.\n",
    "For instance, posts made during certain hours of the day tended to receive a higher average number of comments compared to others. This suggests that timing plays a crucial role in maximizing views and interactions on 'ask' posts.\n",
    "By leveraging this information, we can strategically plan the timing of our posts to optimize engagement and foster meaningful discussions within the community.\n",
    "\n",
    "\n",
    "In conclusion, understanding the dynamics of comment trends in 'ask' posts provides valuable insights for content creators and community managers. By capitalizing on peak engagement hours and fostering an environment conducive to conversation, we can enhance the overall user experience and foster a vibrant and interactive community."
   ]
  },
  {
   "cell_type": "code",
   "execution_count": null,
   "id": "ec0c0d95",
   "metadata": {},
   "outputs": [],
   "source": []
  }
 ],
 "metadata": {
  "kernelspec": {
   "display_name": "Python 3 (ipykernel)",
   "language": "python",
   "name": "python3"
  },
  "language_info": {
   "codemirror_mode": {
    "name": "ipython",
    "version": 3
   },
   "file_extension": ".py",
   "mimetype": "text/x-python",
   "name": "python",
   "nbconvert_exporter": "python",
   "pygments_lexer": "ipython3",
   "version": "3.11.5"
  }
 },
 "nbformat": 4,
 "nbformat_minor": 5
}
