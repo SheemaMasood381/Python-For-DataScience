{
 "cells": [
  {
   "cell_type": "markdown",
   "id": "99860607",
   "metadata": {},
   "source": [
    "# import libraries"
   ]
  },
  {
   "cell_type": "code",
   "execution_count": 1,
   "id": "41b5dc95",
   "metadata": {},
   "outputs": [],
   "source": [
    "import pandas as pd"
   ]
  },
  {
   "cell_type": "code",
   "execution_count": 2,
   "id": "e48dfc49",
   "metadata": {},
   "outputs": [],
   "source": [
    "potus_df = pd.read_csv(\"whitehouse_visitors.csv\")"
   ]
  },
  {
   "cell_type": "code",
   "execution_count": 3,
   "id": "7eec3ed0",
   "metadata": {
    "scrolled": true
   },
   "outputs": [
    {
     "data": {
      "text/html": [
       "<div>\n",
       "<style scoped>\n",
       "    .dataframe tbody tr th:only-of-type {\n",
       "        vertical-align: middle;\n",
       "    }\n",
       "\n",
       "    .dataframe tbody tr th {\n",
       "        vertical-align: top;\n",
       "    }\n",
       "\n",
       "    .dataframe thead th {\n",
       "        text-align: right;\n",
       "    }\n",
       "</style>\n",
       "<table border=\"1\" class=\"dataframe\">\n",
       "  <thead>\n",
       "    <tr style=\"text-align: right;\">\n",
       "      <th></th>\n",
       "      <th>name</th>\n",
       "      <th>appt_made_date</th>\n",
       "      <th>appt_start_date</th>\n",
       "      <th>appt_end_date</th>\n",
       "      <th>visitee_namelast</th>\n",
       "      <th>visitee_namefirst</th>\n",
       "      <th>meeting_room</th>\n",
       "      <th>description</th>\n",
       "    </tr>\n",
       "  </thead>\n",
       "  <tbody>\n",
       "    <tr>\n",
       "      <th>0</th>\n",
       "      <td>Joshua T. Blanton</td>\n",
       "      <td>2014-12-18T00:00:00</td>\n",
       "      <td>1/6/15 9:30</td>\n",
       "      <td>1/6/15 23:59</td>\n",
       "      <td>NaN</td>\n",
       "      <td>potus</td>\n",
       "      <td>west wing</td>\n",
       "      <td>JointService Military Honor Guard</td>\n",
       "    </tr>\n",
       "    <tr>\n",
       "      <th>1</th>\n",
       "      <td>Jack T. Gutting</td>\n",
       "      <td>2014-12-18T00:00:00</td>\n",
       "      <td>1/6/15 9:30</td>\n",
       "      <td>1/6/15 23:59</td>\n",
       "      <td>NaN</td>\n",
       "      <td>potus</td>\n",
       "      <td>west wing</td>\n",
       "      <td>JointService Military Honor Guard</td>\n",
       "    </tr>\n",
       "    <tr>\n",
       "      <th>2</th>\n",
       "      <td>Bradley T. Guiles</td>\n",
       "      <td>2014-12-18T00:00:00</td>\n",
       "      <td>1/6/15 9:30</td>\n",
       "      <td>1/6/15 23:59</td>\n",
       "      <td>NaN</td>\n",
       "      <td>potus</td>\n",
       "      <td>west wing</td>\n",
       "      <td>JointService Military Honor Guard</td>\n",
       "    </tr>\n",
       "    <tr>\n",
       "      <th>3</th>\n",
       "      <td>Loryn F. Grieb</td>\n",
       "      <td>2014-12-18T00:00:00</td>\n",
       "      <td>1/6/15 9:30</td>\n",
       "      <td>1/6/15 23:59</td>\n",
       "      <td>NaN</td>\n",
       "      <td>potus</td>\n",
       "      <td>west wing</td>\n",
       "      <td>JointService Military Honor Guard</td>\n",
       "    </tr>\n",
       "    <tr>\n",
       "      <th>4</th>\n",
       "      <td>Travis D. Gordon</td>\n",
       "      <td>2014-12-18T00:00:00</td>\n",
       "      <td>1/6/15 9:30</td>\n",
       "      <td>1/6/15 23:59</td>\n",
       "      <td>NaN</td>\n",
       "      <td>potus</td>\n",
       "      <td>west wing</td>\n",
       "      <td>JointService Military Honor Guard</td>\n",
       "    </tr>\n",
       "    <tr>\n",
       "      <th>...</th>\n",
       "      <td>...</td>\n",
       "      <td>...</td>\n",
       "      <td>...</td>\n",
       "      <td>...</td>\n",
       "      <td>...</td>\n",
       "      <td>...</td>\n",
       "      <td>...</td>\n",
       "      <td>...</td>\n",
       "    </tr>\n",
       "    <tr>\n",
       "      <th>47949</th>\n",
       "      <td>William B. Henline</td>\n",
       "      <td>2015-12-16T00:00:00</td>\n",
       "      <td>12/18/15 16:30</td>\n",
       "      <td>12/18/15 23:59</td>\n",
       "      <td>NaN</td>\n",
       "      <td>POTUS/FLOTUS</td>\n",
       "      <td>State Floo</td>\n",
       "      <td>NaN</td>\n",
       "    </tr>\n",
       "    <tr>\n",
       "      <th>47950</th>\n",
       "      <td>Ian T. Burris</td>\n",
       "      <td>2015-12-16T00:00:00</td>\n",
       "      <td>12/18/15 16:30</td>\n",
       "      <td>12/18/15 23:59</td>\n",
       "      <td>NaN</td>\n",
       "      <td>POTUS/FLOTUS</td>\n",
       "      <td>State Floo</td>\n",
       "      <td>NaN</td>\n",
       "    </tr>\n",
       "    <tr>\n",
       "      <th>47951</th>\n",
       "      <td>James F. Albaugh</td>\n",
       "      <td>2015-12-16T00:00:00</td>\n",
       "      <td>12/18/15 16:30</td>\n",
       "      <td>12/18/15 23:59</td>\n",
       "      <td>NaN</td>\n",
       "      <td>POTUS/FLOTUS</td>\n",
       "      <td>State Floo</td>\n",
       "      <td>NaN</td>\n",
       "    </tr>\n",
       "    <tr>\n",
       "      <th>47952</th>\n",
       "      <td>Jackie L. Finken</td>\n",
       "      <td>2015-12-16T00:00:00</td>\n",
       "      <td>12/18/15 16:30</td>\n",
       "      <td>12/18/15 23:59</td>\n",
       "      <td>NaN</td>\n",
       "      <td>POTUS/FLOTUS</td>\n",
       "      <td>State Floo</td>\n",
       "      <td>NaN</td>\n",
       "    </tr>\n",
       "    <tr>\n",
       "      <th>47953</th>\n",
       "      <td>Grace M. Bauman</td>\n",
       "      <td>2015-12-16T00:00:00</td>\n",
       "      <td>12/18/15 16:30</td>\n",
       "      <td>12/18/15 23:59</td>\n",
       "      <td>NaN</td>\n",
       "      <td>POTUS/FLOTUS</td>\n",
       "      <td>State Floo</td>\n",
       "      <td>NaN</td>\n",
       "    </tr>\n",
       "  </tbody>\n",
       "</table>\n",
       "<p>47954 rows × 8 columns</p>\n",
       "</div>"
      ],
      "text/plain": [
       "                     name       appt_made_date appt_start_date  \\\n",
       "0       Joshua T. Blanton  2014-12-18T00:00:00     1/6/15 9:30   \n",
       "1         Jack T. Gutting  2014-12-18T00:00:00     1/6/15 9:30   \n",
       "2       Bradley T. Guiles  2014-12-18T00:00:00     1/6/15 9:30   \n",
       "3          Loryn F. Grieb  2014-12-18T00:00:00     1/6/15 9:30   \n",
       "4        Travis D. Gordon  2014-12-18T00:00:00     1/6/15 9:30   \n",
       "...                   ...                  ...             ...   \n",
       "47949  William B. Henline  2015-12-16T00:00:00  12/18/15 16:30   \n",
       "47950       Ian T. Burris  2015-12-16T00:00:00  12/18/15 16:30   \n",
       "47951    James F. Albaugh  2015-12-16T00:00:00  12/18/15 16:30   \n",
       "47952    Jackie L. Finken  2015-12-16T00:00:00  12/18/15 16:30   \n",
       "47953     Grace M. Bauman  2015-12-16T00:00:00  12/18/15 16:30   \n",
       "\n",
       "        appt_end_date visitee_namelast visitee_namefirst meeting_room  \\\n",
       "0        1/6/15 23:59              NaN             potus    west wing   \n",
       "1        1/6/15 23:59              NaN             potus    west wing   \n",
       "2        1/6/15 23:59              NaN             potus    west wing   \n",
       "3        1/6/15 23:59              NaN             potus    west wing   \n",
       "4        1/6/15 23:59              NaN             potus    west wing   \n",
       "...               ...              ...               ...          ...   \n",
       "47949  12/18/15 23:59              NaN      POTUS/FLOTUS   State Floo   \n",
       "47950  12/18/15 23:59              NaN      POTUS/FLOTUS   State Floo   \n",
       "47951  12/18/15 23:59              NaN      POTUS/FLOTUS   State Floo   \n",
       "47952  12/18/15 23:59              NaN      POTUS/FLOTUS   State Floo   \n",
       "47953  12/18/15 23:59              NaN      POTUS/FLOTUS   State Floo   \n",
       "\n",
       "                             description  \n",
       "0      JointService Military Honor Guard  \n",
       "1      JointService Military Honor Guard  \n",
       "2      JointService Military Honor Guard  \n",
       "3      JointService Military Honor Guard  \n",
       "4      JointService Military Honor Guard  \n",
       "...                                  ...  \n",
       "47949                                NaN  \n",
       "47950                                NaN  \n",
       "47951                                NaN  \n",
       "47952                                NaN  \n",
       "47953                                NaN  \n",
       "\n",
       "[47954 rows x 8 columns]"
      ]
     },
     "execution_count": 3,
     "metadata": {},
     "output_type": "execute_result"
    }
   ],
   "source": [
    "potus_df"
   ]
  },
  {
   "cell_type": "markdown",
   "id": "28c200e0",
   "metadata": {},
   "source": [
    "# import module dattime "
   ]
  },
  {
   "cell_type": "code",
   "execution_count": 5,
   "id": "b27af240",
   "metadata": {},
   "outputs": [],
   "source": [
    "import datetime as dt"
   ]
  },
  {
   "cell_type": "code",
   "execution_count": 6,
   "id": "f96995de",
   "metadata": {},
   "outputs": [
    {
     "name": "stdout",
     "output_type": "stream",
     "text": [
      "<class 'pandas.core.frame.DataFrame'>\n",
      "RangeIndex: 47954 entries, 0 to 47953\n",
      "Data columns (total 8 columns):\n",
      " #   Column             Non-Null Count  Dtype \n",
      "---  ------             --------------  ----- \n",
      " 0   name               47954 non-null  object\n",
      " 1   appt_made_date     47954 non-null  object\n",
      " 2   appt_start_date    47954 non-null  object\n",
      " 3   appt_end_date      47954 non-null  object\n",
      " 4   visitee_namelast   6069 non-null   object\n",
      " 5   visitee_namefirst  47953 non-null  object\n",
      " 6   meeting_room       47954 non-null  object\n",
      " 7   description        8053 non-null   object\n",
      "dtypes: object(8)\n",
      "memory usage: 2.9+ MB\n"
     ]
    }
   ],
   "source": [
    "potus_df.info()"
   ]
  },
  {
   "cell_type": "code",
   "execution_count": 7,
   "id": "4ff4d8b6",
   "metadata": {},
   "outputs": [
    {
     "data": {
      "text/plain": [
       "<bound method Series.info of 0        2014-12-18T00:00:00\n",
       "1        2014-12-18T00:00:00\n",
       "2        2014-12-18T00:00:00\n",
       "3        2014-12-18T00:00:00\n",
       "4        2014-12-18T00:00:00\n",
       "                ...         \n",
       "47949    2015-12-16T00:00:00\n",
       "47950    2015-12-16T00:00:00\n",
       "47951    2015-12-16T00:00:00\n",
       "47952    2015-12-16T00:00:00\n",
       "47953    2015-12-16T00:00:00\n",
       "Name: appt_made_date, Length: 47954, dtype: object>"
      ]
     },
     "execution_count": 7,
     "metadata": {},
     "output_type": "execute_result"
    }
   ],
   "source": [
    "potus_df[\"appt_made_date\"].info"
   ]
  },
  {
   "cell_type": "markdown",
   "id": "0ca6feb2",
   "metadata": {},
   "source": [
    "# changing date into datetime format"
   ]
  },
  {
   "cell_type": "code",
   "execution_count": 8,
   "id": "e48692e5",
   "metadata": {},
   "outputs": [
    {
     "name": "stderr",
     "output_type": "stream",
     "text": [
      "C:\\Users\\Aksystems\\AppData\\Local\\Temp\\ipykernel_11788\\2448483416.py:1: UserWarning: Could not infer format, so each element will be parsed individually, falling back to `dateutil`. To ensure parsing is consistent and as-expected, please specify a format.\n",
      "  potus_df[\"appt_start_date\"] =pd.to_datetime(potus_df[\"appt_start_date\"])\n"
     ]
    }
   ],
   "source": [
    "potus_df[\"appt_start_date\"] =pd.to_datetime(potus_df[\"appt_start_date\"])"
   ]
  },
  {
   "cell_type": "code",
   "execution_count": 9,
   "id": "4cef3046",
   "metadata": {},
   "outputs": [
    {
     "name": "stderr",
     "output_type": "stream",
     "text": [
      "C:\\Users\\Aksystems\\AppData\\Local\\Temp\\ipykernel_11788\\716471243.py:1: UserWarning: Could not infer format, so each element will be parsed individually, falling back to `dateutil`. To ensure parsing is consistent and as-expected, please specify a format.\n",
      "  potus_df[\"appt_end_date\"] =pd.to_datetime(potus_df[\"appt_end_date\"])\n"
     ]
    }
   ],
   "source": [
    "potus_df[\"appt_end_date\"] =pd.to_datetime(potus_df[\"appt_end_date\"])"
   ]
  },
  {
   "cell_type": "code",
   "execution_count": 10,
   "id": "ea8030a2",
   "metadata": {},
   "outputs": [],
   "source": [
    "monthly_appt = potus_df[\"appt_start_date\"].dt.strftime(\"%B\")"
   ]
  },
  {
   "cell_type": "code",
   "execution_count": 11,
   "id": "e720cb33",
   "metadata": {},
   "outputs": [
    {
     "data": {
      "text/plain": [
       "appt_start_date\n",
       "December     13029\n",
       "June          7743\n",
       "April         4996\n",
       "September     4416\n",
       "October       3669\n",
       "May           3013\n",
       "July          2930\n",
       "March         2262\n",
       "February      2165\n",
       "August        1350\n",
       "January       1248\n",
       "November      1133\n",
       "Name: count, dtype: int64"
      ]
     },
     "execution_count": 11,
     "metadata": {},
     "output_type": "execute_result"
    }
   ],
   "source": [
    "monthly_appt.value_counts()"
   ]
  },
  {
   "cell_type": "markdown",
   "id": "96f0d339",
   "metadata": {},
   "source": [
    "# find duration of meeting"
   ]
  },
  {
   "cell_type": "code",
   "execution_count": 12,
   "id": "ae8ae048",
   "metadata": {},
   "outputs": [],
   "source": [
    "duration_of_meeting = potus_df[\"appt_end_date\"] - potus_df[\"appt_start_date\"]"
   ]
  },
  {
   "cell_type": "code",
   "execution_count": 13,
   "id": "66b35e58",
   "metadata": {},
   "outputs": [
    {
     "data": {
      "text/plain": [
       "0       0 days 14:29:00\n",
       "1       0 days 14:29:00\n",
       "2       0 days 14:29:00\n",
       "3       0 days 14:29:00\n",
       "4       0 days 14:29:00\n",
       "              ...      \n",
       "47949   0 days 07:29:00\n",
       "47950   0 days 07:29:00\n",
       "47951   0 days 07:29:00\n",
       "47952   0 days 07:29:00\n",
       "47953   0 days 07:29:00\n",
       "Length: 47954, dtype: timedelta64[ns]"
      ]
     },
     "execution_count": 13,
     "metadata": {},
     "output_type": "execute_result"
    }
   ],
   "source": [
    "duration_of_meeting"
   ]
  },
  {
   "cell_type": "code",
   "execution_count": 14,
   "id": "fca31041",
   "metadata": {},
   "outputs": [
    {
     "data": {
      "text/plain": [
       "Timedelta('0 days 02:29:00')"
      ]
     },
     "execution_count": 14,
     "metadata": {},
     "output_type": "execute_result"
    }
   ],
   "source": [
    "duration_of_meeting.min()"
   ]
  },
  {
   "cell_type": "code",
   "execution_count": 15,
   "id": "e56eefa5",
   "metadata": {},
   "outputs": [
    {
     "data": {
      "text/plain": [
       "Timedelta('16 days 12:59:00')"
      ]
     },
     "execution_count": 15,
     "metadata": {},
     "output_type": "execute_result"
    }
   ],
   "source": [
    "duration_of_meeting.max()"
   ]
  },
  {
   "cell_type": "code",
   "execution_count": 16,
   "id": "43201ddf",
   "metadata": {},
   "outputs": [
    {
     "data": {
      "text/plain": [
       "Timedelta('21210 days 14:02:00')"
      ]
     },
     "execution_count": 16,
     "metadata": {},
     "output_type": "execute_result"
    }
   ],
   "source": [
    "duration_of_meeting.sum()"
   ]
  },
  {
   "cell_type": "code",
   "execution_count": 17,
   "id": "e366041d",
   "metadata": {},
   "outputs": [
    {
     "data": {
      "text/plain": [
       "appt_start_date\n",
       "2015-06-15 15:15:00    3064\n",
       "2015-06-17 18:00:00    1874\n",
       "2015-12-07 18:00:00    1374\n",
       "2015-12-15 13:30:00     811\n",
       "2015-12-10 18:00:00     778\n",
       "                       ... \n",
       "2015-04-20 14:03:00       1\n",
       "2015-04-20 14:09:00       1\n",
       "2015-09-10 14:07:00       1\n",
       "2015-09-10 13:30:00       1\n",
       "2015-04-17 15:08:00       1\n",
       "Name: count, Length: 1174, dtype: int64"
      ]
     },
     "execution_count": 17,
     "metadata": {},
     "output_type": "execute_result"
    }
   ],
   "source": [
    "potus_df[\"appt_start_date\"].value_counts()"
   ]
  },
  {
   "cell_type": "code",
   "execution_count": null,
   "id": "6d804f52",
   "metadata": {},
   "outputs": [],
   "source": []
  },
  {
   "cell_type": "code",
   "execution_count": null,
   "id": "edfb1462",
   "metadata": {},
   "outputs": [],
   "source": []
  },
  {
   "cell_type": "code",
   "execution_count": null,
   "id": "7ea42c53",
   "metadata": {},
   "outputs": [],
   "source": []
  },
  {
   "cell_type": "code",
   "execution_count": null,
   "id": "5ec91c8a",
   "metadata": {},
   "outputs": [],
   "source": []
  }
 ],
 "metadata": {
  "kernelspec": {
   "display_name": "Python 3 (ipykernel)",
   "language": "python",
   "name": "python3"
  },
  "language_info": {
   "codemirror_mode": {
    "name": "ipython",
    "version": 3
   },
   "file_extension": ".py",
   "mimetype": "text/x-python",
   "name": "python",
   "nbconvert_exporter": "python",
   "pygments_lexer": "ipython3",
   "version": "3.11.5"
  }
 },
 "nbformat": 4,
 "nbformat_minor": 5
}
