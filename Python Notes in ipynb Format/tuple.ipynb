{
 "cells": [
  {
   "cell_type": "markdown",
   "id": "18796361",
   "metadata": {},
   "source": [
    "# Tuple\n",
    "* a tuple is an ordered, immutable collection of elements. \n",
    "* This means that once a tuple is created, you cannot modify its contents - \n",
    "* you can't add, remove, or change elements. \n",
    "* Tuples are defined using parentheses () and can contain elements of different   data types.\n",
    "* Tuples are commonly used in situations where you want to ensure the integrity   of data or when you need an ordered and immutable sequence of elements. \n",
    "* They are particularly useful for representing fixed collections of values."
   ]
  },
  {
   "cell_type": "code",
   "execution_count": 1,
   "id": "83855f71",
   "metadata": {},
   "outputs": [
    {
     "data": {
      "text/plain": [
       "tuple"
      ]
     },
     "execution_count": 1,
     "metadata": {},
     "output_type": "execute_result"
    }
   ],
   "source": [
    "T = (\"sheema\",25, 5.2 )\n",
    "type(T)"
   ]
  },
  {
   "cell_type": "markdown",
   "id": "f1b0d37e",
   "metadata": {},
   "source": [
    "# characteristics of tuple\n",
    "## Immutable:\n",
    "* Once a tuple is created, its elements cannot be changed.\n",
    "* we have no methods while list has different methods in directory"
   ]
  },
  {
   "cell_type": "code",
   "execution_count": 2,
   "id": "10cce030",
   "metadata": {},
   "outputs": [
    {
     "data": {
      "text/plain": [
       "['__add__',\n",
       " '__class__',\n",
       " '__class_getitem__',\n",
       " '__contains__',\n",
       " '__delattr__',\n",
       " '__dir__',\n",
       " '__doc__',\n",
       " '__eq__',\n",
       " '__format__',\n",
       " '__ge__',\n",
       " '__getattribute__',\n",
       " '__getitem__',\n",
       " '__getnewargs__',\n",
       " '__getstate__',\n",
       " '__gt__',\n",
       " '__hash__',\n",
       " '__init__',\n",
       " '__init_subclass__',\n",
       " '__iter__',\n",
       " '__le__',\n",
       " '__len__',\n",
       " '__lt__',\n",
       " '__mul__',\n",
       " '__ne__',\n",
       " '__new__',\n",
       " '__reduce__',\n",
       " '__reduce_ex__',\n",
       " '__repr__',\n",
       " '__rmul__',\n",
       " '__setattr__',\n",
       " '__sizeof__',\n",
       " '__str__',\n",
       " '__subclasshook__',\n",
       " 'count',\n",
       " 'index']"
      ]
     },
     "execution_count": 2,
     "metadata": {},
     "output_type": "execute_result"
    }
   ],
   "source": [
    "dir(tuple)"
   ]
  },
  {
   "cell_type": "markdown",
   "id": "26d8c8df",
   "metadata": {},
   "source": [
    "## Heterogeneous Elements:\n",
    "* Tuples can contain elements of different data types."
   ]
  },
  {
   "cell_type": "code",
   "execution_count": 3,
   "id": "cba14da3",
   "metadata": {},
   "outputs": [
    {
     "data": {
      "text/plain": [
       "('sheema', 25, 5.2)"
      ]
     },
     "execution_count": 3,
     "metadata": {},
     "output_type": "execute_result"
    }
   ],
   "source": [
    "T"
   ]
  },
  {
   "cell_type": "code",
   "execution_count": 7,
   "id": "51ba04fc",
   "metadata": {},
   "outputs": [
    {
     "name": "stdout",
     "output_type": "stream",
     "text": [
      "<class 'str'>\n",
      "<class 'int'>\n",
      "<class 'float'>\n"
     ]
    }
   ],
   "source": [
    "print(type(T[0]))\n",
    "print(type(T[1]))  \n",
    "print(type(T[2]))"
   ]
  },
  {
   "cell_type": "markdown",
   "id": "01206c6c",
   "metadata": {},
   "source": [
    "## Indexing\n",
    "* we can access the individual element in the list due to its unique index       (position)\n",
    "* python uses zero index language (starts from 0)\n",
    "* uses [] to access the single element with its position in between\n",
    "\n",
    "* positive indexing\n",
    "  * left to right\n",
    "  * strats from 0 , and so on (forward)\n",
    "example"
   ]
  },
  {
   "cell_type": "code",
   "execution_count": 8,
   "id": "96b53327",
   "metadata": {},
   "outputs": [
    {
     "data": {
      "text/plain": [
       "25"
      ]
     },
     "execution_count": 8,
     "metadata": {},
     "output_type": "execute_result"
    }
   ],
   "source": [
    "T[1]"
   ]
  },
  {
   "cell_type": "markdown",
   "id": "32ad0688",
   "metadata": {},
   "source": [
    "* negative indexing\n",
    "  * right to left\n",
    "  * starts from -1 and backwards\n",
    "  example"
   ]
  },
  {
   "cell_type": "code",
   "execution_count": 9,
   "id": "47670a0a",
   "metadata": {},
   "outputs": [
    {
     "data": {
      "text/plain": [
       "5.2"
      ]
     },
     "execution_count": 9,
     "metadata": {},
     "output_type": "execute_result"
    }
   ],
   "source": [
    "T[-1]"
   ]
  },
  {
   "cell_type": "markdown",
   "id": "f9dfcd05",
   "metadata": {},
   "source": [
    "## slicing  \n",
    "* continuous part of the tuple\n",
    "* create a new tuple\n",
    "* Use the colon : to specify a range of indices.\n",
    "* The syntax is sarting_index : end_index\n",
    "* it includes elements from start_index to end index , excluding the elements\n",
    "  of end_index\n",
    "For example:"
   ]
  },
  {
   "cell_type": "code",
   "execution_count": 12,
   "id": "cbe1183c",
   "metadata": {},
   "outputs": [
    {
     "data": {
      "text/plain": [
       "('sheema', 25)"
      ]
     },
     "execution_count": 12,
     "metadata": {},
     "output_type": "execute_result"
    }
   ],
   "source": [
    "Tslice = T[0:2]\n",
    "Tslice"
   ]
  },
  {
   "cell_type": "code",
   "execution_count": 13,
   "id": "c424768a",
   "metadata": {},
   "outputs": [
    {
     "data": {
      "text/plain": [
       "tuple"
      ]
     },
     "execution_count": 13,
     "metadata": {},
     "output_type": "execute_result"
    }
   ],
   "source": [
    "type(Tslice)"
   ]
  },
  {
   "cell_type": "markdown",
   "id": "49ad1d4a",
   "metadata": {},
   "source": [
    "## Nesting:\n",
    "* Tuples can contain other tuples, allowing for nested structures"
   ]
  },
  {
   "cell_type": "code",
   "execution_count": 15,
   "id": "b8d8c69b",
   "metadata": {},
   "outputs": [],
   "source": [
    "my_tuple = ((\"sheema\",\"masood\"), 25, 5.2)"
   ]
  },
  {
   "cell_type": "code",
   "execution_count": 16,
   "id": "510b5d5d",
   "metadata": {},
   "outputs": [
    {
     "data": {
      "text/plain": [
       "tuple"
      ]
     },
     "execution_count": 16,
     "metadata": {},
     "output_type": "execute_result"
    }
   ],
   "source": [
    "type(my_tuple[0])"
   ]
  },
  {
   "cell_type": "markdown",
   "id": "8833575b",
   "metadata": {},
   "source": [
    "## Use as Dictionary Keys:\n",
    "* Tuples are hashable and can be used as keys in dictionaries.\n",
    "example\n"
   ]
  },
  {
   "cell_type": "code",
   "execution_count": 20,
   "id": "eb249bfa",
   "metadata": {},
   "outputs": [
    {
     "data": {
      "text/plain": [
       "{'name': 'sheema', 'age': 25, 'height': 5.2}"
      ]
     },
     "execution_count": 20,
     "metadata": {},
     "output_type": "execute_result"
    }
   ],
   "source": [
    "my_dict = {\"name\":\"sheema\" , 'age':25, \"height\": 5.2}\n",
    "my_dict"
   ]
  },
  {
   "cell_type": "markdown",
   "id": "2212e0b2",
   "metadata": {},
   "source": [
    "## Tuple Unpacking:\n",
    "* You can unpack a tuple into individual variables."
   ]
  },
  {
   "cell_type": "code",
   "execution_count": 25,
   "id": "a041c61b",
   "metadata": {},
   "outputs": [
    {
     "name": "stdout",
     "output_type": "stream",
     "text": [
      "1\n"
     ]
    }
   ],
   "source": [
    "numbers = ( 1,2,3)\n",
    "a,b,c = numbers\n",
    "print(a)"
   ]
  },
  {
   "cell_type": "code",
   "execution_count": 26,
   "id": "b9b22df8",
   "metadata": {},
   "outputs": [
    {
     "name": "stdout",
     "output_type": "stream",
     "text": [
      "2\n"
     ]
    }
   ],
   "source": [
    "print(b)"
   ]
  },
  {
   "cell_type": "code",
   "execution_count": 27,
   "id": "66abd9d6",
   "metadata": {},
   "outputs": [
    {
     "name": "stdout",
     "output_type": "stream",
     "text": [
      "3\n"
     ]
    }
   ],
   "source": [
    "print(c)"
   ]
  },
  {
   "cell_type": "markdown",
   "id": "ab935af1",
   "metadata": {},
   "source": [
    "## Size Efficiency:\n",
    "* Tuples generally consume less memory than lists, \n",
    "  making them more memory-efficient for certain use cases."
   ]
  }
 ],
 "metadata": {
  "kernelspec": {
   "display_name": "Python 3 (ipykernel)",
   "language": "python",
   "name": "python3"
  },
  "language_info": {
   "codemirror_mode": {
    "name": "ipython",
    "version": 3
   },
   "file_extension": ".py",
   "mimetype": "text/x-python",
   "name": "python",
   "nbconvert_exporter": "python",
   "pygments_lexer": "ipython3",
   "version": "3.11.5"
  }
 },
 "nbformat": 4,
 "nbformat_minor": 5
}
