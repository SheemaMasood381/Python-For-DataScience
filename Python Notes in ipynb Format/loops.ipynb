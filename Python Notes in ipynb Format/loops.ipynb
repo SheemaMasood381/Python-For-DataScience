{
 "cells": [
  {
   "cell_type": "markdown",
   "id": "a29ed338",
   "metadata": {},
   "source": [
    "# loops\n",
    "\n",
    "* a loop is a programming construct that allows you to repeatedly execute a block of code. \n",
    "* Loops are essential for automating repetitive tasks and iterating over sequences or collections of data. \n",
    "* Python supports two main types of loops: \n",
    "    * for loops\n",
    "       for repeat a method or function over a list, tuple or string\n",
    "    * while loops\n",
    "        continues to execute a block of code as long as a specified condition           is True.\n",
    "        (false statement doesnot proceed)\n",
    "      \n",
    "example"
   ]
  },
  {
   "cell_type": "code",
   "execution_count": 9,
   "id": "4d4e2d00",
   "metadata": {},
   "outputs": [
    {
     "name": "stdout",
     "output_type": "stream",
     "text": [
      "[1, 2, 3, 4, 5, 6, 7, 8, 9, 10]\n"
     ]
    }
   ],
   "source": [
    "num = list(range(1,11))\n",
    "print(num)"
   ]
  },
  {
   "cell_type": "code",
   "execution_count": 4,
   "id": "0911bece",
   "metadata": {},
   "outputs": [
    {
     "name": "stdout",
     "output_type": "stream",
     "text": [
      "2\n",
      "4\n",
      "6\n",
      "8\n",
      "10\n"
     ]
    }
   ],
   "source": [
    "for en in num:\n",
    "    if en % 2 == 0: \n",
    "        print(en)"
   ]
  },
  {
   "cell_type": "code",
   "execution_count": 19,
   "id": "efe03389",
   "metadata": {},
   "outputs": [
    {
     "name": "stdout",
     "output_type": "stream",
     "text": [
      "3\n",
      "6\n",
      "9\n"
     ]
    }
   ],
   "source": [
    "#another example\n",
    "for mul3 in num:\n",
    "    if mul3 % 3 == 0:\n",
    "        print(mul3)"
   ]
  },
  {
   "cell_type": "code",
   "execution_count": 3,
   "id": "569e8ad1",
   "metadata": {},
   "outputs": [],
   "source": [
    "#example of while loop\n"
   ]
  },
  {
   "cell_type": "code",
   "execution_count": 1,
   "id": "c0d5e2c7",
   "metadata": {},
   "outputs": [
    {
     "name": "stdout",
     "output_type": "stream",
     "text": [
      "1\n",
      "2\n",
      "3\n",
      "4\n",
      "5\n",
      "6\n",
      "7\n",
      "8\n",
      "9\n",
      "10\n"
     ]
    }
   ],
   "source": [
    "n = 1\n",
    "while n <= 10:\n",
    "    print(n)\n",
    "    n += 1\n",
    "    "
   ]
  },
  {
   "cell_type": "code",
   "execution_count": 8,
   "id": "1ccc8985",
   "metadata": {},
   "outputs": [
    {
     "name": "stdout",
     "output_type": "stream",
     "text": [
      "2\n",
      "4\n",
      "6\n",
      "8\n",
      "10\n",
      "12\n",
      "14\n",
      "16\n",
      "18\n",
      "20\n",
      "22\n",
      "24\n",
      "26\n",
      "28\n",
      "30\n",
      "32\n",
      "34\n",
      "36\n",
      "38\n",
      "40\n",
      "42\n",
      "44\n",
      "46\n",
      "48\n",
      "50\n",
      "52\n",
      "54\n",
      "56\n",
      "58\n",
      "60\n",
      "62\n",
      "64\n",
      "66\n",
      "68\n",
      "70\n",
      "72\n",
      "74\n",
      "76\n",
      "78\n",
      "80\n",
      "82\n",
      "84\n",
      "86\n",
      "88\n",
      "90\n",
      "92\n",
      "94\n",
      "96\n",
      "98\n",
      "100\n"
     ]
    }
   ],
   "source": [
    "en = 1\n",
    "while en <=100:\n",
    "    if en % 2 ==0:\n",
    "        print(en)\n",
    "    en += 1\n",
    "        "
   ]
  },
  {
   "cell_type": "code",
   "execution_count": 2,
   "id": "b762fb22",
   "metadata": {},
   "outputs": [
    {
     "name": "stdout",
     "output_type": "stream",
     "text": [
      "10\n",
      "20\n",
      "30\n",
      "40\n",
      "50\n",
      "60\n",
      "70\n",
      "80\n",
      "90\n",
      "100\n"
     ]
    }
   ],
   "source": [
    "n = 10\n",
    "while n <= 100:\n",
    "    if n %10==0:\n",
    "        print(n)\n",
    "        n+=10"
   ]
  },
  {
   "cell_type": "code",
   "execution_count": null,
   "id": "291e5398",
   "metadata": {},
   "outputs": [],
   "source": []
  },
  {
   "cell_type": "code",
   "execution_count": null,
   "id": "ccc61260",
   "metadata": {},
   "outputs": [],
   "source": []
  }
 ],
 "metadata": {
  "kernelspec": {
   "display_name": "Python 3 (ipykernel)",
   "language": "python",
   "name": "python3"
  },
  "language_info": {
   "codemirror_mode": {
    "name": "ipython",
    "version": 3
   },
   "file_extension": ".py",
   "mimetype": "text/x-python",
   "name": "python",
   "nbconvert_exporter": "python",
   "pygments_lexer": "ipython3",
   "version": "3.11.5"
  }
 },
 "nbformat": 4,
 "nbformat_minor": 5
}
