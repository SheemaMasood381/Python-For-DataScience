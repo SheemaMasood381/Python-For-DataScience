{
 "cells": [
  {
   "cell_type": "markdown",
   "id": "bf695489",
   "metadata": {},
   "source": [
    "# Conditional Statement -> Control flow¶\n",
    "## Comparision Operators\n",
    "\n",
    "* == equals to\n",
    "* != Not equals to\n",
    "* > Greater than\n",
    "* < Less than\n",
    "* >= Greater than & equals to\n",
    "* <= Less than & equals to\n",
    "\n",
    "\n",
    "2.0==2\n",
    "True\n",
    "2.0==\"2\"\n",
    "False\n",
    "\n",
    "if 2.0==\"2\":\n",
    "    print(\"ok\")\n",
    "    \n",
    "if 2.0!=\"2\":\n",
    "    print(\"OK\")\n",
    "     =OK\n",
    "     \n",
    "if True: # 2.0!=\"2\":\n",
    "    print(\"OK\")\n",
    "    =ok\n",
    "\n",
    "\n",
    "\n",
    "if False:\n",
    "    print(\"I am printable\")\n",
    "else:\n",
    "    print(\"I am not printable\")\n",
    "=I am not printable\n",
    "\n",
    "\n",
    "% Modulus\n",
    "\n",
    "2%2\n",
    "0\n",
    "6%2\n",
    "0"
   ]
  }
 ],
 "metadata": {
  "kernelspec": {
   "display_name": "Python 3 (ipykernel)",
   "language": "python",
   "name": "python3"
  },
  "language_info": {
   "codemirror_mode": {
    "name": "ipython",
    "version": 3
   },
   "file_extension": ".py",
   "mimetype": "text/x-python",
   "name": "python",
   "nbconvert_exporter": "python",
   "pygments_lexer": "ipython3",
   "version": "3.11.5"
  }
 },
 "nbformat": 4,
 "nbformat_minor": 5
}
