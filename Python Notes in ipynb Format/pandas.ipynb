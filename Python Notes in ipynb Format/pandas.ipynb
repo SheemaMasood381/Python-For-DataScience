{
 "cells": [
  {
   "cell_type": "markdown",
   "id": "0c0c6a19",
   "metadata": {},
   "source": [
    "# pandas as pd:\n",
    "\n",
    "* Pandas is a powerful Python library used for data manipulation and analysis. \n",
    "* It provides data structures and functions designed to make working with structured data easy and intuitive. \n",
    "* The primary data structures in Pandas are the Series and DataFrame.\n",
    "\n",
    "## Series:\n",
    "* A one-dimensional array-like object containing an array of data and an associated array of labels, called the index.\n",
    "* consists of index and values\n",
    "* it is vector\n",
    "\n",
    "## DataFrame:\n",
    "* A two-dimensional labeled data structure with columns of potentially different types. \n",
    "* It is similar to a spreadsheet or SQL table, or a dictionary of Series objects.\n",
    "* consists of index and columns\n",
    "* it is matrix\n",
    "\n",
    "Pandas allows you to perform various data operations, including:\n",
    "\n",
    "   * Reading and writing data from/to various file formats like CSV, Excel, SQL databases, etc.\n",
    "   * Cleaning and transforming data.\n",
    "   * Handling missing data.\n",
    "   * Filtering, selecting, and slicing data.\n",
    "   * Grouping and aggregating data.\n",
    "   * Merging and joining datasets.\n",
    "   * Time series analysis.\n",
    "   * Plotting data.\n"
   ]
  },
  {
   "cell_type": "markdown",
   "id": "25908b73",
   "metadata": {},
   "source": [
    "## loc and iloc \n",
    "* loc stands for location \n",
    "* loc and iloc are both methods used in Pandas to access and manipulate data within a DataFrame. \n",
    "* They are essential for selecting rows and columns based on labels (with loc) or integer-based indices (with iloc).\n",
    "\n",
    "       *  loc => labels , front end \n",
    "       *  iloc => back end , integer index , row index \n",
    "       \n",
    "## head and tails:\n",
    "* head shows first  rows as default\n",
    "* tail shows 5 last rows as default\n",
    "\n",
    "## .apply(---):\n",
    "* we can apply any function on df with .apply()\n",
    "* we have to pass variable in the brackets\n",
    "\n",
    "## axis:\n",
    "*  x-axis is represented  as 0 in pandas\n",
    "*  y -axis is represented by 1 in pandas\n",
    "* we can use it for movements"
   ]
  },
  {
   "cell_type": "markdown",
   "id": "23574367",
   "metadata": {},
   "source": [
    "# SIMD:\n",
    "\n",
    "## Single Instruction, Multiple Data.\n",
    "* It's a parallel computing technique used to perform the same operation on multiple data points simultaneously. \n",
    "* SIMD architectures are common in modern CPUs and GPUs and are used to accelerate data processing tasks by exploiting data-level parallelism.\n",
    "\n",
    "* In SIMD, a single instruction is applied to multiple data elements in a single processor cycle.\n",
    "* This contrasts with traditional scalar processors, where each instruction operates on only one data element at a time.\n",
    "\n",
    "* SIMD instructions typically operate on vectors or arrays of data elements. \n",
    "* For example, if you have two arrays A and B of the same length and you want to add corresponding elements together to create a third array C, a SIMD instruction could perform this operation much faster than a scalar instruction by adding multiple pairs of elements simultaneously.\n",
    "\n",
    "Some common SIMD instruction sets include:\n",
    "\n",
    "## SSE (Streaming SIMD Extensions):\n",
    "* Introduced by Intel, SSE provides SIMD instructions for floating-point and integer operations on 128-bit vectors. \n",
    "* SSE has been updated several times with SSE2, SSE3, SSE4, and SSE4.2 offering additional functionality.\n",
    "\n",
    "## AVX (Advanced Vector Extensions): \n",
    "* Also introduced by Intel, AVX extends the SIMD capabilities of SSE by providing wider registers (256 bits and 512 bits), additional instructions, and improved performance.\n",
    "\n",
    "## NEON:\n",
    "* NEON is an SIMD architecture extension for ARM processors commonly found in mobile devices and embedded systems. \n",
    "* It provides SIMD instructions for 64-bit and 128-bit vectors.\n",
    "\n",
    "## SIMD extensions for GPUs:\n",
    "* Modern GPUs (Graphics Processing Units) also utilize SIMD architectures to perform parallel processing on large datasets, which is essential for graphics rendering, scientific simulations, and machine learning algorithms.\n",
    "\n",
    "* SIMD is widely used in various fields such as multimedia processing, scientific computing, signal processing, and cryptography. \n",
    "* Programmers can utilize SIMD instructions through compiler intrinsics or specialized libraries to optimize performance-critical code sections for tasks that exhibit data-level parallelism."
   ]
  },
  {
   "cell_type": "code",
   "execution_count": null,
   "id": "df43ecc5",
   "metadata": {},
   "outputs": [],
   "source": []
  }
 ],
 "metadata": {
  "kernelspec": {
   "display_name": "Python 3 (ipykernel)",
   "language": "python",
   "name": "python3"
  },
  "language_info": {
   "codemirror_mode": {
    "name": "ipython",
    "version": 3
   },
   "file_extension": ".py",
   "mimetype": "text/x-python",
   "name": "python",
   "nbconvert_exporter": "python",
   "pygments_lexer": "ipython3",
   "version": "3.11.5"
  }
 },
 "nbformat": 4,
 "nbformat_minor": 5
}
