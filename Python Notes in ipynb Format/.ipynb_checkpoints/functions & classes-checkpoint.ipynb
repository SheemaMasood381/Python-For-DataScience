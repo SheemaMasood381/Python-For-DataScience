{
 "cells": [
  {
   "cell_type": "markdown",
   "id": "709b9df6",
   "metadata": {},
   "source": [
    "# functions:\n",
    "* a function is a block of reusable code that performs a specific task. \n",
    "\n",
    "* Python functions can take parameters as inputs and return values as outputs, although both are optional.\n",
    "\n",
    "* Functions allow you to organize code into logical units, making it easier to read, understand, and maintain. They promote code reuse and modularity, enabling you to use the same piece of code multiple times without repetition.\n",
    "\n",
    "Here's how you define a function in Python:\n",
    "## def:\n",
    "     *  It's a keyword used to define a function.\n",
    "     \n",
    "## function_name: \n",
    "     *  It's the name of the function. \n",
    "     *  Choose a descriptive name that reflects what the function does. \n",
    "     *  Follow Python's naming conventions (lowercase with underscores \n",
    "        for readability).\n",
    "        \n",
    "## parameters: \n",
    "     *  These are optional inputs that the function can accept.\n",
    "     *  Parameters are variables used to pass data into the function. \n",
    "     *  A function can have zero or more parameters.\n",
    "     \n",
    "## Docstring: \n",
    "     *  It's a string literal that provides documentation about the function.\n",
    "     *  It's enclosed in triple quotes (\"\"\" \"\"\"). \n",
    "     *  It describes what the function does, its parameters, and return values.      *  Good documentation helps other developers understand how to use\n",
    "        the function.\n",
    "        \n",
    "## Function body: \n",
    "     *  It consists of the code that defines what the function does. \n",
    "     *  It can include any valid Python code, such as variable assignments, \n",
    "        conditional statements, loops, and function calls.\n",
    "        \n",
    "## Return statement:\n",
    "     *  It specifies the value(s) that the function should return to the \n",
    "        caller. \n",
    "     *  The return statement is optional. If omitted, the function returns \n",
    "        None. \n",
    "     *  You can return single values, multiple values (as a tuple), or even\n",
    "         complex data structures.\n",
    "        \n",
    "\n",
    "* Functions are a fundamental concept in Python programming and are widely used across various domains, including data science, software development, and automation. \n",
    "* They help in writing clean, modular, and maintainable code."
   ]
  },
  {
   "cell_type": "code",
   "execution_count": 1,
   "id": "f727de61",
   "metadata": {},
   "outputs": [],
   "source": [
    "# Here's a example of a function that calculates the square of a number:\n",
    "def square(num):\n",
    " \"\"\"calculate the square of number\"\"\"\n",
    " return num * num\n"
   ]
  },
  {
   "cell_type": "code",
   "execution_count": 2,
   "id": "2282beca",
   "metadata": {},
   "outputs": [
    {
     "data": {
      "text/plain": [
       "25"
      ]
     },
     "execution_count": 2,
     "metadata": {},
     "output_type": "execute_result"
    }
   ],
   "source": [
    "square(5)"
   ]
  },
  {
   "cell_type": "markdown",
   "id": "e9c8ec5c",
   "metadata": {},
   "source": [
    "# classes :\n",
    "\n",
    "     *  a class is a blueprint for creating objects (instances) that share common attributes \n",
    "        and behaviors.\n",
    "     *  Classes provide a way to organize and structure code in a more modular and reusable manner.\n",
    "     *  They are fundamental to object-oriented programming (OOP) in Python and allow you to model \n",
    "         real-world entities and concepts more effectively."
   ]
  },
  {
   "cell_type": "code",
   "execution_count": null,
   "id": "369a8da0",
   "metadata": {},
   "outputs": [],
   "source": []
  }
 ],
 "metadata": {
  "kernelspec": {
   "display_name": "Python 3 (ipykernel)",
   "language": "python",
   "name": "python3"
  },
  "language_info": {
   "codemirror_mode": {
    "name": "ipython",
    "version": 3
   },
   "file_extension": ".py",
   "mimetype": "text/x-python",
   "name": "python",
   "nbconvert_exporter": "python",
   "pygments_lexer": "ipython3",
   "version": "3.11.5"
  }
 },
 "nbformat": 4,
 "nbformat_minor": 5
}
