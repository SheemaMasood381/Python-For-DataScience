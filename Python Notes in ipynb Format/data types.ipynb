{
 "cells": [
  {
   "cell_type": "markdown",
   "id": "be8faf0c",
   "metadata": {},
   "source": [
    "Data Type In Python\n",
    "Every variable in Python has a data type, which defines the type of data it can hold.\n",
    "\n",
    "## Common data types in Python include:\n",
    "* numeric type\n",
    "* sequence type\n",
    "* booleans\n",
    "* mapping type\n",
    "* none type\n",
    "* others"
   ]
  },
  {
   "cell_type": "markdown",
   "id": "c637e7eb",
   "metadata": {},
   "source": [
    "\n",
    "## numeric data:\n",
    "* integers:\n",
    "  Whole numbers without a decimal point\n",
    "  example"
   ]
  },
  {
   "cell_type": "code",
   "execution_count": 5,
   "id": "642017c5",
   "metadata": {},
   "outputs": [],
   "source": [
    "a = 4"
   ]
  },
  {
   "cell_type": "code",
   "execution_count": 6,
   "id": "04d207f3",
   "metadata": {},
   "outputs": [
    {
     "data": {
      "text/plain": [
       "int"
      ]
     },
     "execution_count": 6,
     "metadata": {},
     "output_type": "execute_result"
    }
   ],
   "source": [
    "type(a)"
   ]
  },
  {
   "cell_type": "markdown",
   "id": "ab69503b",
   "metadata": {},
   "source": [
    "* Floats (float):\n",
    "  Numbers with a decimal point or in exponential form.\n",
    "  Example: 3.14, 2.5e2   \n",
    "  (which is equivalent to 250.0)"
   ]
  },
  {
   "cell_type": "code",
   "execution_count": 7,
   "id": "f61ed40a",
   "metadata": {},
   "outputs": [
    {
     "data": {
      "text/plain": [
       "float"
      ]
     },
     "execution_count": 7,
     "metadata": {},
     "output_type": "execute_result"
    }
   ],
   "source": [
    "a = 3.2\n",
    "type(a)"
   ]
  },
  {
   "cell_type": "markdown",
   "id": "f8d3d7d5",
   "metadata": {},
   "source": [
    "## sequence data\n",
    "* string:\n",
    "  Sequences of characters enclosed in single (') or double (\") quotes. \n",
    "  Example: "
   ]
  },
  {
   "cell_type": "code",
   "execution_count": 8,
   "id": "5b006c8f",
   "metadata": {},
   "outputs": [
    {
     "data": {
      "text/plain": [
       "str"
      ]
     },
     "execution_count": 8,
     "metadata": {},
     "output_type": "execute_result"
    }
   ],
   "source": [
    "name=  \"sheema masood\"\n",
    "type(name)"
   ]
  },
  {
   "cell_type": "markdown",
   "id": "8f4afd98",
   "metadata": {},
   "source": [
    "* tuple: \n",
    "  uses ()\n",
    "  Ordered, immutable sequence, \n",
    "  e.g."
   ]
  },
  {
   "cell_type": "code",
   "execution_count": 12,
   "id": "75f1f6c9",
   "metadata": {},
   "outputs": [
    {
     "data": {
      "text/plain": [
       "tuple"
      ]
     },
     "execution_count": 12,
     "metadata": {},
     "output_type": "execute_result"
    }
   ],
   "source": [
    "T = (1,2,3)\n",
    "type(T)"
   ]
  },
  {
   "cell_type": "markdown",
   "id": "f13a7a9b",
   "metadata": {},
   "source": [
    "* list: \n",
    "  \n",
    "  Ordered, mutable sequence, \n",
    "  e.g."
   ]
  },
  {
   "cell_type": "code",
   "execution_count": 13,
   "id": "e2fd3c42",
   "metadata": {},
   "outputs": [
    {
     "data": {
      "text/plain": [
       "list"
      ]
     },
     "execution_count": 13,
     "metadata": {},
     "output_type": "execute_result"
    }
   ],
   "source": [
    "L = [1, 2, 3]\n",
    "type(L)"
   ]
  },
  {
   "cell_type": "markdown",
   "id": "54920075",
   "metadata": {},
   "source": [
    "## Mapping Type:\n",
    "* dict: Dictionary type, a collection of key-value pairs,\n",
    "* A dictionary is an unordered collection of key-value pairs, where each key     must be unique. \n",
    "* It is a highly flexible and versatile data structure that allows you to store   and retrieve values based on their associated keys."
   ]
  },
  {
   "cell_type": "code",
   "execution_count": 19,
   "id": "e098d78f",
   "metadata": {},
   "outputs": [
    {
     "data": {
      "text/plain": [
       "'sheema'"
      ]
     },
     "execution_count": 19,
     "metadata": {},
     "output_type": "execute_result"
    }
   ],
   "source": [
    "my_bio = {\"name\":\"sheema\", \"age\": 23 , \"height\" : 5}\n",
    "#now we can access values using keys\n",
    "my_bio[\"name\"]"
   ]
  },
  {
   "cell_type": "markdown",
   "id": "edc5f944",
   "metadata": {},
   "source": [
    "## None Type:\n",
    "* A special type representing the absence of a value or a null value, usually     denoted as None.\n",
    "   eg :"
   ]
  },
  {
   "cell_type": "code",
   "execution_count": 20,
   "id": "786c5b45",
   "metadata": {},
   "outputs": [
    {
     "data": {
      "text/plain": [
       "NoneType"
      ]
     },
     "execution_count": 20,
     "metadata": {},
     "output_type": "execute_result"
    }
   ],
   "source": [
    " a = None\n",
    "type(a)"
   ]
  },
  {
   "cell_type": "markdown",
   "id": "0d025e56",
   "metadata": {},
   "source": [
    "## Booleans (bool):\n",
    "* Represents either True or False.\n",
    "  eg"
   ]
  },
  {
   "cell_type": "code",
   "execution_count": 21,
   "id": "22f413d7",
   "metadata": {},
   "outputs": [
    {
     "data": {
      "text/plain": [
       "True"
      ]
     },
     "execution_count": 21,
     "metadata": {},
     "output_type": "execute_result"
    }
   ],
   "source": [
    "num = 1\n",
    "num<2\n"
   ]
  },
  {
   "cell_type": "code",
   "execution_count": 22,
   "id": "4ff82839",
   "metadata": {},
   "outputs": [
    {
     "data": {
      "text/plain": [
       "False"
      ]
     },
     "execution_count": 22,
     "metadata": {},
     "output_type": "execute_result"
    }
   ],
   "source": [
    "num =1\n",
    "num >2"
   ]
  },
  {
   "cell_type": "code",
   "execution_count": null,
   "id": "d398d7af",
   "metadata": {},
   "outputs": [],
   "source": []
  }
 ],
 "metadata": {
  "kernelspec": {
   "display_name": "Python 3 (ipykernel)",
   "language": "python",
   "name": "python3"
  },
  "language_info": {
   "codemirror_mode": {
    "name": "ipython",
    "version": 3
   },
   "file_extension": ".py",
   "mimetype": "text/x-python",
   "name": "python",
   "nbconvert_exporter": "python",
   "pygments_lexer": "ipython3",
   "version": "3.11.5"
  }
 },
 "nbformat": 4,
 "nbformat_minor": 5
}
