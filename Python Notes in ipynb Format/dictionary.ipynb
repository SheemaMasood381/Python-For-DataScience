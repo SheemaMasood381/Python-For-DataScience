{
 "cells": [
  {
   "cell_type": "markdown",
   "id": "697e0310",
   "metadata": {},
   "source": [
    "# Dictionary (Mapping data)\n",
    "## Word & Value -> Key and Value -> Key Value pair\n",
    "\n",
    "* a dictionary is a built-in data type that represents a collection of key-value pairs. \n",
    "* It is also sometimes referred to as an associative array or a hash map in other programming languages. (hash convert into numbers)\n",
    "* Dictionaries are mutable, unordered, and can store any data type as values. \n",
    "* Each key in a dictionary must be unique.\n",
    "* denoted by {}\n",
    "* primitive datatypes can be  a key  (except list and dictionary)\n",
    "* value can be any data type\n"
   ]
  },
  {
   "cell_type": "code",
   "execution_count": 1,
   "id": "8b841336",
   "metadata": {},
   "outputs": [
    {
     "data": {
      "text/plain": [
       "dict"
      ]
     },
     "execution_count": 1,
     "metadata": {},
     "output_type": "execute_result"
    }
   ],
   "source": [
    "d= {}\n",
    "type(d)"
   ]
  },
  {
   "cell_type": "code",
   "execution_count": 2,
   "id": "638436b4",
   "metadata": {},
   "outputs": [
    {
     "data": {
      "text/plain": [
       "set"
      ]
     },
     "execution_count": 2,
     "metadata": {},
     "output_type": "execute_result"
    }
   ],
   "source": [
    "d = {1,2,3}\n",
    "type(d)"
   ]
  },
  {
   "cell_type": "code",
   "execution_count": 3,
   "id": "88ded0d8",
   "metadata": {},
   "outputs": [],
   "source": [
    "bio = { \"name\":\"sheema \", \"age\": 25, \"city\" :  \"karachi\"}\n"
   ]
  },
  {
   "cell_type": "markdown",
   "id": "f8838171",
   "metadata": {},
   "source": [
    "## Key characteristics of dictionaries in Python:\n",
    "\n",
    "* Unordered: \n",
    "       The order of items in a dictionary is not guaranteed.the insertion order of items is maintained, but this behavior is considered an implementation detail and should not be relied upon.\n",
    "\n",
    "* Mutable:\n",
    "       You can add, modify, or remove key-value pairs from a dictionary after its creation.\n",
    "\n",
    "* Keys: \n",
    "       Keys must be immutable (strings, numbers, or tuples), and each key in a dictionary must be unique. (List can not be in dictionary)\n",
    "\n",
    "* keys are created.not edited. you can change the key but cant update the old one\n",
    "\n",
    "* Values:\n",
    "        Values can be of any data type, including other dictionaries.\n",
    "        \n",
    "* memberships operators are only applied on keys"
   ]
  },
  {
   "cell_type": "code",
   "execution_count": 4,
   "id": "acdffca1",
   "metadata": {},
   "outputs": [
    {
     "data": {
      "text/plain": [
       "{'salaries': [4000, 5000, 6000]}"
      ]
     },
     "execution_count": 4,
     "metadata": {},
     "output_type": "execute_result"
    }
   ],
   "source": [
    "{\"salaries\" : [4000,5000,6000]}"
   ]
  },
  {
   "cell_type": "code",
   "execution_count": 5,
   "id": "ff1a22e3",
   "metadata": {},
   "outputs": [
    {
     "data": {
      "text/plain": [
       "{'name': 'sheema ', 'age': 25, 'city': 'karachi'}"
      ]
     },
     "execution_count": 5,
     "metadata": {},
     "output_type": "execute_result"
    }
   ],
   "source": [
    "bio"
   ]
  },
  {
   "cell_type": "code",
   "execution_count": 6,
   "id": "4d245488",
   "metadata": {},
   "outputs": [
    {
     "data": {
      "text/plain": [
       "'karachi'"
      ]
     },
     "execution_count": 6,
     "metadata": {},
     "output_type": "execute_result"
    }
   ],
   "source": [
    "bio[\"city\"]"
   ]
  },
  {
   "cell_type": "code",
   "execution_count": 7,
   "id": "36c38699",
   "metadata": {},
   "outputs": [
    {
     "data": {
      "text/plain": [
       "['__class__',\n",
       " '__class_getitem__',\n",
       " '__contains__',\n",
       " '__delattr__',\n",
       " '__delitem__',\n",
       " '__dir__',\n",
       " '__doc__',\n",
       " '__eq__',\n",
       " '__format__',\n",
       " '__ge__',\n",
       " '__getattribute__',\n",
       " '__getitem__',\n",
       " '__getstate__',\n",
       " '__gt__',\n",
       " '__hash__',\n",
       " '__init__',\n",
       " '__init_subclass__',\n",
       " '__ior__',\n",
       " '__iter__',\n",
       " '__le__',\n",
       " '__len__',\n",
       " '__lt__',\n",
       " '__ne__',\n",
       " '__new__',\n",
       " '__or__',\n",
       " '__reduce__',\n",
       " '__reduce_ex__',\n",
       " '__repr__',\n",
       " '__reversed__',\n",
       " '__ror__',\n",
       " '__setattr__',\n",
       " '__setitem__',\n",
       " '__sizeof__',\n",
       " '__str__',\n",
       " '__subclasshook__',\n",
       " 'clear',\n",
       " 'copy',\n",
       " 'fromkeys',\n",
       " 'get',\n",
       " 'items',\n",
       " 'keys',\n",
       " 'pop',\n",
       " 'popitem',\n",
       " 'setdefault',\n",
       " 'update',\n",
       " 'values']"
      ]
     },
     "execution_count": 7,
     "metadata": {},
     "output_type": "execute_result"
    }
   ],
   "source": [
    "dir(dict)"
   ]
  },
  {
   "cell_type": "code",
   "execution_count": 8,
   "id": "9bd25e40",
   "metadata": {},
   "outputs": [
    {
     "data": {
      "text/plain": [
       "dict_keys(['name', 'age', 'city'])"
      ]
     },
     "execution_count": 8,
     "metadata": {},
     "output_type": "execute_result"
    }
   ],
   "source": [
    "#to find keys\n",
    "bio.keys()"
   ]
  },
  {
   "cell_type": "code",
   "execution_count": 9,
   "id": "f696def5",
   "metadata": {},
   "outputs": [
    {
     "data": {
      "text/plain": [
       "dict_values(['sheema ', 25, 'karachi'])"
      ]
     },
     "execution_count": 9,
     "metadata": {},
     "output_type": "execute_result"
    }
   ],
   "source": [
    "#to find values\n",
    "bio.values()"
   ]
  },
  {
   "cell_type": "code",
   "execution_count": 10,
   "id": "062ed57e",
   "metadata": {},
   "outputs": [
    {
     "data": {
      "text/plain": [
       "{'name': 'sheema ', 'age': 25, 'city': 'karachi'}"
      ]
     },
     "execution_count": 10,
     "metadata": {},
     "output_type": "execute_result"
    }
   ],
   "source": [
    "bio"
   ]
  },
  {
   "cell_type": "code",
   "execution_count": 11,
   "id": "ee0657fa",
   "metadata": {},
   "outputs": [
    {
     "data": {
      "text/plain": [
       "{'name': 'sheema ', 'age': 25, 'city': 'karachi', 'school': 'kps'}"
      ]
     },
     "execution_count": 11,
     "metadata": {},
     "output_type": "execute_result"
    }
   ],
   "source": [
    "#to add keys we have to create new\n",
    "bio[\"school\"] = \"kps\"\n",
    "bio"
   ]
  },
  {
   "cell_type": "code",
   "execution_count": 12,
   "id": "7614bdb8",
   "metadata": {},
   "outputs": [
    {
     "data": {
      "text/plain": [
       "{'name': 'sheema ', 'city': 'karachi', 'school': 'kps'}"
      ]
     },
     "execution_count": 12,
     "metadata": {},
     "output_type": "execute_result"
    }
   ],
   "source": [
    "#to remove a key-value pair\n",
    "bio.pop(\"age\")\n",
    "bio"
   ]
  },
  {
   "cell_type": "code",
   "execution_count": 13,
   "id": "6b7e12b0",
   "metadata": {},
   "outputs": [
    {
     "data": {
      "text/plain": [
       "{'name': 'sheema ', 'city': 'karachi', 'school': 'kps', 'age': 25}"
      ]
     },
     "execution_count": 13,
     "metadata": {},
     "output_type": "execute_result"
    }
   ],
   "source": [
    "\n",
    "bio[\"age\"] = 25\n",
    "bio"
   ]
  },
  {
   "cell_type": "markdown",
   "id": "67884660",
   "metadata": {},
   "source": [
    "# applying for loops in dictionary:\n",
    "\n",
    "* by default key will appear in loops\n"
   ]
  },
  {
   "cell_type": "code",
   "execution_count": 14,
   "id": "438f2a47",
   "metadata": {},
   "outputs": [
    {
     "name": "stdout",
     "output_type": "stream",
     "text": [
      "name\n",
      "city\n",
      "school\n",
      "age\n"
     ]
    }
   ],
   "source": [
    "for i in bio:\n",
    "    print(i)"
   ]
  },
  {
   "cell_type": "code",
   "execution_count": 26,
   "id": "fb91670d",
   "metadata": {},
   "outputs": [
    {
     "name": "stdout",
     "output_type": "stream",
     "text": [
      "name sheema \n",
      "city karachi\n",
      "school kps\n",
      "age 25\n"
     ]
    }
   ],
   "source": [
    "for key in bio:               #this is not dictionary just appearing to be\n",
    "    print(key, bio[key])"
   ]
  },
  {
   "cell_type": "code",
   "execution_count": 16,
   "id": "6cb4b2b6",
   "metadata": {},
   "outputs": [
    {
     "name": "stdout",
     "output_type": "stream",
     "text": [
      "sheema \n",
      "karachi\n",
      "kps\n",
      "25\n"
     ]
    }
   ],
   "source": [
    "for v in bio.values():\n",
    "    print(v)"
   ]
  },
  {
   "cell_type": "code",
   "execution_count": 17,
   "id": "eb124e31",
   "metadata": {},
   "outputs": [
    {
     "data": {
      "text/plain": [
       "dict_items([('name', 'sheema '), ('city', 'karachi'), ('school', 'kps'), ('age', 25)])"
      ]
     },
     "execution_count": 17,
     "metadata": {},
     "output_type": "execute_result"
    }
   ],
   "source": [
    "#we can use items method to call out each elements in dictionary\n",
    "bio.items()"
   ]
  },
  {
   "cell_type": "code",
   "execution_count": 18,
   "id": "7557b5cd",
   "metadata": {},
   "outputs": [
    {
     "name": "stdout",
     "output_type": "stream",
     "text": [
      "name sheema \n",
      "city karachi\n",
      "school kps\n",
      "age 25\n"
     ]
    }
   ],
   "source": [
    "for k , v in bio.items():\n",
    "    print(k , v)"
   ]
  },
  {
   "cell_type": "markdown",
   "id": "c5fae465",
   "metadata": {},
   "source": [
    "# Sets\n",
    "* a set is a collection data type that is unordered, mutable, and does not allow duplicate elements. \n",
    "* It is defined by enclosing a comma-separated sequence of elements \n",
    "* within curly braces () \n",
    "* it is particularly useful for tasks that involve membership testing and eliminating duplicate entries.\n",
    "\n",
    "* Here are some key characteristics and operations associated with sets in Python\n",
    "       * unordered-doesnt maintain order for data insertion\n",
    "       * mutable- can be modified\n",
    "       * heterogenous - may conatin all types of data\n",
    "       * uniques - doesnt allow duplicate elemnets\n",
    "       \n",
    "\n",
    "\n"
   ]
  },
  {
   "cell_type": "code",
   "execution_count": 19,
   "id": "d661d0e9",
   "metadata": {},
   "outputs": [
    {
     "data": {
      "text/plain": [
       "{1, 2, 3, 4, 5}"
      ]
     },
     "execution_count": 19,
     "metadata": {},
     "output_type": "execute_result"
    }
   ],
   "source": [
    "## creating a set:\n",
    "num ={1,2,3,4,5}\n",
    "num"
   ]
  },
  {
   "cell_type": "code",
   "execution_count": 20,
   "id": "bb61c4e9",
   "metadata": {},
   "outputs": [
    {
     "data": {
      "text/plain": [
       "{1, 2, 3, 4, 5, 6}"
      ]
     },
     "execution_count": 20,
     "metadata": {},
     "output_type": "execute_result"
    }
   ],
   "source": [
    "#Adding Elements: You can add elements to a set using the add() method.\n",
    "num.add(6) \n",
    "num"
   ]
  },
  {
   "cell_type": "code",
   "execution_count": 21,
   "id": "a627af00",
   "metadata": {},
   "outputs": [],
   "source": [
    "#Removing Elements: You can remove elements from a set using the remove() or discard() method. \n",
    "#The remove() method raises a KeyError if the element is not present, while discard() does not.\n",
    "num.remove(3)\n",
    "num.discard(7)"
   ]
  },
  {
   "cell_type": "code",
   "execution_count": 22,
   "id": "88e13cfb",
   "metadata": {},
   "outputs": [
    {
     "data": {
      "text/plain": [
       "{1, 2, 4, 5, 6}"
      ]
     },
     "execution_count": 22,
     "metadata": {},
     "output_type": "execute_result"
    }
   ],
   "source": [
    "num"
   ]
  },
  {
   "cell_type": "markdown",
   "id": "f2bdd7f9",
   "metadata": {},
   "source": [
    "# Set Operations:\n",
    "* Sets support various operations like \n",
    "       * union (|), \n",
    "       * intersection (&), \n",
    "       * difference (-), \n",
    "       * symmetric difference (^), etc.\n",
    "\n",
    "## Union\n",
    "      union_set = my_set | another_set\n",
    "\n",
    "## Intersection\n",
    "      intersection_set = my_set & another_set\n",
    "\n",
    "## Difference\n",
    "       difference_set = my_set - another_set\n",
    "\n",
    "## Symmetric difference\n",
    "       symmetric_difference_set = my_set ^ another_set"
   ]
  },
  {
   "cell_type": "code",
   "execution_count": 23,
   "id": "cf965a8a",
   "metadata": {},
   "outputs": [
    {
     "data": {
      "text/plain": [
       "True"
      ]
     },
     "execution_count": 23,
     "metadata": {},
     "output_type": "execute_result"
    }
   ],
   "source": [
    "#Membership: You can check if an element is in a set using the in keyword.\n",
    "5 in num"
   ]
  },
  {
   "cell_type": "code",
   "execution_count": 24,
   "id": "831582e7",
   "metadata": {},
   "outputs": [
    {
     "name": "stdout",
     "output_type": "stream",
     "text": [
      "5\n"
     ]
    }
   ],
   "source": [
    "#Length of a Set: You can find the number of elements in a set using the len() function.\n",
    "print(len(num))"
   ]
  },
  {
   "cell_type": "code",
   "execution_count": 25,
   "id": "ba56af6e",
   "metadata": {},
   "outputs": [
    {
     "name": "stdout",
     "output_type": "stream",
     "text": [
      "1\n",
      "2\n",
      "4\n",
      "5\n",
      "6\n"
     ]
    }
   ],
   "source": [
    "#Iterating Over Sets: You can iterate over the elements of a set using a for loop.\n",
    "for i in num:\n",
    "    print(i)"
   ]
  },
  {
   "cell_type": "markdown",
   "id": "1a76f51f",
   "metadata": {},
   "source": [
    "# zip() \n",
    "*  is a built-in function that is used to combine multiple iterables (lists, tuples, etc.)  \n",
    "   element-wise. \n",
    "* It takes iterables as input and returns an iterator of tuples where the i-th tuple contains \n",
    "  the i-th element from each of the input iterables.\n",
    "\n",
    "* It's important to note that if the input iterables are of different lengths, zip() stops as \n",
    "  soon as the shortest iterable is exhausted. This means that any extra elements in longer \n",
    "  iterables are ignored."
   ]
  },
  {
   "cell_type": "code",
   "execution_count": 4,
   "id": "058a9917",
   "metadata": {},
   "outputs": [],
   "source": [
    "#example of how zip() works:\n",
    "\n",
    "list1 = [1, 2, 3]\n",
    "list2 = ['a', 'b', 'c']\n",
    "list3 = [10, 20, 30]\n",
    "\n",
    "\n",
    "# Using zip to combine lists element-wise\n",
    "\n",
    "zipped_lists = zip(list1, list2, list3)"
   ]
  },
  {
   "cell_type": "code",
   "execution_count": 6,
   "id": "8932c488",
   "metadata": {},
   "outputs": [
    {
     "data": {
      "text/plain": [
       "<zip at 0x1a545d69640>"
      ]
     },
     "execution_count": 6,
     "metadata": {},
     "output_type": "execute_result"
    }
   ],
   "source": [
    "zipped_lists"
   ]
  },
  {
   "cell_type": "code",
   "execution_count": 7,
   "id": "3b57d90e",
   "metadata": {},
   "outputs": [],
   "source": [
    "# Converting the iterator to a list\n",
    "result = list(zipped_lists)"
   ]
  },
  {
   "cell_type": "code",
   "execution_count": 8,
   "id": "3caf492b",
   "metadata": {},
   "outputs": [
    {
     "data": {
      "text/plain": [
       "[(1, 'a', 10), (2, 'b', 20), (3, 'c', 30)]"
      ]
     },
     "execution_count": 8,
     "metadata": {},
     "output_type": "execute_result"
    }
   ],
   "source": [
    "result"
   ]
  },
  {
   "cell_type": "markdown",
   "id": "ac0153c0",
   "metadata": {},
   "source": [
    "### In this example, zip() combines the elements of list1, list2, and list3 into tuples, creating a new list of tuples where each tuple contains elements from the corresponding positions of the input lists."
   ]
  }
 ],
 "metadata": {
  "kernelspec": {
   "display_name": "Python 3 (ipykernel)",
   "language": "python",
   "name": "python3"
  },
  "language_info": {
   "codemirror_mode": {
    "name": "ipython",
    "version": 3
   },
   "file_extension": ".py",
   "mimetype": "text/x-python",
   "name": "python",
   "nbconvert_exporter": "python",
   "pygments_lexer": "ipython3",
   "version": "3.11.5"
  }
 },
 "nbformat": 4,
 "nbformat_minor": 5
}
