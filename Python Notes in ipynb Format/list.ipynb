{
 "cells": [
  {
   "cell_type": "markdown",
   "id": "934e6a06",
   "metadata": {},
   "source": [
    "# List\n",
    "* a list is a versatile and mutable data structure that allows you to store and organize a collection of point values.\n",
    "* These items can be of any data type, including numbers, strings, or even other lists. \n",
    "* Lists are defined by enclosing the elements in square brackets [] and separating them with commas. \n",
    "* example"
   ]
  },
  {
   "cell_type": "code",
   "execution_count": 43,
   "id": "e1489550",
   "metadata": {},
   "outputs": [],
   "source": [
    "num = [1,2,3,4,5]"
   ]
  },
  {
   "cell_type": "code",
   "execution_count": 44,
   "id": "e43e4108",
   "metadata": {},
   "outputs": [
    {
     "data": {
      "text/plain": [
       "[1, 2, 3, 4, 5]"
      ]
     },
     "execution_count": 44,
     "metadata": {},
     "output_type": "execute_result"
    }
   ],
   "source": [
    "num"
   ]
  },
  {
   "cell_type": "markdown",
   "id": "6d59d75c",
   "metadata": {},
   "source": [
    "# characteristics of list\n",
    " ## Mutable:\n",
    " can be modified , updated with built in methods in directory ,dir \n",
    " * example:"
   ]
  },
  {
   "cell_type": "code",
   "execution_count": 3,
   "id": "99619d98",
   "metadata": {},
   "outputs": [
    {
     "data": {
      "text/plain": [
       "['__add__',\n",
       " '__class__',\n",
       " '__class_getitem__',\n",
       " '__contains__',\n",
       " '__delattr__',\n",
       " '__delitem__',\n",
       " '__dir__',\n",
       " '__doc__',\n",
       " '__eq__',\n",
       " '__format__',\n",
       " '__ge__',\n",
       " '__getattribute__',\n",
       " '__getitem__',\n",
       " '__getstate__',\n",
       " '__gt__',\n",
       " '__hash__',\n",
       " '__iadd__',\n",
       " '__imul__',\n",
       " '__init__',\n",
       " '__init_subclass__',\n",
       " '__iter__',\n",
       " '__le__',\n",
       " '__len__',\n",
       " '__lt__',\n",
       " '__mul__',\n",
       " '__ne__',\n",
       " '__new__',\n",
       " '__reduce__',\n",
       " '__reduce_ex__',\n",
       " '__repr__',\n",
       " '__reversed__',\n",
       " '__rmul__',\n",
       " '__setattr__',\n",
       " '__setitem__',\n",
       " '__sizeof__',\n",
       " '__str__',\n",
       " '__subclasshook__',\n",
       " 'append',\n",
       " 'clear',\n",
       " 'copy',\n",
       " 'count',\n",
       " 'extend',\n",
       " 'index',\n",
       " 'insert',\n",
       " 'pop',\n",
       " 'remove',\n",
       " 'reverse',\n",
       " 'sort']"
      ]
     },
     "execution_count": 3,
     "metadata": {},
     "output_type": "execute_result"
    }
   ],
   "source": [
    "dir(list)"
   ]
  },
  {
   "cell_type": "markdown",
   "id": "d44c7ad9",
   "metadata": {},
   "source": [
    "### lets apply some methods\n",
    "* append can add single element at the last of the list\n",
    "* extend can add the more than one elements in the end of the list\n",
    "* remove works with the value of the element\n",
    "* del works with the index of the element\n"
   ]
  },
  {
   "cell_type": "code",
   "execution_count": 45,
   "id": "50e67554",
   "metadata": {},
   "outputs": [],
   "source": [
    "num.append(6)"
   ]
  },
  {
   "cell_type": "code",
   "execution_count": 46,
   "id": "aeec0007",
   "metadata": {},
   "outputs": [
    {
     "data": {
      "text/plain": [
       "[1, 2, 3, 4, 5, 6]"
      ]
     },
     "execution_count": 46,
     "metadata": {},
     "output_type": "execute_result"
    }
   ],
   "source": [
    "num"
   ]
  },
  {
   "cell_type": "code",
   "execution_count": 47,
   "id": "88d0ac63",
   "metadata": {},
   "outputs": [],
   "source": [
    "num.extend([7,8,9])"
   ]
  },
  {
   "cell_type": "code",
   "execution_count": 48,
   "id": "6a1fc579",
   "metadata": {},
   "outputs": [
    {
     "data": {
      "text/plain": [
       "[1, 2, 3, 4, 5, 6, 7, 8, 9]"
      ]
     },
     "execution_count": 48,
     "metadata": {},
     "output_type": "execute_result"
    }
   ],
   "source": [
    "num"
   ]
  },
  {
   "cell_type": "code",
   "execution_count": 49,
   "id": "cf30b813",
   "metadata": {},
   "outputs": [],
   "source": [
    "num.remove(9)"
   ]
  },
  {
   "cell_type": "code",
   "execution_count": 50,
   "id": "b8ed2f2e",
   "metadata": {},
   "outputs": [
    {
     "data": {
      "text/plain": [
       "[1, 2, 3, 4, 5, 6, 7, 8]"
      ]
     },
     "execution_count": 50,
     "metadata": {},
     "output_type": "execute_result"
    }
   ],
   "source": [
    "num"
   ]
  },
  {
   "cell_type": "code",
   "execution_count": 52,
   "id": "36496c67",
   "metadata": {},
   "outputs": [],
   "source": [
    "num.insert([4],5)"
   ]
  },
  {
   "cell_type": "code",
   "execution_count": 53,
   "id": "309a63f2",
   "metadata": {},
   "outputs": [
    {
     "data": {
      "text/plain": [
       "[1, 2, 3, 4, 5, 5, 6, 7, 8]"
      ]
     },
     "execution_count": 53,
     "metadata": {},
     "output_type": "execute_result"
    }
   ],
   "source": [
    "num"
   ]
  },
  {
   "cell_type": "code",
   "execution_count": 78,
   "id": "9bcc2635",
   "metadata": {},
   "outputs": [],
   "source": [
    "del num[0]"
   ]
  },
  {
   "cell_type": "code",
   "execution_count": 79,
   "id": "f6a1bf15",
   "metadata": {},
   "outputs": [
    {
     "data": {
      "text/plain": [
       "[2, 2, 3, 4, 5, 5, 6, 7, 8]"
      ]
     },
     "execution_count": 79,
     "metadata": {},
     "output_type": "execute_result"
    }
   ],
   "source": [
    "num"
   ]
  },
  {
   "cell_type": "markdown",
   "id": "2060e6fa",
   "metadata": {},
   "source": [
    "## heterogenous\n",
    " * lists are heterogenous, may contain elements of different data types\n",
    " eg:list, string , integers etc\n",
    " \n",
    " example:\n",
    " "
   ]
  },
  {
   "cell_type": "code",
   "execution_count": 4,
   "id": "3b98d12b",
   "metadata": {},
   "outputs": [],
   "source": [
    "st1 = ['aamir', 25 , 5.2, ]"
   ]
  },
  {
   "cell_type": "code",
   "execution_count": 5,
   "id": "497e8b7a",
   "metadata": {},
   "outputs": [
    {
     "data": {
      "text/plain": [
       "['aamir', 25, 5.2]"
      ]
     },
     "execution_count": 5,
     "metadata": {},
     "output_type": "execute_result"
    }
   ],
   "source": [
    "st1              #represents name, age, height i.e str, int, float respectively"
   ]
  },
  {
   "cell_type": "code",
   "execution_count": 7,
   "id": "458c6133",
   "metadata": {},
   "outputs": [
    {
     "name": "stdout",
     "output_type": "stream",
     "text": [
      "<class 'str'>\n",
      "<class 'int'>\n",
      "<class 'float'>\n"
     ]
    }
   ],
   "source": [
    "print(type(st1[0]))\n",
    "print(type(st1[1]))\n",
    "print(type(st1[2]))"
   ]
  },
  {
   "cell_type": "markdown",
   "id": "d2fa07ee",
   "metadata": {},
   "source": [
    "## Indexing\n",
    " * position of an element in the list\n",
    " * we can access the individual element in the list due to its unique index (position)\n",
    " * python uses zero index language (starts from 0)\n",
    " * uses [] to access the single element with its position in between\n",
    " \n",
    " \n",
    " ### positive indexing\n",
    " * left to right\n",
    " * strats from 0 , and so on (forward)\n",
    " ### negative indexing \n",
    " * right to left\n",
    " * starts from -1 and backwards"
   ]
  },
  {
   "cell_type": "code",
   "execution_count": 56,
   "id": "63fde374",
   "metadata": {},
   "outputs": [
    {
     "data": {
      "text/plain": [
       "[1, 2, 3, 4, 5, 5, 6, 7, 8]"
      ]
     },
     "execution_count": 56,
     "metadata": {},
     "output_type": "execute_result"
    }
   ],
   "source": [
    "num"
   ]
  },
  {
   "cell_type": "code",
   "execution_count": 58,
   "id": "85e15100",
   "metadata": {},
   "outputs": [
    {
     "name": "stdout",
     "output_type": "stream",
     "text": [
      "1\n"
     ]
    },
    {
     "data": {
      "text/plain": [
       "7"
      ]
     },
     "execution_count": 58,
     "metadata": {},
     "output_type": "execute_result"
    }
   ],
   "source": [
    "print(num[0])\n",
    "num[-2]"
   ]
  },
  {
   "cell_type": "code",
   "execution_count": 66,
   "id": "fe7eefad",
   "metadata": {},
   "outputs": [
    {
     "data": {
      "text/plain": [
       "[1, 2, 2, 2, 3, 4, 5, 5, 6, 7, 8]"
      ]
     },
     "execution_count": 66,
     "metadata": {},
     "output_type": "execute_result"
    }
   ],
   "source": [
    "          #lets suppose we have to insert 2 in thr the list\n",
    "\n",
    "num.insert(1,2)        #here we used indexing to romeve the \n",
    "                          #referred elemnt in the list\n",
    "num"
   ]
  },
  {
   "cell_type": "code",
   "execution_count": 67,
   "id": "706ee821",
   "metadata": {},
   "outputs": [],
   "source": [
    "del num[2]         # here we used the element itself to delete"
   ]
  },
  {
   "cell_type": "code",
   "execution_count": 68,
   "id": "69f865df",
   "metadata": {},
   "outputs": [
    {
     "data": {
      "text/plain": [
       "[1, 2, 2, 3, 4, 5, 5, 6, 7, 8]"
      ]
     },
     "execution_count": 68,
     "metadata": {},
     "output_type": "execute_result"
    }
   ],
   "source": [
    "num"
   ]
  },
  {
   "cell_type": "markdown",
   "id": "3c9bc703",
   "metadata": {},
   "source": [
    "## length\n",
    "\n",
    "* we can find the length of the list with len function\n",
    "example"
   ]
  },
  {
   "cell_type": "code",
   "execution_count": 69,
   "id": "12c5104a",
   "metadata": {},
   "outputs": [
    {
     "data": {
      "text/plain": [
       "10"
      ]
     },
     "execution_count": 69,
     "metadata": {},
     "output_type": "execute_result"
    }
   ],
   "source": [
    "len(num)"
   ]
  },
  {
   "cell_type": "markdown",
   "id": "3e239f37",
   "metadata": {},
   "source": [
    "## memberships\n",
    "\n",
    "* we can find the presence and absence of an elemnts with this keyword\n",
    "* in\n",
    "* not in\n",
    "\n",
    "\n",
    "example\n"
   ]
  },
  {
   "cell_type": "code",
   "execution_count": 70,
   "id": "b70ec9ba",
   "metadata": {},
   "outputs": [
    {
     "data": {
      "text/plain": [
       "True"
      ]
     },
     "execution_count": 70,
     "metadata": {},
     "output_type": "execute_result"
    }
   ],
   "source": [
    "4 in num"
   ]
  },
  {
   "cell_type": "code",
   "execution_count": 73,
   "id": "5ea335d8",
   "metadata": {},
   "outputs": [
    {
     "data": {
      "text/plain": [
       "False"
      ]
     },
     "execution_count": 73,
     "metadata": {},
     "output_type": "execute_result"
    }
   ],
   "source": [
    "44 in num                      #bool data type"
   ]
  },
  {
   "cell_type": "code",
   "execution_count": 72,
   "id": "420d9981",
   "metadata": {},
   "outputs": [
    {
     "data": {
      "text/plain": [
       "True"
      ]
     },
     "execution_count": 72,
     "metadata": {},
     "output_type": "execute_result"
    }
   ],
   "source": [
    "44 not in num"
   ]
  },
  {
   "cell_type": "markdown",
   "id": "da3ef948",
   "metadata": {},
   "source": [
    "## slicing\n",
    "* continuous part of the list\n",
    "* create a new list.\n",
    "* Use the colon : to specify a range of indices.\n",
    "* The syntax is sarting_index : end_index\n",
    "* it includes elements from start_index to end index , escluding the elements  end_index \n",
    "\n",
    "For example:"
   ]
  },
  {
   "cell_type": "code",
   "execution_count": 75,
   "id": "f032b29f",
   "metadata": {},
   "outputs": [],
   "source": [
    "slice_of_num = num[2:-1]\n"
   ]
  },
  {
   "cell_type": "code",
   "execution_count": 77,
   "id": "b99cd991",
   "metadata": {},
   "outputs": [
    {
     "data": {
      "text/plain": [
       "[2, 3, 4, 5, 5, 6, 7]"
      ]
     },
     "execution_count": 77,
     "metadata": {},
     "output_type": "execute_result"
    }
   ],
   "source": [
    "slice_of_num"
   ]
  },
  {
   "cell_type": "markdown",
   "id": "f07fd7e5",
   "metadata": {},
   "source": [
    "# list of lists (nested list)"
   ]
  },
  {
   "cell_type": "code",
   "execution_count": 109,
   "id": "f45dd4b0",
   "metadata": {},
   "outputs": [],
   "source": [
    "st1 =[\"aamir\", \"DS\", 100 ]\n",
    "st2 =[\"beenish\", \"DS\", 100]\n"
   ]
  },
  {
   "cell_type": "code",
   "execution_count": 110,
   "id": "3c23908d",
   "metadata": {},
   "outputs": [],
   "source": [
    "students= [st1 , st2, [\"daanish\", \"DS\", 100]]"
   ]
  },
  {
   "cell_type": "code",
   "execution_count": 111,
   "id": "24768e39",
   "metadata": {},
   "outputs": [
    {
     "data": {
      "text/plain": [
       "[['aamir', 'DS', 100], ['beenish', 'DS', 100], ['daanish', 'DS', 100]]"
      ]
     },
     "execution_count": 111,
     "metadata": {},
     "output_type": "execute_result"
    }
   ],
   "source": [
    "students"
   ]
  },
  {
   "cell_type": "code",
   "execution_count": 112,
   "id": "6ba1980d",
   "metadata": {},
   "outputs": [
    {
     "data": {
      "text/plain": [
       "3"
      ]
     },
     "execution_count": 112,
     "metadata": {},
     "output_type": "execute_result"
    }
   ],
   "source": [
    "len(students)"
   ]
  },
  {
   "cell_type": "code",
   "execution_count": 113,
   "id": "cde4815a",
   "metadata": {},
   "outputs": [],
   "source": [
    "students = [students , [\"fasih\", \"DS\"  , 100]]"
   ]
  },
  {
   "cell_type": "code",
   "execution_count": 114,
   "id": "4d401797",
   "metadata": {},
   "outputs": [
    {
     "data": {
      "text/plain": [
       "[[['aamir', 'DS', 100], ['beenish', 'DS', 100], ['daanish', 'DS', 100]],\n",
       " ['fasih', 'DS', 100]]"
      ]
     },
     "execution_count": 114,
     "metadata": {},
     "output_type": "execute_result"
    }
   ],
   "source": [
    "students"
   ]
  },
  {
   "cell_type": "code",
   "execution_count": null,
   "id": "a322d006",
   "metadata": {},
   "outputs": [],
   "source": [
    "#to extract list from a list of list\n",
    "use index of the list\n",
    "example\n"
   ]
  },
  {
   "cell_type": "code",
   "execution_count": 115,
   "id": "94be3ddb",
   "metadata": {},
   "outputs": [
    {
     "data": {
      "text/plain": [
       "['fasih', 'DS', 100]"
      ]
     },
     "execution_count": 115,
     "metadata": {},
     "output_type": "execute_result"
    }
   ],
   "source": [
    "students[1]"
   ]
  },
  {
   "cell_type": "markdown",
   "id": "ef06aed2",
   "metadata": {},
   "source": [
    "#extract single elemnts from the list which is present in the nested list\n",
    "\n",
    "#use index to access the list then again use index to access element\n",
    "\n",
    "example\n"
   ]
  },
  {
   "cell_type": "code",
   "execution_count": 117,
   "id": "ee116dcf",
   "metadata": {},
   "outputs": [
    {
     "data": {
      "text/plain": [
       "'fasih'"
      ]
     },
     "execution_count": 117,
     "metadata": {},
     "output_type": "execute_result"
    }
   ],
   "source": [
    "students[1][0]"
   ]
  },
  {
   "cell_type": "markdown",
   "id": "ca1f4166",
   "metadata": {},
   "source": []
  }
 ],
 "metadata": {
  "kernelspec": {
   "display_name": "Python 3 (ipykernel)",
   "language": "python",
   "name": "python3"
  },
  "language_info": {
   "codemirror_mode": {
    "name": "ipython",
    "version": 3
   },
   "file_extension": ".py",
   "mimetype": "text/x-python",
   "name": "python",
   "nbconvert_exporter": "python",
   "pygments_lexer": "ipython3",
   "version": "3.11.5"
  }
 },
 "nbformat": 4,
 "nbformat_minor": 5
}
