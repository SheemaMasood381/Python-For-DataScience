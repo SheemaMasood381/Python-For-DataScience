{
 "cells": [
  {
   "cell_type": "markdown",
   "id": "709b9df6",
   "metadata": {},
   "source": [
    "# functions:\n",
    "* a function is a block of reusable code that performs a specific task. \n",
    "\n",
    "* Python functions can take parameters as inputs and return values as outputs, although both are optional.\n",
    "\n",
    "* Functions allow you to organize code into logical units, making it easier to read, understand, and maintain. They promote code reuse and modularity, enabling you to use the same piece of code multiple times without repetition.\n",
    "\n",
    "Here's how you define a function in Python:\n",
    "## def:\n",
    "     *  It's a keyword used to define a function.\n",
    "     \n",
    "## function_name: \n",
    "     *  It's the name of the function. \n",
    "     *  Choose a descriptive name that reflects what the function does. \n",
    "     *  Follow Python's naming conventions (lowercase with underscores \n",
    "        for readability).\n",
    "        \n",
    "## parameters: \n",
    "     *  These are optional inputs that the function can accept.\n",
    "     *  Parameters are variables used to pass data into the function. \n",
    "     *  A function can have zero or more parameters.\n",
    "     \n",
    "## Docstring: \n",
    "     *  It's a string literal that provides documentation about the function.\n",
    "     *  It's enclosed in triple quotes (\"\"\" \"\"\"). \n",
    "     *  It describes what the function does, its parameters, and return values.      *  Good documentation helps other developers understand how to use\n",
    "        the function.\n",
    "        \n",
    "## Function body: \n",
    "     *  It consists of the code that defines what the function does. \n",
    "     *  It can include any valid Python code, such as variable assignments, \n",
    "        conditional statements, loops, and function calls.\n",
    "        \n",
    "## Return statement:\n",
    "     *  It specifies the value(s) that the function should return to the \n",
    "        caller. \n",
    "     *  The return statement is optional. If omitted, the function returns \n",
    "        None. \n",
    "     *  You can return single values, multiple values (as a tuple), or even\n",
    "         complex data structures.\n",
    "        \n",
    "\n",
    "* Functions are a fundamental concept in Python programming and are widely used across various domains, including data science, software development, and automation. \n",
    "* They help in writing clean, modular, and maintainable code."
   ]
  },
  {
   "cell_type": "code",
   "execution_count": 1,
   "id": "4f200ae5",
   "metadata": {},
   "outputs": [],
   "source": [
    "# Here's a example of a function that calculates the square of a number:\n",
    "def square(num):\n",
    " \"\"\"calculate the square of number\"\"\"\n",
    " return num * num\n"
   ]
  },
  {
   "cell_type": "code",
   "execution_count": 2,
   "id": "8ef0a146",
   "metadata": {},
   "outputs": [
    {
     "data": {
      "text/plain": [
       "25"
      ]
     },
     "execution_count": 2,
     "metadata": {},
     "output_type": "execute_result"
    }
   ],
   "source": [
    "square(5)"
   ]
  },
  {
   "cell_type": "markdown",
   "id": "b24b9989",
   "metadata": {},
   "source": [
    "# classes :\n",
    "\n",
    "     *  a class is a blueprint for creating objects (instances) that share common attributes \n",
    "        and behaviors.\n",
    "     *  Classes provide a way to organize and structure code in a more modular and reusable manner.\n",
    "     *  They are fundamental to object-oriented programming (OOP) in Python and allow you to model \n",
    "         real-world entities and concepts more effectively."
   ]
  },
  {
   "cell_type": "markdown",
   "id": "49c7b4de",
   "metadata": {},
   "source": [
    "Let's break down the components:\n",
    "\n",
    "## class: \n",
    "     *  It's a keyword used to define a class.\n",
    "     \n",
    "## ClassName:\n",
    "     *  It's the name of the class. Follow Python's naming conventions\n",
    "        (capitalize the first letter of each word in the name).\n",
    "        \n",
    "## Docstring: \n",
    "     *  It's an optional string literal that provides documentation about the class.\n",
    "     \n",
    "## Class attributes: \n",
    "     *  These are variables that are shared by all instances of the class.\n",
    "     *  They are defined directly within the class body and are accessed using the class name.\n",
    "     \n",
    "## Constructor method (__init__): \n",
    "     *  It's a special method used for initializing objects when they are created. \n",
    "     *  It's called automatically when a new instance of the class is created. \n",
    "     *   The self parameter represents the instance itself.\n",
    "     \n",
    "## Instance attributes: \n",
    "     *   These are variables specific to each instance of the class. \n",
    "     *   They are initialized within the __init__ method using the self keyword.\n",
    "     \n",
    "## Instance methods: \n",
    "     *   These are functions defined inside a class that operate on its instances. \n",
    "     *   They take self as the first parameter, which refers to the instance itself."
   ]
  },
  {
   "cell_type": "code",
   "execution_count": null,
   "id": "40d1a9ac",
   "metadata": {},
   "outputs": [],
   "source": []
  },
  {
   "cell_type": "code",
   "execution_count": null,
   "id": "6db9eb91",
   "metadata": {},
   "outputs": [],
   "source": []
  },
  {
   "cell_type": "code",
   "execution_count": null,
   "id": "ed70f733",
   "metadata": {},
   "outputs": [],
   "source": []
  },
  {
   "cell_type": "code",
   "execution_count": null,
   "id": "13cfbf09",
   "metadata": {},
   "outputs": [],
   "source": []
  },
  {
   "cell_type": "code",
   "execution_count": null,
   "id": "a5b866bf",
   "metadata": {},
   "outputs": [],
   "source": []
  },
  {
   "cell_type": "code",
   "execution_count": null,
   "id": "f5866295",
   "metadata": {},
   "outputs": [],
   "source": []
  },
  {
   "cell_type": "code",
   "execution_count": null,
   "id": "70d6fae4",
   "metadata": {},
   "outputs": [],
   "source": []
  },
  {
   "cell_type": "code",
   "execution_count": null,
   "id": "20518f3b",
   "metadata": {},
   "outputs": [],
   "source": []
  }
 ],
 "metadata": {
  "kernelspec": {
   "display_name": "Python 3 (ipykernel)",
   "language": "python",
   "name": "python3"
  },
  "language_info": {
   "codemirror_mode": {
    "name": "ipython",
    "version": 3
   },
   "file_extension": ".py",
   "mimetype": "text/x-python",
   "name": "python",
   "nbconvert_exporter": "python",
   "pygments_lexer": "ipython3",
   "version": "3.11.5"
  }
 },
 "nbformat": 4,
 "nbformat_minor": 5
}
